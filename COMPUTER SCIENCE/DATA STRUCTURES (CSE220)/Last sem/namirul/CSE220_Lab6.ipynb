{
 "cells": [
  {
   "cell_type": "code",
   "execution_count": 6,
   "metadata": {},
   "outputs": [
    {
     "name": "stdout",
     "output_type": "stream",
     "text": [
      "[2, 3, 5, 6, 8, 9]\n"
     ]
    }
   ],
   "source": [
    "# Question 1\n",
    "\n",
    "def min_ind(arr, min_num_idx, j):\n",
    "    if(j == len(arr)):\n",
    "        return min_num_idx\n",
    "    elif(arr[j] < arr[min_num_idx]):\n",
    "        min_num_idx = j\n",
    "        return min_ind(arr, min_num_idx, j+1)\n",
    "    else:\n",
    "        j = j + 1\n",
    "        return min_ind(arr, min_num_idx, j)\n",
    "\n",
    "def selectionSort(arr, i):\n",
    "    if(i == len(arr)-1):\n",
    "        return arr\n",
    "    else:\n",
    "        min_num_idx = min_ind(arr, i, i)\n",
    "        temp = arr[i]\n",
    "        arr[i] = arr[min_num_idx]\n",
    "        arr[min_num_idx] = temp\n",
    "        return selectionSort(arr, i+1)\n",
    "        \n",
    "arr = [5, 2, 3, 6, 9, 8]\n",
    "print(selectionSort(arr, 0))"
   ]
  },
  {
   "cell_type": "code",
   "execution_count": 2,
   "metadata": {},
   "outputs": [
    {
     "name": "stdout",
     "output_type": "stream",
     "text": [
      "[2, 3, 5, 6, 8, 9]\n"
     ]
    }
   ],
   "source": [
    "# Question 2\n",
    "def shift(arr, j, key):\n",
    "    if(j >= 0 and arr[j] > key):\n",
    "        arr[j+1] = arr[j]\n",
    "        j = j - 1\n",
    "        return shift(arr, j, key)\n",
    "    else:\n",
    "        return j\n",
    "\n",
    "def insertionSort(arr, i):\n",
    "    if(i == len(arr)):\n",
    "        return arr\n",
    "    else:\n",
    "        key = arr[i]\n",
    "        j = i-1\n",
    "        shifted_pos = shift(arr, j, key)\n",
    "        arr[shifted_pos+1] = key\n",
    "        return insertionSort(arr, i+1)\n",
    "    \n",
    "arr = [5, 2, 3, 6, 9, 8]\n",
    "print(insertionSort(arr, 1))"
   ]
  },
  {
   "cell_type": "code",
   "execution_count": 4,
   "metadata": {},
   "outputs": [
    {
     "name": "stdout",
     "output_type": "stream",
     "text": [
      "2\n",
      "3\n",
      "5\n",
      "6\n",
      "8\n",
      "9\n"
     ]
    }
   ],
   "source": [
    "# Question 3\n",
    "\n",
    "class Node:\n",
    "    def __init__(self, data, nextAdd):\n",
    "        self.data = data\n",
    "        self.next = nextAdd\n",
    "        \n",
    "class SinglyLinkedList:\n",
    "    def __init__(self, arr):\n",
    "        self.head = None\n",
    "        tail = None\n",
    "        for i in range(len(arr)):\n",
    "            newNode = Node(arr[i], None)\n",
    "            if(self.head == None):\n",
    "                self.head = newNode\n",
    "                tail = newNode\n",
    "            else:\n",
    "                tail.next = newNode\n",
    "                tail = newNode\n",
    "                \n",
    "def bubbleSort(head):\n",
    "    cHead = head\n",
    "    cTail = cHead\n",
    "    lastAdd = None\n",
    "    \n",
    "    l = 0\n",
    "    while(cHead != None):\n",
    "        l += 1\n",
    "        cHead = cHead.next\n",
    "    cHead = head\n",
    "    \n",
    "    for i in range(l):\n",
    "        while(cTail.next != lastAdd):\n",
    "            if(cTail.data > cTail.next.data):\n",
    "                temp = cTail.data\n",
    "                cTail.data = cTail.next.data\n",
    "                cTail.next.data = temp\n",
    "            cTail = cTail.next\n",
    "        lastAdd = cTail.next\n",
    "        cTail = cHead\n",
    "            \n",
    "    while(cHead != None):\n",
    "        print(cHead.data)\n",
    "        cHead = cHead.next\n",
    "        \n",
    "arr = [5, 8, 3, 6, 9, 2]\n",
    "newList = SinglyLinkedList(arr)\n",
    "bubbleSort(newList.head)"
   ]
  },
  {
   "cell_type": "code",
   "execution_count": 27,
   "metadata": {},
   "outputs": [
    {
     "name": "stdout",
     "output_type": "stream",
     "text": [
      "2\n",
      "3\n",
      "5\n",
      "6\n",
      "8\n",
      "9\n"
     ]
    }
   ],
   "source": [
    "# Question 4 complete\n",
    "\n",
    "class Node:\n",
    "    def __init__(self, data, nextAdd):\n",
    "        self.data = data\n",
    "        self.next = nextAdd\n",
    "        \n",
    "class SinglyLinkedList:\n",
    "    def __init__(self, arr):\n",
    "        self.head = None\n",
    "        tail = None\n",
    "        for i in range(len(arr)):\n",
    "            newNode = Node(arr[i], None)\n",
    "            if(self.head == None):\n",
    "                self.head = newNode\n",
    "                tail = newNode\n",
    "            else:\n",
    "                tail.next = newNode\n",
    "                tail = newNode\n",
    "                \n",
    "\n",
    "def selectionSort(head):\n",
    "    newHead = head\n",
    "    newTail = newHead.next\n",
    "    minNode = newHead\n",
    "\n",
    "    while(newHead.next != None):\n",
    "    \n",
    "        while(newTail != None):\n",
    "            if(newTail.data < minNode.data):\n",
    "                minNode = newTail\n",
    "            newTail = newTail.next\n",
    "\n",
    "        if(minNode.data < newHead.data):\n",
    "            temp = newHead.data\n",
    "            newHead.data = minNode.data\n",
    "            minNode.data = temp\n",
    "            \n",
    "        newHead = newHead.next\n",
    "        minNode = newHead\n",
    "        newTail = newHead.next\n",
    "    \n",
    "    cHead = head\n",
    "    while(cHead != None):\n",
    "        print(cHead.data)\n",
    "        cHead = cHead.next\n",
    "        \n",
    "arr = [5, 2, 3, 6, 9, 8]\n",
    "newList = SinglyLinkedList(arr)\n",
    "selectionSort(newList.head)"
   ]
  },
  {
   "cell_type": "code",
   "execution_count": 99,
   "metadata": {},
   "outputs": [
    {
     "name": "stdout",
     "output_type": "stream",
     "text": [
      "2\n",
      "3\n",
      "5\n",
      "6\n",
      "8\n",
      "9\n"
     ]
    }
   ],
   "source": [
    "# Question 5 complete\n",
    "\n",
    "class Node:\n",
    "    def __init__(self, data, nextAdd, prev):\n",
    "        self.data = data\n",
    "        self.next = nextAdd\n",
    "        self.prev = prev\n",
    "        \n",
    "class DoublyLinkedList:\n",
    "    def __init__(self, arr):\n",
    "        self.head = None\n",
    "        tail = None\n",
    "        for i in range(len(arr)):\n",
    "            newNode = Node(arr[i], None, None)\n",
    "            if(self.head == None):\n",
    "                self.head = newNode\n",
    "                tail = newNode\n",
    "            else:\n",
    "                tail.next = newNode\n",
    "                newNode.prev = tail\n",
    "                tail = newNode\n",
    "                        \n",
    "def insertionSort(head, cNode):\n",
    "    if(cNode == None):\n",
    "        return head\n",
    "    else:\n",
    "        nextNode = cNode.next\n",
    "        tail = cNode.prev\n",
    "        cHead = False\n",
    "        decreased = False\n",
    "        while(tail != head.prev and tail.data > cNode.data):\n",
    "            decreased = True\n",
    "            tail = tail.prev\n",
    "            if(tail == head.prev):\n",
    "                cHead = True\n",
    "                \n",
    "        if(decreased == True):\n",
    "            if(cHead == False):\n",
    "                if(cNode.next != None):\n",
    "                    cNode.next.prev = cNode.prev\n",
    "\n",
    "                cNode.prev.next = cNode.next\n",
    "                cNode.prev = tail\n",
    "                cNode.next = tail.next\n",
    "                tail.next = cNode\n",
    "\n",
    "            else:           \n",
    "                cNode.prev.next = cNode.next\n",
    "                if(cNode.next != None):\n",
    "                    cNode.next.prev = cNode.prev\n",
    "\n",
    "\n",
    "                cNode.prev = None\n",
    "                cNode.next = head\n",
    "                head.prev = cNode\n",
    "                head = cNode\n",
    "                        \n",
    "        return insertionSort(head, nextNode)\n",
    "\n",
    "def printList(head):\n",
    "    n = head\n",
    "    while(n != None):\n",
    "        print(n.data)\n",
    "        n = n.next\n",
    "    \n",
    "arr = [5, 3, 6, 9, 2, 8]\n",
    "arr = DoublyLinkedList(arr)\n",
    "newHead = insertionSort(arr.head, arr.head.next)\n",
    "printList(newHead)"
   ]
  },
  {
   "cell_type": "code",
   "execution_count": 26,
   "metadata": {},
   "outputs": [
    {
     "name": "stdout",
     "output_type": "stream",
     "text": [
      "[2, 3, 5, 6, 8, 9]\n",
      "-1\n"
     ]
    }
   ],
   "source": [
    "# Question 6\n",
    "\n",
    "def binary_search(arr, val, l, r):\n",
    "    mid = (l + r)//2\n",
    "    if(arr[mid] == val):\n",
    "        return mid\n",
    "    elif(l > r):\n",
    "        return -1\n",
    "    elif(arr[mid] < val):\n",
    "        return binary_search(arr, val, mid+1, r)\n",
    "    elif(arr[mid] > val):\n",
    "        return binary_search(arr, val, l, mid-1)\n",
    "        \n",
    "def min_ind(arr, min_num_idx, j):\n",
    "    if(j == len(arr)):\n",
    "        return min_num_idx\n",
    "    elif(arr[j] < arr[min_num_idx]):\n",
    "        min_num_idx = j\n",
    "        return min_ind(arr, min_num_idx, j+1)\n",
    "    else:\n",
    "        j = j + 1\n",
    "        return min_ind(arr, min_num_idx, j)\n",
    "\n",
    "def selectionSort(arr, i):\n",
    "    if(i == len(arr)-1):\n",
    "        return arr\n",
    "    else:\n",
    "        min_num_idx = min_ind(arr, i, i)\n",
    "        temp = arr[i]\n",
    "        arr[i] = arr[min_num_idx]\n",
    "        arr[min_num_idx] = temp\n",
    "        return selectionSort(arr, i+1)\n",
    "        \n",
    "arr = [5, 2, 3, 6, 9, 8]\n",
    "arr = selectionSort(arr, 0)\n",
    "print(arr)\n",
    "print(binary_search(arr, 25, 0, len(arr)-1))"
   ]
  },
  {
   "cell_type": "code",
   "execution_count": 51,
   "metadata": {},
   "outputs": [
    {
     "name": "stdout",
     "output_type": "stream",
     "text": [
      "3\n"
     ]
    }
   ],
   "source": [
    "# Question 7\n",
    "\n",
    "n = 4\n",
    "arr = [0]*(n+1)\n",
    "\n",
    "def fib(n, arr):\n",
    "    if(n == 0 or n== 1):\n",
    "        arr[n] = n\n",
    "        return arr[n]\n",
    "    elif(arr[n] != 0):\n",
    "        return arr[n]\n",
    "    else:\n",
    "        arr[n] = fib(n-1, arr) + fib(n-2, arr)\n",
    "        return arr[n]\n",
    "    \n",
    "print(fib(n, arr))"
   ]
  },
  {
   "cell_type": "code",
   "execution_count": null,
   "metadata": {},
   "outputs": [],
   "source": []
  }
 ],
 "metadata": {
  "kernelspec": {
   "display_name": "Python 3",
   "language": "python",
   "name": "python3"
  },
  "language_info": {
   "codemirror_mode": {
    "name": "ipython",
    "version": 3
   },
   "file_extension": ".py",
   "mimetype": "text/x-python",
   "name": "python",
   "nbconvert_exporter": "python",
   "pygments_lexer": "ipython3",
   "version": "3.8.3"
  }
 },
 "nbformat": 4,
 "nbformat_minor": 2
}
