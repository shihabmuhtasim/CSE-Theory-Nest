{
 "cells": [
  {
   "cell_type": "code",
   "execution_count": 16,
   "metadata": {},
   "outputs": [
    {
     "name": "stdout",
     "output_type": "stream",
     "text": [
      "1\n",
      "1\n",
      "7\n",
      "[7, 6, 4, 3, 5, 2, 10, 0, 0, 0]\n"
     ]
    }
   ],
   "source": [
    "class Queue:\n",
    "    def __init__(self, arr, size):\n",
    "        self.arr = arr\n",
    "        self.size = size\n",
    "        \n",
    "    def enqueue(self, num):\n",
    "        if(self.size != len(self.arr)):\n",
    "            self.arr[self.size] = num\n",
    "            self.size = self.size + 1\n",
    "        else:\n",
    "            print(\"Queue is full\")\n",
    "            \n",
    "    def dequeue(self):\n",
    "        new_num = self.arr[0]\n",
    "        i = 0\n",
    "        while(i != self.size):\n",
    "            self.arr[i] = self.arr[i + 1]\n",
    "            i = i + 1\n",
    "            \n",
    "        self.size = self.size - 1\n",
    "        return new_num\n",
    "    \n",
    "    def peek(self):\n",
    "        return self.arr[0]\n",
    "    \n",
    "new_queue = Queue([1, 7, 6, 4, 3, 5, 2, 0, 0, 0], 7)\n",
    "print(new_queue.peek())\n",
    "print(new_queue.dequeue())\n",
    "print(new_queue.peek())\n",
    "new_queue.enqueue(10)\n",
    "print(new_queue.arr)"
   ]
  },
  {
   "cell_type": "code",
   "execution_count": 21,
   "metadata": {},
   "outputs": [
    {
     "name": "stdout",
     "output_type": "stream",
     "text": [
      "1\n",
      "7\n",
      "7\n",
      "7, 6, 4, 3, 5, 2, 10, "
     ]
    }
   ],
   "source": [
    "class Node:\n",
    "    def __init__(self, value, nxt):\n",
    "        self.value = value\n",
    "        self.next = nxt\n",
    "        \n",
    "class ListQueue:\n",
    "    def __init__(self, arr):\n",
    "        self.head = None\n",
    "        tail = None\n",
    "        \n",
    "        for i in range(len(arr)):\n",
    "            newNode = Node(arr[i], None)\n",
    "            if(self.head == None):\n",
    "                self.head = newNode\n",
    "                tail = newNode\n",
    "                \n",
    "            else:\n",
    "                tail.next = newNode\n",
    "                tail = newNode\n",
    "                \n",
    "    def dequeue(self):\n",
    "        nextNode = self.head.next\n",
    "        self.head.value = None\n",
    "        self.head.next = None\n",
    "        self.head = nextNode\n",
    "        \n",
    "        return self.head.value\n",
    "    \n",
    "    def enqueue(self, num):\n",
    "        n = self.head\n",
    "        while(n.next != None):\n",
    "            n = n.next\n",
    "            \n",
    "        n.next = Node(num, None)\n",
    "        \n",
    "    def peek(self):\n",
    "        return self.head.value\n",
    "    \n",
    "new_queue = ListQueue([1, 7, 6, 4, 3, 5, 2])\n",
    "print(new_queue.peek())\n",
    "print(new_queue.dequeue())\n",
    "print(new_queue.peek())\n",
    "new_queue.enqueue(10)\n",
    "n = new_queue.head\n",
    "while(n != None):\n",
    "    print(n.value, end=\", \")\n",
    "    n = n.next"
   ]
  },
  {
   "cell_type": "code",
   "execution_count": 31,
   "metadata": {},
   "outputs": [
    {
     "name": "stdout",
     "output_type": "stream",
     "text": [
      "1\n",
      "1\n",
      "7\n",
      "[[7, 'Teacher'], [10, 'Teacher'], [6, 'Student'], [4, 'Student'], [3, 'Student'], [5, 'Student'], [2, 'Student'], [0, 'Empty'], [0, 'Empty'], [0, 'Empty']]\n"
     ]
    }
   ],
   "source": [
    "class PriorityQueue:\n",
    "    def __init__(self, arr, size):\n",
    "        self.arr = arr\n",
    "        self.size = size\n",
    "        \n",
    "    def enqueue(self, num):\n",
    "        if(self.size != len(self.arr)):\n",
    "            if(num[1] == \"Student\"):\n",
    "                self.arr[self.size] = num\n",
    "            else:\n",
    "                i = 0\n",
    "                while(self.arr[i][1] == \"Teacher\"):\n",
    "                    i = i + 1\n",
    "                \n",
    "                j = self.size-1\n",
    "                while(j >= i):\n",
    "                    self.arr[j+1] = self.arr[j]\n",
    "                    j = j - 1\n",
    "                    \n",
    "                self.arr[i] = num\n",
    "                    \n",
    "            self.size = self.size + 1    \n",
    "        else:\n",
    "            print(\"Queue is full\")\n",
    "            \n",
    "    def dequeue(self):\n",
    "        new_num = self.arr[0]\n",
    "        i = 0\n",
    "        while(i < self.size):\n",
    "            self.arr[i] = self.arr[i + 1]\n",
    "            i = i + 1\n",
    "            \n",
    "        self.size = self.size - 1\n",
    "        return new_num[0]\n",
    "    \n",
    "    def peek(self):\n",
    "        return self.arr[0][0]\n",
    "    \n",
    "new_queue = PriorityQueue([[1, \"Teacher\"], [7, \"Teacher\"], [6, \"Student\"], [4, \"Student\"], [3, \"Student\"], [5, \"Student\"], [2, \"Student\"], [0, \"Empty\"], [0, \"Empty\"], [0, \"Empty\"]], 7)\n",
    "print(new_queue.peek())\n",
    "print(new_queue.dequeue())\n",
    "print(new_queue.peek())\n",
    "new_queue.enqueue([10, \"Teacher\"])\n",
    "print(new_queue.arr)"
   ]
  },
  {
   "cell_type": "code",
   "execution_count": 2,
   "metadata": {},
   "outputs": [
    {
     "name": "stdout",
     "output_type": "stream",
     "text": [
      "[1, 9, 5, 7, 8, 3, 4, 6, 5]\n",
      "[1, 3, 5, 7, 8, 9, 4, 6, 5]\n",
      "[1, 3, 4, 7, 8, 9, 5, 6, 5]\n",
      "[1, 3, 4, 5, 8, 9, 7, 6, 5]\n",
      "[1, 3, 4, 5, 5, 9, 7, 6, 8]\n",
      "[1, 3, 4, 5, 5, 6, 7, 9, 8]\n",
      "[1, 3, 4, 5, 5, 6, 7, 9, 8]\n",
      "[1, 3, 4, 5, 5, 6, 7, 8, 9]\n",
      "[1, 3, 4, 5, 5, 6, 7, 8, 9]\n"
     ]
    }
   ],
   "source": [
    "def swap(arr, i, min_idx):\n",
    "    if(i == len(arr)):\n",
    "        return min_idx\n",
    "    elif(arr[i]<arr[min_idx]):\n",
    "        min_idx = i\n",
    "        return swap(arr, i+1, min_idx)\n",
    "    else:\n",
    "        return swap(arr, i+1, min_idx)\n",
    "        \n",
    "\n",
    "def selectionSort(arr, i):\n",
    "    if(i == len(arr)-1):\n",
    "        return arr\n",
    "    else:\n",
    "        min_idx = swap(arr, i, i)\n",
    "        temp = arr[i]\n",
    "        arr[i] = arr[min_idx]\n",
    "        arr[min_idx] = temp\n",
    "        return selectionSort(arr, i+1)\n",
    "    \n",
    "arr = [9, 1 ,5, 7, 8, 3, 4, 6, 5]\n",
    "print(selectionSort(arr, 0))"
   ]
  },
  {
   "cell_type": "code",
   "execution_count": 20,
   "metadata": {},
   "outputs": [
    {
     "name": "stdout",
     "output_type": "stream",
     "text": [
      "1\n",
      "3\n",
      "4\n",
      "5\n",
      "5\n",
      "6\n",
      "7\n",
      "8\n",
      "9\n"
     ]
    }
   ],
   "source": [
    "class Node:\n",
    "    def __init__(self, value, nxt):\n",
    "        self.value = value\n",
    "        self.next = nxt\n",
    "\n",
    "class LinkedList:\n",
    "    def __init__(self, arr):\n",
    "        self.head = None\n",
    "        tail =  None\n",
    "        \n",
    "        for i in range(len(arr)):\n",
    "            newNode = Node(arr[i], None)\n",
    "            if(self.head == None):\n",
    "                self.head = newNode\n",
    "                tail = newNode\n",
    "            else:\n",
    "                tail.next = newNode\n",
    "                tail = newNode\n",
    "\n",
    "def find(cNode, minNode):\n",
    "    if(cNode == None):\n",
    "        return minNode\n",
    "    else:\n",
    "        if(minNode.value > cNode.value):\n",
    "            minNode = cNode\n",
    "        return find(cNode.next, minNode)\n",
    "                \n",
    "def ListSelectionSort(head, cNode):\n",
    "    if(cNode.next == None):\n",
    "        return head\n",
    "    else:\n",
    "        minNode = find(cNode, cNode)\n",
    "        temp = cNode.value\n",
    "        cNode.value = minNode.value\n",
    "        minNode.value = temp\n",
    "        return ListSelectionSort(head, cNode.next)\n",
    "    \n",
    "def printList(head):\n",
    "    n = head\n",
    "    while(n != None):\n",
    "        print(n.value)\n",
    "        n = n.next\n",
    "        \n",
    "new_list = LinkedList([9, 1 ,5, 7, 8, 3, 4, 6, 5])\n",
    "head = ListSelectionSort(new_list.head, new_list.head)\n",
    "printList(head)"
   ]
  },
  {
   "cell_type": "code",
   "execution_count": null,
   "metadata": {},
   "outputs": [],
   "source": []
  },
  {
   "cell_type": "code",
   "execution_count": 6,
   "metadata": {},
   "outputs": [
    {
     "name": "stdout",
     "output_type": "stream",
     "text": [
      "[1, 3, 4, 5, 5, 6, 7, 8, 9]\n"
     ]
    }
   ],
   "source": [
    "def swap(arr, i, j):\n",
    "    if(i == j):\n",
    "        return arr\n",
    "    elif(arr[i] > arr[i+1]):\n",
    "        temp = arr[i]\n",
    "        arr[i] = arr[i+1]\n",
    "        arr[i+1] = temp\n",
    "        return swap(arr, i+1, j)\n",
    "    else:\n",
    "        return swap(arr, i+1, j)\n",
    "\n",
    "def bubbleSort(arr, j):\n",
    "    if(j == 1):\n",
    "        return arr\n",
    "    else:\n",
    "        arr = swap(arr, 0, j)\n",
    "        return bubbleSort(arr, j-1)\n",
    "    \n",
    "arr = [9, 1 ,5, 7, 8, 3, 4, 6, 5]\n",
    "print(bubbleSort(arr, len(arr)-1))"
   ]
  },
  {
   "cell_type": "code",
   "execution_count": 9,
   "metadata": {},
   "outputs": [
    {
     "name": "stdout",
     "output_type": "stream",
     "text": [
      "[1, 3, 4, 5, 5, 6, 7, 8, 9]\n"
     ]
    }
   ],
   "source": [
    "def swap(arr, key, j):\n",
    "    if(key < arr[j] and j >= 0):\n",
    "        arr[j+1] = arr[j]\n",
    "        j = j - 1\n",
    "        return swap(arr, key, j)\n",
    "    else:\n",
    "        return j+1\n",
    "\n",
    "def insertionSort(arr, i):\n",
    "    if(i == len(arr)):\n",
    "        return arr\n",
    "    else:\n",
    "        key = arr[i]\n",
    "        idx = swap(arr, key, i-1)\n",
    "        arr[idx] = key\n",
    "        return insertionSort(arr, i+1)\n",
    "    \n",
    "arr = [9, 1 ,5, 7, 8, 3, 4, 6, 5]\n",
    "print(insertionSort(arr, 1))"
   ]
  },
  {
   "cell_type": "code",
   "execution_count": 28,
   "metadata": {},
   "outputs": [
    {
     "name": "stdout",
     "output_type": "stream",
     "text": [
      "-1\n"
     ]
    }
   ],
   "source": [
    "def binarySearch(arr, elem, l, r):\n",
    "    if(l > r):\n",
    "        return -1\n",
    "    else:\n",
    "        mid = (l+r)//2\n",
    "        if(arr[mid] == elem):\n",
    "            return mid\n",
    "        elif(arr[mid] > elem):\n",
    "            r = mid - 1\n",
    "        elif(arr[mid] < elem):\n",
    "            l = mid + 1\n",
    "            \n",
    "        return binarySearch(arr, elem, l, r)\n",
    "    \n",
    "arr = [10, 20, 30, 40, 50, 60, 70, 80, 90, 100]\n",
    "print(binarySearch(arr, 55, 0, len(arr)-1))"
   ]
  },
  {
   "cell_type": "code",
   "execution_count": 6,
   "metadata": {},
   "outputs": [
    {
     "name": "stdout",
     "output_type": "stream",
     "text": [
      "-6 -3 -1 1 2 2 3 6 7 8 10 "
     ]
    }
   ],
   "source": [
    "class KeyIndexedSearch:\n",
    "    def __init__(self, arr):\n",
    "        self.minNum = arr[0]\n",
    "        maxNum = arr[0]\n",
    "        \n",
    "        for i in range(1, len(arr)):\n",
    "            if(arr[i] < self.minNum):\n",
    "                self.minNum = arr[i]\n",
    "            if(arr[i] > maxNum):\n",
    "                maxNum = arr[i]\n",
    "                \n",
    "        self.aux = [0]*(maxNum+1-self.minNum)\n",
    "        \n",
    "        for j in range(len(arr)):\n",
    "            self.aux[arr[j]-self.minNum] = self.aux[arr[j]-self.minNum] + 1\n",
    "            \n",
    "    def search(self, elem):\n",
    "        if(self.aux[elem-self.minNum] != 0):\n",
    "            return elem-self.minNum\n",
    "        else:\n",
    "            return -1\n",
    "        \n",
    "    def sort(self):\n",
    "        for i in range(len(self.aux)):\n",
    "            if(self.aux[i] != 0):\n",
    "                for j in range(self.aux[i]):\n",
    "                    print(i+self.minNum, end=\" \")\n",
    "                    \n",
    "new_arr = KeyIndexedSearch([2, -6, -1, -3, 10, 7, 8, 2, 6, 1, 3])\n",
    "new_arr.sort()"
   ]
  },
  {
   "cell_type": "code",
   "execution_count": 10,
   "metadata": {},
   "outputs": [
    {
     "name": "stdout",
     "output_type": "stream",
     "text": [
      "[100000, 9, 2, 12, 19]\n"
     ]
    }
   ],
   "source": [
    "class HashTable:\n",
    "    def __init__(self, arr):\n",
    "        self.aux = [0]*len(arr)\n",
    "        \n",
    "        for i in range(len(arr)):\n",
    "            idx = arr[i]%len(arr)\n",
    "            while(self.aux[idx] != 0):\n",
    "                idx = idx + 1\n",
    "                if(idx == len(arr)):\n",
    "                    idx = 0\n",
    "            self.aux[idx] = arr[i]\n",
    "            \n",
    "table = HashTable([2, 19, 100000, 9, 12])\n",
    "print(table.aux)"
   ]
  },
  {
   "cell_type": "code",
   "execution_count": 13,
   "metadata": {},
   "outputs": [
    {
     "name": "stdout",
     "output_type": "stream",
     "text": [
      "100000 0\n",
      "2 2\n",
      "12 2\n",
      "19 4\n",
      "9 4\n"
     ]
    }
   ],
   "source": [
    "class Node:\n",
    "    def __init__(self, value, nxt):\n",
    "        self.value = value\n",
    "        self.next = nxt\n",
    "\n",
    "class LinkedList:\n",
    "    def __init__(self, arr):\n",
    "        self.head = None\n",
    "        tail =  None\n",
    "        \n",
    "        for i in range(len(arr)):\n",
    "            newNode = Node(arr[i], None)\n",
    "            if(self.head == None):\n",
    "                self.head = newNode\n",
    "                tail = newNode\n",
    "            else:\n",
    "                tail.next = newNode\n",
    "                tail = newNode\n",
    "        \n",
    "class LinkedHashTable:\n",
    "    def __init__(self, arr):\n",
    "        self.aux = [0]*len(arr)\n",
    "        \n",
    "        for i in range(len(arr)):\n",
    "            idx = arr[i]%len(arr)\n",
    "            if(self.aux[idx] == 0):\n",
    "                self.aux[idx] = LinkedList([arr[i]])\n",
    "            else:\n",
    "                n = self.aux[idx].head\n",
    "                while(n.next != None):\n",
    "                    n = n.next\n",
    "                    \n",
    "                n.next = Node(arr[i], None)\n",
    "                \n",
    "    def printTable(self):\n",
    "        for i in range(len(self.aux)):\n",
    "            if(self.aux[i] != 0):\n",
    "                n = self.aux[i].head\n",
    "                while(n != None):\n",
    "                    print(n.value, i)\n",
    "                    n = n.next\n",
    "                    \n",
    "table = LinkedHashTable([2, 19, 100000, 9, 12])\n",
    "table.printTable()"
   ]
  },
  {
   "cell_type": "code",
   "execution_count": 4,
   "metadata": {},
   "outputs": [
    {
     "data": {
      "text/plain": [
       "1000001101"
      ]
     },
     "execution_count": 4,
     "metadata": {},
     "output_type": "execute_result"
    }
   ],
   "source": [
    "def binary(n, i):\n",
    "    if(n == 0):\n",
    "        return 0\n",
    "    else:\n",
    "        return binary(n//2, i*10) + (n%2)*i\n",
    "    \n",
    "binary(525, 1)"
   ]
  },
  {
   "cell_type": "code",
   "execution_count": 5,
   "metadata": {},
   "outputs": [
    {
     "data": {
      "text/plain": [
       "55"
      ]
     },
     "execution_count": 5,
     "metadata": {},
     "output_type": "execute_result"
    }
   ],
   "source": [
    "class Node:\n",
    "    def __init__(self, value, nxt):\n",
    "        self.value = value\n",
    "        self.next = nxt\n",
    "        \n",
    "class SinglyLinkedList:\n",
    "    def __init__(self, arr):\n",
    "        self.head = None\n",
    "        tail = None\n",
    "        \n",
    "        for i in range(len(arr)):\n",
    "            newNode = Node(arr[i], None)\n",
    "            if(self.head == None):\n",
    "                self.head = newNode\n",
    "                tail = newNode\n",
    "            else:\n",
    "                tail.next = newNode\n",
    "                tail = newNode\n",
    "                \n",
    "def addNums(head):\n",
    "    if(head == None):\n",
    "        return 0\n",
    "    else:\n",
    "        return head.value + addNums(head.next)\n",
    "    \n",
    "new_arr = [10, 27, 3, 15]\n",
    "newList = SinglyLinkedList(new_arr)\n",
    "addNums(newList.head)"
   ]
  },
  {
   "cell_type": "code",
   "execution_count": 6,
   "metadata": {},
   "outputs": [
    {
     "name": "stdout",
     "output_type": "stream",
     "text": [
      "15\n",
      "3\n",
      "27\n",
      "10\n"
     ]
    }
   ],
   "source": [
    "def reversePrint(head):\n",
    "    if(head == None):\n",
    "        return None\n",
    "    else:\n",
    "        reversePrint(head.next)\n",
    "        print(head.value)\n",
    "        \n",
    "reversePrint(newList.head)"
   ]
  },
  {
   "cell_type": "code",
   "execution_count": 9,
   "metadata": {},
   "outputs": [
    {
     "data": {
      "text/plain": [
       "18"
      ]
     },
     "execution_count": 9,
     "metadata": {},
     "output_type": "execute_result"
    }
   ],
   "source": [
    "def build(height):\n",
    "    if(height == 0):\n",
    "        return 0\n",
    "    elif(height == 1):\n",
    "        return 8\n",
    "    else:\n",
    "        return 5 + build(height-1)\n",
    "    \n",
    "build(3)"
   ]
  },
  {
   "cell_type": "code",
   "execution_count": 21,
   "metadata": {},
   "outputs": [
    {
     "name": "stdout",
     "output_type": "stream",
     "text": [
      "1\n",
      "1 2\n",
      "1 2 3\n",
      "1 2 3 4\n",
      "1 2 3 4 5\n"
     ]
    }
   ],
   "source": [
    "def rows(n):\n",
    "    if(n == 1):\n",
    "        return '1'\n",
    "    else:\n",
    "        return rows(n-1) + ' ' + str(n) \n",
    "\n",
    "def tria(n):\n",
    "    if(n == 0):\n",
    "        return ''\n",
    "    else:\n",
    "        row = rows(n)\n",
    "        tria(n-1)\n",
    "        print(row)\n",
    "    \n",
    "tria(5)"
   ]
  },
  {
   "cell_type": "code",
   "execution_count": 30,
   "metadata": {},
   "outputs": [
    {
     "name": "stdout",
     "output_type": "stream",
     "text": [
      "        1\n",
      "      1 2\n",
      "    1 2 3\n",
      "  1 2 3 4\n",
      "1 2 3 4 5\n"
     ]
    }
   ],
   "source": [
    "def rows(n):\n",
    "    if(n == 1):\n",
    "        return '1'\n",
    "    else:\n",
    "        return rows(n-1) + ' ' + str(n)\n",
    "\n",
    "def tria2(n, n2):\n",
    "    if(n == 0):\n",
    "        return ''\n",
    "    else:\n",
    "        row = rows(n)\n",
    "        tria2(n-1, n2)\n",
    "        print(' '*(n2-n)*2 + row)\n",
    "        \n",
    "tria2(5, 5)"
   ]
  },
  {
   "cell_type": "code",
   "execution_count": 7,
   "metadata": {},
   "outputs": [
    {
     "name": "stdout",
     "output_type": "stream",
     "text": [
      "1 2 25 31 44 52 76 91 110 "
     ]
    }
   ],
   "source": [
    "class Node:\n",
    "    def __init__(self, value, nxt, prev):\n",
    "        self.value = value\n",
    "        self.next = nxt\n",
    "        self.prev = prev\n",
    "        \n",
    "class DoublyLinkedList:\n",
    "    def __init__(self, arr):\n",
    "        self.head = None\n",
    "        tail = None\n",
    "        \n",
    "        for i in range(len(arr)):\n",
    "            newNode = Node(arr[i], None, None)\n",
    "            if(self.head == None):\n",
    "                self.head = newNode\n",
    "                tail = newNode\n",
    "                self.head.next = newNode\n",
    "                self.head.prev = newNode\n",
    "                \n",
    "            else:\n",
    "                tail.next = newNode\n",
    "                self.head.prev = newNode\n",
    "                newNode.next = self.head\n",
    "                newNode.prev = tail\n",
    "                tail = newNode\n",
    "                \n",
    "def swap(head, cNode, prevNode, nextNode):\n",
    "    if(prevNode == head.prev):\n",
    "        return nextNode\n",
    "    else:\n",
    "        if(cNode.value < prevNode.value):\n",
    "            temp = cNode.value\n",
    "            cNode.value = prevNode.value\n",
    "            prevNode.value = temp\n",
    "            cNode = prevNode\n",
    "            return swap(head, cNode, cNode.prev, nextNode)\n",
    "        else:\n",
    "            return nextNode\n",
    "                \n",
    "def insertionSort(head, cNode):\n",
    "    if(cNode == head):\n",
    "        return head\n",
    "    else:\n",
    "        nextNode = swap(head, cNode, cNode.prev, cNode.next)\n",
    "        return insertionSort(head, nextNode)\n",
    "    \n",
    "new_arr = [1, 110, 25, 76 , 2, 44, 91, 52, 31]\n",
    "newList = DoublyLinkedList(new_arr)\n",
    "head = insertionSort(newList.head, newList.head.next)\n",
    "\n",
    "n = head\n",
    "print(n.value, end=\" \")\n",
    "n = n.next\n",
    "while(n != head):\n",
    "    print(n.value, end=\" \")\n",
    "    n = n.next"
   ]
  },
  {
   "cell_type": "code",
   "execution_count": 4,
   "metadata": {},
   "outputs": [
    {
     "name": "stdout",
     "output_type": "stream",
     "text": [
      "5\n",
      "0\n",
      "0\n",
      "0\n",
      "0\n",
      "0\n"
     ]
    }
   ],
   "source": [
    "class Queue:\n",
    "    def __init__(self):\n",
    "        self.queue = [0]*6\n",
    "                \n",
    "    def enqueue(self, elem):\n",
    "        i = 0\n",
    "        while(self.queue[i] != 0):\n",
    "            i = i + 1\n",
    "        \n",
    "        self.queue[i] = elem\n",
    "        \n",
    "    def peek(self):\n",
    "        return self.queue[0]\n",
    "    \n",
    "    def dequeue(self):\n",
    "        key = self.queue[0]\n",
    "        \n",
    "        for i in range(len(self.queue)-1):\n",
    "            self.queue[i] = self.queue[i+1]\n",
    "        \n",
    "        self.queue[len(self.queue)-1] = 0\n",
    "        return key\n",
    "    \n",
    "    def isEmpty(self):\n",
    "        if(self.queue[0] == 0):\n",
    "            return True\n",
    "        else:\n",
    "            return False\n",
    "\n",
    "def reverseQueue(queue, emptied):\n",
    "    if(emptied == True):\n",
    "        \n",
    "    else:\n",
    "        if queue.isEmpty():\n",
    "            return reverseQueue(queue, True)\n",
    "        else:\n",
    "            new_val = queue.dequeue()\n",
    "            reverseQueue(queue)\n",
    "            print(\"Chol\")\n",
    "            queue.enqueue(new_val)\n",
    "        \n",
    "        \n",
    "new_arr = [1, 3, 4, 5, 6, 8]\n",
    "queue = Queue()\n",
    "    \n",
    "reverseQueue(queue)\n",
    "for i in range(len(queue.queue)):\n",
    "    print(queue.queue[i])"
   ]
  },
  {
   "cell_type": "code",
   "execution_count": null,
   "metadata": {},
   "outputs": [],
   "source": []
  }
 ],
 "metadata": {
  "kernelspec": {
   "display_name": "Python 3",
   "language": "python",
   "name": "python3"
  },
  "language_info": {
   "codemirror_mode": {
    "name": "ipython",
    "version": 3
   },
   "file_extension": ".py",
   "mimetype": "text/x-python",
   "name": "python",
   "nbconvert_exporter": "python",
   "pygments_lexer": "ipython3",
   "version": "3.8.3"
  }
 },
 "nbformat": 4,
 "nbformat_minor": 4
}
