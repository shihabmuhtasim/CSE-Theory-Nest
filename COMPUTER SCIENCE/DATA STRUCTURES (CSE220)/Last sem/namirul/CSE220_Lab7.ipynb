{
 "cells": [
  {
   "cell_type": "code",
   "execution_count": null,
   "metadata": {
    "id": "vx3BlvCRoqbH",
    "outputId": "a6b81447-b1b7-4840-cd76-45aeb3ea6677"
   },
   "outputs": [
    {
     "name": "stdout",
     "output_type": "stream",
     "text": [
      "[0, 1, 2, 1, 0, 1, 0, 0, 1]\n",
      "False\n",
      "1\n",
      "2\n",
      "2\n",
      "3\n",
      "5\n",
      "8\n"
     ]
    }
   ],
   "source": [
    "# Question 1\n",
    "\n",
    "class KeyIndex:\n",
    "    def __init__(self, a):\n",
    "        max_num = 0\n",
    "        self.min_num = 0\n",
    "        for i in range(len(a)):\n",
    "            if(a[i] > max_num):\n",
    "                max_num = a[i]\n",
    "            if(a[i] < self.min_num ):\n",
    "                self.min_num = a[i]\n",
    "                \n",
    "        \n",
    "        self.k = [0]*(max_num-self.min_num+1)\n",
    "        \n",
    "        for i in range(len(a)):\n",
    "            self.k[a[i]-self.min_num] += 1\n",
    "            \n",
    "    def search(self, val):\n",
    "        if(val-self.min_num > len(self.k)):\n",
    "            return False\n",
    "        elif(val<self.min_num):\n",
    "            return False\n",
    "        elif(self.k[val-self.min_num] != 0):\n",
    "            return True\n",
    "        else:\n",
    "            return False\n",
    "        \n",
    "    def sort(self):\n",
    "        for i in range(len(self.k)):\n",
    "            if(self.k[i] != 0):\n",
    "                for j in range(self.k[i]):\n",
    "                    print(i+self.min_num)\n",
    "            \n",
    "arr = [2, 5, 3, 1, 8, 2]\n",
    "key_indexed_arr = KeyIndex(arr)\n",
    "print(key_indexed_arr.k)\n",
    "print(key_indexed_arr.search(100000000))\n",
    "key_indexed_arr.sort()"
   ]
  },
  {
   "cell_type": "code",
   "execution_count": null,
   "metadata": {
    "id": "Rz9V15DnoqbS",
    "outputId": "b5a84e45-2d76-4221-c877-b5acbbe083bd"
   },
   "outputs": [
    {
     "data": {
      "text/plain": [
       "['ARB123',\n",
       " 'B3AR12',\n",
       " 'XYZ578',\n",
       " 'UV59WXYZ74',\n",
       " 'VXGT418',\n",
       " 'ST1E89B8A32',\n",
       " 'Q4SR56',\n",
       " 'ER240',\n",
       " 'E2C54']"
      ]
     },
     "execution_count": 50,
     "metadata": {},
     "output_type": "execute_result"
    }
   ],
   "source": [
    "# Question 2\n",
    "\n",
    "def make_hashtable(arr):\n",
    "    hash_table = [0]*9\n",
    "    \n",
    "    vowels = ['A', 'E', 'I', 'O', 'U']\n",
    "    \n",
    "    for i in range(len(arr)):\n",
    "        consonants = 0\n",
    "        total = 0\n",
    "        \n",
    "        for j in range(len(arr[i])):\n",
    "            isNum = False\n",
    "            isVowel = False\n",
    "            for k in range(10):\n",
    "                if(arr[i][j] == str(k)):\n",
    "                    isNum = True\n",
    "            \n",
    "            for k in range(len(vowels)):\n",
    "                if(arr[i][j] == vowels[k]):\n",
    "                    isVowel = True\n",
    "                   \n",
    "            if(isNum == True):\n",
    "                total += int(arr[i][j])\n",
    "            elif(isVowel == False):\n",
    "                consonants += 1\n",
    "        \n",
    "        idx = (consonants*24 + total) % 9\n",
    "        if(hash_table[idx] == 0):\n",
    "            hash_table[idx] = arr[i]\n",
    "        else:\n",
    "            while(hash_table[idx] != 0):\n",
    "                idx = idx + 1\n",
    "                if(idx == len(hash_table)):\n",
    "                    idx = 0\n",
    "            hash_table[idx] = arr[i]\n",
    "        \n",
    "    return hash_table    \n",
    "    \n",
    "st_arr = ['ARB123', 'XYZ578', 'B3AR12', 'UV59WXYZ74', 'E2C54', 'VXGT418', \"ST1E89B8A32\", 'Q4SR56', 'ER240']\n",
    "make_hashtable(st_arr)                   "
   ]
  },
  {
   "cell_type": "code",
   "execution_count": null,
   "metadata": {
    "id": "hTrwzNpmoqbV"
   },
   "outputs": [],
   "source": []
  },
  {
   "cell_type": "code",
   "execution_count": null,
   "metadata": {
    "id": "orE2FbD4oqbW"
   },
   "outputs": [],
   "source": []
  },
  {
   "cell_type": "code",
   "execution_count": null,
   "metadata": {
    "id": "8tZGA7Q8oqbW"
   },
   "outputs": [],
   "source": []
  }
 ],
 "metadata": {
  "colab": {
   "name": "CSE220 Lab7.ipynb",
   "provenance": []
  },
  "kernelspec": {
   "display_name": "Python 3",
   "language": "python",
   "name": "python3"
  },
  "language_info": {
   "codemirror_mode": {
    "name": "ipython",
    "version": 3
   },
   "file_extension": ".py",
   "mimetype": "text/x-python",
   "name": "python",
   "nbconvert_exporter": "python",
   "pygments_lexer": "ipython3",
   "version": "3.8.3"
  }
 },
 "nbformat": 4,
 "nbformat_minor": 1
}
