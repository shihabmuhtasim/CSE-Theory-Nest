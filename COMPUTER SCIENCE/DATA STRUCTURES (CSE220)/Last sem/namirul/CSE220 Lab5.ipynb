{
 "cells": [
  {
   "cell_type": "code",
   "execution_count": 1,
   "metadata": {
    "id": "Nm8e99Bi8LQk",
    "outputId": "34b03e9c-b706-45a5-96f8-5f3373c067d4"
   },
   "outputs": [],
   "source": [
    "# Question 1 a\n",
    "\n",
    "def fact(n):\n",
    "    if(n==1 or n==0):\n",
    "        return 1\n",
    "    else:\n",
    "        return n*fact(n-1)"
   ]
  },
  {
   "cell_type": "code",
   "execution_count": 2,
   "metadata": {
    "id": "ZHro-yUA8LQo",
    "outputId": "7b6b8d25-c7ba-42c3-c005-213ea042b7ea"
   },
   "outputs": [
    {
     "name": "stdout",
     "output_type": "stream",
     "text": [
      "1\n"
     ]
    }
   ],
   "source": [
    "# Question 1 b\n",
    "\n",
    "def fib(n):\n",
    "    if(n==1):\n",
    "        return 0\n",
    "    elif(n==2):\n",
    "        return 1\n",
    "    else:\n",
    "        return fib(n-1) +fib(n-2)\n",
    "    \n",
    "print(fib(3))"
   ]
  },
  {
   "cell_type": "code",
   "execution_count": 3,
   "metadata": {
    "id": "k1-92Cys8LQp",
    "outputId": "466da62a-e5b1-443b-ff7c-b74613464d12"
   },
   "outputs": [
    {
     "name": "stdout",
     "output_type": "stream",
     "text": [
      "10\n",
      "20\n",
      "30\n",
      "\n"
     ]
    }
   ],
   "source": [
    "# Querstion 1 c\n",
    "\n",
    "def printArr(arr, i):\n",
    "    if(i == len(arr)):\n",
    "        return \"\"\n",
    "    print(arr[i])\n",
    "    return printArr(arr, i+1)\n",
    "\n",
    "print(printArr([10,20, 30], 0))"
   ]
  },
  {
   "cell_type": "code",
   "execution_count": 4,
   "metadata": {
    "id": "e1ZWg_l18LQq",
    "outputId": "e2496669-6512-4579-f283-c6e85a01d292"
   },
   "outputs": [
    {
     "name": "stdout",
     "output_type": "stream",
     "text": [
      "27\n"
     ]
    }
   ],
   "source": [
    "# Question 1 d\n",
    "\n",
    "def power(base, exp):\n",
    "    if(exp == 1):\n",
    "        return base\n",
    "    else:\n",
    "        return base * pow(base, exp-1)\n",
    "    \n",
    "print(power(3, 3))"
   ]
  },
  {
   "cell_type": "code",
   "execution_count": 5,
   "metadata": {
    "id": "OFapS0Aa8LQq",
    "outputId": "c3bfc4c3-76ab-4ae3-a067-588177ccd44a"
   },
   "outputs": [
    {
     "name": "stdout",
     "output_type": "stream",
     "text": [
      "100000\n"
     ]
    }
   ],
   "source": [
    "# Question 2 a\n",
    "\n",
    "def decToBin(decimal, rem):\n",
    "    if(decimal == 0):\n",
    "        return \"\"\n",
    "    else:\n",
    "        rem = decimal%2\n",
    "        return decToBin(decimal//2, rem) +str(rem)\n",
    "    \n",
    "print(decToBin(32, 0))"
   ]
  },
  {
   "cell_type": "code",
   "execution_count": 6,
   "metadata": {
    "id": "W75iWr0x8LQr",
    "outputId": "19821f4b-039a-4029-f412-936d7a993717"
   },
   "outputs": [
    {
     "name": "stdout",
     "output_type": "stream",
     "text": [
      "30\n",
      "20\n",
      "10\n",
      "\n"
     ]
    }
   ],
   "source": [
    "# Question 1 c bonus\n",
    "\n",
    "def printArr(arr, i):\n",
    "    if(i == len(arr)):\n",
    "        return \"\"\n",
    "    print(arr[len(arr) - 1 - i])\n",
    "    return printArr(arr, i+1)\n",
    "\n",
    "print(printArr([10,20, 30], 0))"
   ]
  },
  {
   "cell_type": "code",
   "execution_count": 7,
   "metadata": {
    "id": "aV1YC_qI8LQr",
    "outputId": "ee5ae1fc-81d8-4194-dc98-1ab1e9a76224"
   },
   "outputs": [
    {
     "data": {
      "text/plain": [
       "150"
      ]
     },
     "execution_count": 7,
     "metadata": {},
     "output_type": "execute_result"
    }
   ],
   "source": [
    "# Question 2 b\n",
    "\n",
    "class Node:\n",
    "    def __init__(self, data, nextValue):\n",
    "        self.data = data\n",
    "        self.next = nextValue\n",
    "        \n",
    "class LinkedList:\n",
    "    def __init__(self, arr):\n",
    "        self.head = None\n",
    "        tail = None\n",
    "        \n",
    "        for i in range(len(arr)):\n",
    "            newNode = Node(arr[i], None)\n",
    "            if(self.head == None):\n",
    "                self.head = newNode\n",
    "                tail = newNode\n",
    "                \n",
    "            else:\n",
    "                tail.next = newNode\n",
    "                tail = newNode\n",
    "                        \n",
    "def sumList(head):\n",
    "    if(head.next == None):\n",
    "        return head.data\n",
    "    else:\n",
    "        return head.data + sumList(head.next)\n",
    "    \n",
    "newList = LinkedList([10, 20, 30, 40, 50])\n",
    "sumList(newList.head)"
   ]
  },
  {
   "cell_type": "code",
   "execution_count": 24,
   "metadata": {
    "colab": {
     "base_uri": "https://localhost:8080/"
    },
    "executionInfo": {
     "elapsed": 11,
     "status": "ok",
     "timestamp": 1647857227653,
     "user": {
      "displayName": "NAMIRUL ISLAM",
      "photoUrl": "https://lh3.googleusercontent.com/a/default-user=s64",
      "userId": "02082886038888045826"
     },
     "user_tz": -360
    },
    "id": "lr3ytiMo8LQs",
    "outputId": "12c87ff8-486c-4439-8f85-2c5d247e9e1b"
   },
   "outputs": [
    {
     "name": "stdout",
     "output_type": "stream",
     "text": [
      "50\n",
      "40\n",
      "30\n",
      "20\n",
      "10\n"
     ]
    }
   ],
   "source": [
    "# Question 2 c \n",
    "\n",
    "class Node:\n",
    "    def __init__(self, data, nextValue):\n",
    "        self.data = data\n",
    "        self.next = nextValue\n",
    "        \n",
    "class LinkedList:\n",
    "    def __init__(self, arr):\n",
    "        self.head = None\n",
    "        tail = None\n",
    "        \n",
    "        for i in range(len(arr)):\n",
    "            newNode = Node(arr[i], None)\n",
    "            if(self.head == None):\n",
    "                self.head = newNode\n",
    "                tail = newNode\n",
    "                \n",
    "            else:\n",
    "                tail.next = newNode\n",
    "                tail = newNode\n",
    "                \n",
    "def reversePrint(head):\n",
    "    if(head.next != None):\n",
    "        return reversePrint(head.next) + '\\n' + str(head.data) \n",
    "    else:\n",
    "        return str(head.data)\n",
    "        \n",
    "\n",
    "        \n",
    "newList = LinkedList([10, 20, 30, 40, 50])\n",
    "print(reversePrint(newList.head))"
   ]
  },
  {
   "cell_type": "code",
   "execution_count": 188,
   "metadata": {
    "id": "3lQSxlgQ8LQt",
    "outputId": "70afee38-fab0-48d4-88a5-8501ee8e825c"
   },
   "outputs": [
    {
     "name": "stdout",
     "output_type": "stream",
     "text": [
      "18\n"
     ]
    }
   ],
   "source": [
    "# Question 3\n",
    "h = 3\n",
    "\n",
    "def hocBuilder(height):\n",
    "    if(height == 0):\n",
    "        return 0\n",
    "    elif(height == 1):\n",
    "        return 8\n",
    "    else:\n",
    "        return 5 + hocBuilder(height-1)\n",
    "    \n",
    "print(hocBuilder(h))"
   ]
  },
  {
   "cell_type": "code",
   "execution_count": 162,
   "metadata": {
    "id": "B7EUnQes8LQu",
    "outputId": "ac1d3f74-1512-49b8-c10b-99c32707a00d"
   },
   "outputs": [
    {
     "name": "stdout",
     "output_type": "stream",
     "text": [
      "1\n",
      "12\n",
      "123\n",
      "1234\n",
      "12345\n"
     ]
    }
   ],
   "source": [
    "# Question 4 a\n",
    "i = 4\n",
    "\n",
    "def pattern(n):\n",
    "    def printNum(n):\n",
    "        if(n == 0):\n",
    "            return '\\n'\n",
    "        else:\n",
    "            return printNum(n-1) + str(n)\n",
    "    if(n == 1):\n",
    "        return str(1)\n",
    "    else:\n",
    "        return pattern(n-1) + printNum(n)\n",
    "    \n",
    "print(pattern(4))"
   ]
  },
  {
   "cell_type": "code",
   "execution_count": 4,
   "metadata": {
    "id": "Zx4qK9Sv8LQu"
   },
   "outputs": [
    {
     "name": "stdout",
     "output_type": "stream",
     "text": [
      "    1\n",
      "   12\n",
      "  123\n",
      " 1234\n",
      "12345\n"
     ]
    }
   ],
   "source": [
    "# Question 4 b\n",
    "\n",
    "def printNum(n1, n2, n3):\n",
    "    if(n1 == 0):\n",
    "        if(n2 != 1):\n",
    "            return '\\n' + ' '*(n3-n2)\n",
    "        else:\n",
    "            return ' '*(n3-n2)\n",
    "    \n",
    "    return printNum(n1-1, n2, n3) + str(n1) \n",
    "\n",
    "\n",
    "def pattern(n, newN):\n",
    "    if(n == 0):\n",
    "        return ''\n",
    "    else:\n",
    "        return pattern(n-1, newN) + printNum(n, n, newN)\n",
    "    \n",
    "print(pattern(5, 5))"
   ]
  },
  {
   "cell_type": "code",
   "execution_count": 3,
   "metadata": {},
   "outputs": [
    {
     "name": "stdout",
     "output_type": "stream",
     "text": [
      "Investment: 25000; Profit: 0.0\n",
      "Investment: 100000; Profit: 3375.0\n",
      "Investment: 250000; Profit: 15375.0\n",
      "Investment: 350000; Profit: 23375.0\n"
     ]
    }
   ],
   "source": [
    "class FinalQ: \n",
    "    def print(self,array,idx): \n",
    "        if(idx<len(array)): \n",
    "            profit = self.calcProfit(array[idx])  #TO DO \n",
    "            print(f'Investment: {array[idx]}; Profit: {profit}')\n",
    "            self.print(array, idx+1)\n",
    "        else:\n",
    "            return ''\n",
    "\n",
    "    def calcProfit(self,investment): \n",
    "        #TO DO \n",
    "        if(investment == 25000):\n",
    "            return 0.0\n",
    "        elif(investment > 25000 and investment <= 100000):\n",
    "            return self.calcProfit(investment - 100) + 4.5\n",
    "        elif(investment > 100000 and investment <= 110000):\n",
    "            return self.calcProfit(investment - 100) + 8\n",
    "        elif(investment > 110000):\n",
    "            return self.calcProfit(investment - 10000) + 800\n",
    "   \n",
    "#Tester \n",
    "array=[25000,100000,250000,350000] \n",
    "f = FinalQ() \n",
    "f.print(array,0)"
   ]
  },
  {
   "cell_type": "code",
   "execution_count": 2,
   "metadata": {},
   "outputs": [],
   "source": []
  },
  {
   "cell_type": "code",
   "execution_count": null,
   "metadata": {},
   "outputs": [],
   "source": []
  },
  {
   "cell_type": "code",
   "execution_count": null,
   "metadata": {},
   "outputs": [],
   "source": []
  }
 ],
 "metadata": {
  "colab": {
   "name": "CSE220 Lab4.ipynb",
   "provenance": []
  },
  "kernelspec": {
   "display_name": "Python 3",
   "language": "python",
   "name": "python3"
  },
  "language_info": {
   "codemirror_mode": {
    "name": "ipython",
    "version": 3
   },
   "file_extension": ".py",
   "mimetype": "text/x-python",
   "name": "python",
   "nbconvert_exporter": "python",
   "pygments_lexer": "ipython3",
   "version": "3.8.3"
  }
 },
 "nbformat": 4,
 "nbformat_minor": 1
}
