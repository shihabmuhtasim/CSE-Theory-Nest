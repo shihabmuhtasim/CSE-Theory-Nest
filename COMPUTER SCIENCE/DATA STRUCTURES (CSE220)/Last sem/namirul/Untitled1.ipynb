{
 "cells": [
  {
   "cell_type": "code",
   "execution_count": 2,
   "metadata": {},
   "outputs": [
    {
     "data": {
      "text/plain": [
       "1"
      ]
     },
     "execution_count": 2,
     "metadata": {},
     "output_type": "execute_result"
    }
   ],
   "source": [
    "def fib(n):\n",
    "    if(n == 0):\n",
    "        return 0\n",
    "    elif(n == 1):\n",
    "        return 1\n",
    "    else:\n",
    "        return fib(n-1) + fib(n-2)\n",
    "    \n",
    "fib(2)"
   ]
  },
  {
   "cell_type": "code",
   "execution_count": 3,
   "metadata": {},
   "outputs": [
    {
     "data": {
      "text/plain": [
       "120"
      ]
     },
     "execution_count": 3,
     "metadata": {},
     "output_type": "execute_result"
    }
   ],
   "source": [
    "def fact(n):\n",
    "    if (n==1):\n",
    "        return 1\n",
    "    else:\n",
    "        return n*fact(n-1)\n",
    "    \n",
    "fact(5)"
   ]
  },
  {
   "cell_type": "code",
   "execution_count": 6,
   "metadata": {},
   "outputs": [
    {
     "name": "stdout",
     "output_type": "stream",
     "text": [
      "[2, 5, 6, 17, 3, 21, 10]\n",
      "[2, 3, 6, 17, 5, 21, 10]\n",
      "[2, 3, 5, 17, 6, 21, 10]\n",
      "[2, 3, 5, 6, 17, 21, 10]\n",
      "[2, 3, 5, 6, 10, 21, 17]\n",
      "[2, 3, 5, 6, 10, 17, 21]\n",
      "[2, 3, 5, 6, 10, 17, 21]\n"
     ]
    }
   ],
   "source": [
    "def swap(a, min_idx, j, i):\n",
    "    if(j == len(a)):\n",
    "        temp = a[min_idx]\n",
    "        a[min_idx] = a[i]\n",
    "        a[i] = temp\n",
    "        return a\n",
    "    elif(a[j] < a[min_idx]):\n",
    "        min_idx = j\n",
    "        j = j + 1\n",
    "        return swap(a, min_idx, j, i)\n",
    "    else:\n",
    "        j = j + 1\n",
    "        return swap(a, min_idx, j, i)\n",
    "\n",
    "\n",
    "def selectionSort(a, i):\n",
    "    if(i == len(a) - 1):\n",
    "        return a\n",
    "    else:\n",
    "        a = swap(a, i, i+1, i)\n",
    "        return selectionSort(a, i + 1)\n",
    "    \n",
    "arr = [10, 5, 6, 17, 3, 21, 2]\n",
    "print(selectionSort(arr, 0))"
   ]
  },
  {
   "cell_type": "code",
   "execution_count": 19,
   "metadata": {},
   "outputs": [
    {
     "name": "stdout",
     "output_type": "stream",
     "text": [
      "[5, 6, 10, 3, 17, 2, 21]\n",
      "[5, 6, 3, 10, 2, 17, 21]\n",
      "[5, 3, 6, 2, 10, 17, 21]\n",
      "[3, 5, 2, 6, 10, 17, 21]\n",
      "[3, 2, 5, 6, 10, 17, 21]\n",
      "[2, 3, 5, 6, 10, 17, 21]\n",
      "[2, 3, 5, 6, 10, 17, 21]\n"
     ]
    }
   ],
   "source": [
    "def swap(arr, j, i):\n",
    "    if(j == len(arr)-i-1):\n",
    "        return arr\n",
    "    elif(arr[j]>arr[j+1]):\n",
    "        temp = arr[j]\n",
    "        arr[j] = arr[j+1]\n",
    "        arr[j+1] = temp\n",
    "        return swap(arr, j+1, i)\n",
    "    else:\n",
    "        j = j + 1\n",
    "        return swap(arr, j, i)\n",
    "\n",
    "def bubbleSort(arr, i):\n",
    "    if(i == len(arr) - 1):\n",
    "        return arr\n",
    "    else:\n",
    "        arr = swap(arr, 0, i)\n",
    "        return bubbleSort(arr, i+1)\n",
    "        \n",
    "arr = [10, 5, 6, 17, 3, 21, 2]\n",
    "print(bubbleSort(arr, 0))"
   ]
  },
  {
   "cell_type": "code",
   "execution_count": 22,
   "metadata": {},
   "outputs": [
    {
     "name": "stdout",
     "output_type": "stream",
     "text": [
      "[5, 10, 6, 17, 3, 21, 2]\n",
      "[5, 6, 10, 17, 3, 21, 2]\n",
      "[5, 6, 10, 17, 3, 21, 2]\n",
      "[3, 5, 6, 10, 17, 21, 2]\n",
      "[3, 5, 6, 10, 17, 21, 2]\n",
      "[2, 3, 5, 6, 10, 17, 21]\n",
      "[2, 3, 5, 6, 10, 17, 21]\n"
     ]
    }
   ],
   "source": [
    "def insertionSort(arr, i):\n",
    "    if(i == len(arr)):\n",
    "        return arr\n",
    "    else:\n",
    "        key = arr[i]\n",
    "        j = i - 1\n",
    "        while(j >= 0 and arr[j]>key):\n",
    "            arr[j+1] = arr[j]\n",
    "            j = j - 1\n",
    "        arr[j+1] = key\n",
    "        print(arr)\n",
    "        return insertionSort(arr, i+1)\n",
    "    \n",
    "arr = [10, 5, 6, 17, 3, 21, 2]\n",
    "print(insertionSort(arr, 1))"
   ]
  },
  {
   "cell_type": "code",
   "execution_count": 24,
   "metadata": {},
   "outputs": [
    {
     "name": "stdout",
     "output_type": "stream",
     "text": [
      "[5, 10, 6, 17, 3, 21, 2]\n",
      "[5, 6, 10, 17, 3, 21, 2]\n",
      "[5, 6, 10, 17, 3, 21, 2]\n",
      "[3, 5, 6, 10, 17, 21, 2]\n",
      "[3, 5, 6, 10, 17, 21, 2]\n",
      "[2, 3, 5, 6, 10, 17, 21]\n",
      "[2, 3, 5, 6, 10, 17, 21]\n"
     ]
    }
   ],
   "source": [
    "def swapCheck(arr, key, j):\n",
    "    if(j >= 0 and arr[j]>key):\n",
    "        arr[j+1] = arr[j]\n",
    "        j = j - 1\n",
    "        return swapCheck(arr, key, j)\n",
    "    else:\n",
    "        arr[j+1] = key\n",
    "        return arr\n",
    "    \n",
    "def insertionSort(arr, i):\n",
    "    if(i == len(arr)):\n",
    "        return arr\n",
    "    else:\n",
    "        key = arr[i]\n",
    "        j = i - 1\n",
    "        arr = swapCheck(arr, key, j)\n",
    "        print(arr)\n",
    "        return insertionSort(arr, i+1)\n",
    "    \n",
    "arr = [10, 5, 6, 17, 3, 21, 2]\n",
    "print(insertionSort(arr, 1))"
   ]
  },
  {
   "cell_type": "code",
   "execution_count": 16,
   "metadata": {},
   "outputs": [
    {
     "name": "stdout",
     "output_type": "stream",
     "text": [
      "2\n",
      "3\n",
      "5\n",
      "6\n",
      "10\n",
      "17\n",
      "21\n"
     ]
    }
   ],
   "source": [
    "class Node:\n",
    "    def __init__(self, data, nxt):\n",
    "        self.data = data\n",
    "        self.next = nxt\n",
    "        \n",
    "class LinkedList:\n",
    "    def __init__(self, arr):\n",
    "        self.head = None\n",
    "        tail = None\n",
    "        \n",
    "        for i in range(len(arr)):\n",
    "            newNode = Node(arr[i], None)\n",
    "            if(self.head == None):\n",
    "                self.head = newNode\n",
    "                tail = newNode\n",
    "            else:\n",
    "                tail.next = newNode\n",
    "                tail = newNode\n",
    "                \n",
    "def selectionSort(head):\n",
    "    if(head.next == None):\n",
    "        return head\n",
    "    else:\n",
    "        n = head.next\n",
    "        min_node = n\n",
    "        while(n != None):\n",
    "            if(n.data < min_node.data):\n",
    "                min_node = n\n",
    "            n = n.next\n",
    "        \n",
    "        tempNodeData = head.data\n",
    "        head.data = min_node.data\n",
    "        min_node.data = tempNodeData\n",
    "    \n",
    "        return selectionSort(head.next)\n",
    "\n",
    "def printList(head):\n",
    "    n = head\n",
    "    while(n != None):\n",
    "        print(n.data)\n",
    "        n = n.next\n",
    "    \n",
    "arr = [10, 5, 6, 17, 3, 21, 2]\n",
    "newList = LinkedList(arr)\n",
    "\n",
    "selectionSort(newList.head)\n",
    "printList(newList.head)"
   ]
  },
  {
   "cell_type": "code",
   "execution_count": 2,
   "metadata": {},
   "outputs": [
    {
     "name": "stdout",
     "output_type": "stream",
     "text": [
      "2\n",
      "3\n",
      "5\n",
      "6\n",
      "10\n",
      "17\n",
      "21\n"
     ]
    }
   ],
   "source": [
    "def bubbleSort(head, tail):\n",
    "    if(tail == head.next):\n",
    "        return head\n",
    "    else:\n",
    "        n = head\n",
    "        while(n.next != tail):\n",
    "            if(n.data > n.next.data):\n",
    "                temp = n.data\n",
    "                n.data = n.next.data\n",
    "                n.next.data = temp\n",
    "            n = n.next\n",
    "        tail = n\n",
    "        return bubbleSort(head, tail)\n",
    "\n",
    "arr = [10, 5, 6, 17, 3, 21, 2]\n",
    "newList = LinkedList(arr)\n",
    "bubbleSort(newList.head, None)\n",
    "printList(newList.head)"
   ]
  },
  {
   "cell_type": "code",
   "execution_count": 18,
   "metadata": {},
   "outputs": [
    {
     "name": "stdout",
     "output_type": "stream",
     "text": [
      "2\n",
      "3\n",
      "5\n",
      "6\n",
      "10\n",
      "14\n",
      "17\n",
      "21\n"
     ]
    }
   ],
   "source": [
    "class Node:\n",
    "    def __init__(self, data, nxt, prev):\n",
    "        self.data = data\n",
    "        self.next = nxt\n",
    "        self.prev = prev\n",
    "        \n",
    "class DoublyLinkedList:\n",
    "    def __init__(self, arr):\n",
    "        self.head = None\n",
    "        tail = None\n",
    "        \n",
    "        for i in range(len(arr)):\n",
    "            newNode = Node(arr[i], None, None)\n",
    "            if(self.head == None):\n",
    "                self.head = newNode\n",
    "                tail = newNode\n",
    "            else:\n",
    "                tail.next = newNode\n",
    "                newNode.prev = tail\n",
    "                tail = newNode\n",
    "                \n",
    "def insertionSort(head, newList):\n",
    "    if(head == None):\n",
    "        return head\n",
    "    else:\n",
    "        n = head\n",
    "        nextNode = n.next\n",
    "        prevNode = n.prev\n",
    "        changed = False\n",
    "        \n",
    "        while(prevNode != None and prevNode.data > n.data):\n",
    "            prevNode = prevNode.prev\n",
    "            changed = True\n",
    "            \n",
    "        if(prevNode == None):\n",
    "            if(n.next != None):\n",
    "                n.next.prev = n.prev\n",
    "            n.prev.next = n.next\n",
    "            n.next = newList.head\n",
    "            n.prev = None\n",
    "            newList.head.prev = n\n",
    "            newList.head = n\n",
    "        \n",
    "        elif(changed == True):\n",
    "            n.prev.next = n.next\n",
    "            if(n.next != None):\n",
    "                n.next.prev = n.prev\n",
    "            prevNode = prevNode.next\n",
    "            n.next = prevNode\n",
    "            prevNode.prev.next = n\n",
    "            n.prev = prevNode.prev\n",
    "            prevNode.prev = n\n",
    "            \n",
    "        return insertionSort(nextNode, newList)\n",
    "    \n",
    "arr = [10, 5, 6, 17, 3, 21, 2, 14]\n",
    "newList = DoublyLinkedList(arr)\n",
    "insertionSort(newList.head.next, newList)\n",
    "\n",
    "printList(newList.head)"
   ]
  },
  {
   "cell_type": "code",
   "execution_count": 10,
   "metadata": {},
   "outputs": [
    {
     "name": "stdout",
     "output_type": "stream",
     "text": [
      "-1\n"
     ]
    }
   ],
   "source": [
    "def binarySearch(arr, value, l, r):\n",
    "    mid = (l+r)//2\n",
    "    if(l >= r):\n",
    "        return -1\n",
    "    elif(arr[mid] == value):\n",
    "        return mid\n",
    "    elif(arr[mid] > value):\n",
    "        r = mid - 1\n",
    "    else:\n",
    "        l = mid + 1\n",
    "    return binarySearch(arr, value, l, r)\n",
    "\n",
    "arr = [2, 3, 5, 6, 10, 17, 21]\n",
    "print(binarySearch(arr, 1, 0, len(arr)-1))"
   ]
  },
  {
   "cell_type": "code",
   "execution_count": 11,
   "metadata": {},
   "outputs": [],
   "source": [
    "def insertionSort(head, newList):\n",
    "    if(head == None):\n",
    "        return head\n",
    "    else:\n",
    "        n = head\n",
    "        nextNode = n.next\n",
    "        prevNode = n.prev\n",
    "        changed = False\n",
    "        \n",
    "        while(prevNode != None and prevNode.data > n.data):\n",
    "            print(prevNode)\n",
    "            prevNode = prevNode.prev\n",
    "            changed = True\n",
    "            \n",
    "        if(prevNode == None):\n",
    "            if(n.next != None):\n",
    "                n.next.prev = n.prev\n",
    "            n.prev.next = n.next\n",
    "            n.next = newList.head\n",
    "            n.prev = None\n",
    "            newList.head.prev = n\n",
    "            newList.head = n\n",
    "        \n",
    "        elif(changed == True):\n",
    "            n.prev.next = n.next\n",
    "            if(n.next != None):\n",
    "                n.next.prev = n.prev\n",
    "            prevNode = prevNode.next\n",
    "            n.next = prevNode\n",
    "            prevNode.prev.next = n\n",
    "            n.prev = prevNode.prev\n",
    "            prevNode.prev = n\n",
    "            \n",
    "        return insertionSort(nextNode, newList)"
   ]
  },
  {
   "cell_type": "code",
   "execution_count": null,
   "metadata": {},
   "outputs": [],
   "source": [
    "def insertionSort(head, newList):\n",
    "    if(head == None):\n",
    "        return head\n",
    "    else:\n",
    "        n = head\n",
    "        nextNode = n.next\n",
    "        prevNode = n.prev\n",
    "        changed = False\n",
    "        while(prevNode != None and prevNode.data > n.data):\n",
    "            prevNode = prevNode.prev\n",
    "            changed = True\n",
    "        \n",
    "        if(changed == True and prevNode == None):\n",
    "            n.prev.next = n.next\n",
    "            if(n.next != None):\n",
    "                n.next.prev = n.prev\n",
    "            n.prev = None\n",
    "            n.next = newList.head\n",
    "            newList.head = n\n",
    "            \n",
    "        elif(changed == True and prevNode != None):\n",
    "            n.prev.next = n.next\n",
    "            if(n.next != None):\n",
    "                n.next.prev = n.prev\n",
    "            prevNode = prevNode.next\n",
    "            n.prev = prevNode.prev\n",
    "            n.next = prevNode\n",
    "            \n",
    "        return insertionSort(nextNode, newList)\n",
    "    "
   ]
  }
 ],
 "metadata": {
  "kernelspec": {
   "display_name": "Python 3",
   "language": "python",
   "name": "python3"
  },
  "language_info": {
   "codemirror_mode": {
    "name": "ipython",
    "version": 3
   },
   "file_extension": ".py",
   "mimetype": "text/x-python",
   "name": "python",
   "nbconvert_exporter": "python",
   "pygments_lexer": "ipython3",
   "version": "3.8.3"
  }
 },
 "nbformat": 4,
 "nbformat_minor": 4
}
