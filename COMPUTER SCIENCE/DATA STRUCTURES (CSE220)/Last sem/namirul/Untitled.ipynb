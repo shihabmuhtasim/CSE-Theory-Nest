{
 "cells": [
  {
   "cell_type": "code",
   "execution_count": 1,
   "metadata": {},
   "outputs": [],
   "source": [
    "class Node:\n",
    "    def __init__(self, data, nextAdd):\n",
    "        self.data = data\n",
    "        self.next = nextAdd\n",
    "        \n",
    "class SinglyLinkedList:\n",
    "    def __init__(self, arr):\n",
    "        self.head = None\n",
    "        tail = self.head\n",
    "        \n",
    "        for i in range(len(arr)):\n",
    "            newNode = Node(arr[i], None)\n",
    "            if(self.head == None):\n",
    "                self.head = newNode\n",
    "                tail = newNode\n",
    "            else:\n",
    "                tail.next = newNode\n",
    "                tail = newNode"
   ]
  },
  {
   "cell_type": "code",
   "execution_count": 22,
   "metadata": {},
   "outputs": [
    {
     "name": "stdout",
     "output_type": "stream",
     "text": [
      "-3\n",
      "1\n",
      "1\n",
      "2\n",
      "4\n",
      "5\n",
      "6\n",
      "7\n",
      "8\n"
     ]
    }
   ],
   "source": [
    "class keyIndexTable:\n",
    "    def __init__(self, arr):\n",
    "        min_num = arr[0]\n",
    "        max_num = arr[0]\n",
    "        \n",
    "        for i in range(1, len(arr)):\n",
    "            if(arr[i] < min_num):\n",
    "                min_num = arr[i]\n",
    "            if(arr[i] > max_num):\n",
    "                max_num = arr[i]\n",
    "        \n",
    "        new_arr = [0]*(max_num-min_num+1)\n",
    "        \n",
    "        for i in range(len(arr)):\n",
    "            new_arr[arr[i]-min_num] += 1\n",
    "\n",
    "        self.min_num = min_num\n",
    "        self.arr = new_arr\n",
    "# def make_table(arr):\n",
    "#     min_num = arr[0]\n",
    "#     max_num = arr[0]\n",
    "#     for i in range(1, len(arr)):\n",
    "#         if(arr[i] < min_num):\n",
    "#             min_num = arr[i]\n",
    "#         if(arr[i] > max_num):\n",
    "#             max_num = arr[i]\n",
    "#     new_arr = [0]*(max_num-min_num+1)\n",
    "#     print(len(new_arr))\n",
    "#     for i in range(len(arr)):\n",
    "#         new_arr[arr[i]-min_num] += 1\n",
    "\n",
    "#     return new_arr\n",
    "\n",
    "    def search(self, value):\n",
    "        if( ( value-self.min_num > 0) and ( value-self.min_num < len(self.arr) - 1 )  and self.arr[value-self.min_num] != 0):\n",
    "            return f\"Found {self.arr[value-self.min_num]} similar results\"\n",
    "        else:\n",
    "            return \"Sorry, could not find anything related to your search\"\n",
    "\n",
    "    def sort(self):\n",
    "        for i in range(len(self.arr)):\n",
    "            if(self.arr[i] != 0):\n",
    "                for j in range(self.arr[i]):\n",
    "                    print(i+self.min_num)\n",
    "            \n",
    "arr = [5, 7, 1, 2, 4, 6, 8, -3, 1]\n",
    "new_arr = keyIndexTable(arr)\n",
    "new_arr.search(25)\n",
    "new_arr.sort()"
   ]
  },
  {
   "cell_type": "code",
   "execution_count": 19,
   "metadata": {},
   "outputs": [
    {
     "name": "stdout",
     "output_type": "stream",
     "text": [
      "Collision\n",
      "Collision\n"
     ]
    },
    {
     "data": {
      "text/plain": [
       "['CAB', 'LKN', 0, 'TOP', 0, 'PAL']"
      ]
     },
     "execution_count": 19,
     "metadata": {},
     "output_type": "execute_result"
    }
   ],
   "source": [
    "class HashTable:\n",
    "    def __init__(self, arr):\n",
    "        collision = False\n",
    "        new_arr = [0]*len(arr)\n",
    "        for i in range(len(arr)):\n",
    "            arr[i] = arr[i].upper()\n",
    "            total = 0\n",
    "            for j in range(len(arr[i])):\n",
    "                total += (ord(arr[i][j]) - 64)\n",
    "            new_arr[total%len(new_arr)] = arr[i]\n",
    "        self.arr = new_arr\n",
    "        \n",
    "arr = ['ABC', 'IKJ', 'LKN', 'CAB', 'PAL', 'TOP']\n",
    "new_arr = HashTable(arr)\n",
    "new_arr.arr"
   ]
  },
  {
   "cell_type": "code",
   "execution_count": 28,
   "metadata": {},
   "outputs": [
    {
     "name": "stdout",
     "output_type": "stream",
     "text": [
      "0 ABC\n",
      "5 PAL\n",
      "0 IKJ\n",
      "1 LKN\n",
      "0 CAB\n",
      "3 TOP\n"
     ]
    },
    {
     "data": {
      "text/plain": [
       "['ABC', 'IKJ', 'LKN', 'CAB', 'TOP', 'PAL']"
      ]
     },
     "execution_count": 28,
     "metadata": {},
     "output_type": "execute_result"
    }
   ],
   "source": [
    "class HashTableWithLinearProbing:\n",
    "    def __init__(self, arr):\n",
    "        new_arr = [0]*len(arr)\n",
    "        for i in range(len(arr)):\n",
    "            arr[i] = arr[i].upper()\n",
    "            total = 0\n",
    "            for j in range(len(arr[i])):\n",
    "                total += (ord(arr[i][j]) - 64) \n",
    "            k = total%len(new_arr)\n",
    "            if(new_arr[k] != 0):\n",
    "                while(new_arr[k] != 0):\n",
    "                    k = (k + 1)%len(new_arr)\n",
    "            new_arr[k] = arr[i]\n",
    "        self.arr = new_arr\n",
    "\n",
    "        \n",
    "arr = ['ABC', 'PAL', 'IKJ', 'LKN', 'CAB', 'TOP']\n",
    "new_arr = HashTableWithLinearProbing(arr)\n",
    "new_arr.arr"
   ]
  },
  {
   "cell_type": "code",
   "execution_count": 2,
   "metadata": {},
   "outputs": [
    {
     "data": {
      "text/plain": [
       "-1"
      ]
     },
     "execution_count": 2,
     "metadata": {},
     "output_type": "execute_result"
    }
   ],
   "source": [
    "class Node:\n",
    "    def __init__(self, data, nextAdd):\n",
    "        self.data = data\n",
    "        self.next = nextAdd\n",
    "        \n",
    "class SinglyLinkedList:\n",
    "    def __init__(self, arr):\n",
    "        self.head = Node(None, None)\n",
    "        tail = self.head\n",
    "        \n",
    "        for i in range(len(arr)):\n",
    "            newNode = Node(arr[i], None)\n",
    "            if(self.head == None):\n",
    "                self.head = newNode\n",
    "                tail = newNode\n",
    "            else:\n",
    "                tail.next = newNode\n",
    "                tail = newNode\n",
    "\n",
    "class HashTableWithForwardChaining:\n",
    "    def __init__(self, arr):\n",
    "        new_arr = [0]*len(arr)\n",
    "        \n",
    "        for i in range(len(arr)):\n",
    "            arr[i] = arr[i].upper()\n",
    "            total = 0\n",
    "            for j in range(len(arr[i])):\n",
    "                total += (ord(arr[i][j]) - 64)\n",
    "            k = total % len(new_arr)\n",
    "            if(new_arr[k] != 0):\n",
    "                n = new_arr[k].head\n",
    "                while(n.next != None):\n",
    "                    n = n.next\n",
    "                n.next = Node(arr[i], None)\n",
    "            else:\n",
    "                new_arr[k] = SinglyLinkedList([new_arr[i]])\n",
    "                new_arr[k].head.next = Node(arr[i], None)\n",
    "                \n",
    "        self.arr = new_arr\n",
    "#         for i in range(len(self.arr)):\n",
    "#             if(self.arr[i] != 0):\n",
    "#                 n = self.arr[i].head\n",
    "#                 while(n != None):\n",
    "#                     print(i, n.data)\n",
    "#                     n = n.next\n",
    "#             else:\n",
    "#                 print(i, self.arr[i])\n",
    "\n",
    "    def search(self, value):\n",
    "        for i in range(len(self.arr)):\n",
    "            if(self.arr[i] != 0):\n",
    "                n = self.arr[i].head\n",
    "                while(n != None):\n",
    "                    if(n.data == value):\n",
    "                        return i\n",
    "                    else:\n",
    "                        n = n.next\n",
    "        return -1\n",
    "        \n",
    "arr = ['ABC', 'PAL', 'IKJ', 'LKN', 'CAB', 'TOP']\n",
    "new_arr = HashTableWithForwardChaining(arr)\n",
    "new_arr.arr\n",
    "new_arr.search('XYZ')"
   ]
  },
  {
   "cell_type": "code",
   "execution_count": null,
   "metadata": {},
   "outputs": [],
   "source": []
  }
 ],
 "metadata": {
  "kernelspec": {
   "display_name": "Python 3",
   "language": "python",
   "name": "python3"
  },
  "language_info": {
   "codemirror_mode": {
    "name": "ipython",
    "version": 3
   },
   "file_extension": ".py",
   "mimetype": "text/x-python",
   "name": "python",
   "nbconvert_exporter": "python",
   "pygments_lexer": "ipython3",
   "version": "3.8.3"
  }
 },
 "nbformat": 4,
 "nbformat_minor": 4
}
