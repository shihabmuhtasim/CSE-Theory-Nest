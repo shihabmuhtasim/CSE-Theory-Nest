{
 "cells": [
  {
   "cell_type": "code",
   "execution_count": 11,
   "id": "9f257df7",
   "metadata": {},
   "outputs": [
    {
     "data": {
      "text/plain": [
       "120"
      ]
     },
     "execution_count": 11,
     "metadata": {},
     "output_type": "execute_result"
    }
   ],
   "source": [
    "def factorial(n):\n",
    "    if n == 0:\n",
    "        return 1\n",
    "    else:\n",
    "        return n * factorial(n-1)\n",
    "factorial(5)"
   ]
  },
  {
   "cell_type": "code",
   "execution_count": 10,
   "id": "28dacb34",
   "metadata": {},
   "outputs": [
    {
     "name": "stdout",
     "output_type": "stream",
     "text": [
      "21\n"
     ]
    }
   ],
   "source": [
    "def fibonacci(n):\n",
    "    if n<=1:\n",
    "        return n\n",
    "    else:\n",
    "        return fibonacci(n-1)+fibonacci(n-2)\n",
    "    \n",
    "print(fibonacci(8))"
   ]
  },
  {
   "cell_type": "code",
   "execution_count": 46,
   "id": "3aee9974",
   "metadata": {},
   "outputs": [
    {
     "ename": "IndexError",
     "evalue": "list index out of range",
     "output_type": "error",
     "traceback": [
      "\u001b[1;31m---------------------------------------------------------------------------\u001b[0m",
      "\u001b[1;31mIndexError\u001b[0m                                Traceback (most recent call last)",
      "Input \u001b[1;32mIn [46]\u001b[0m, in \u001b[0;36m<cell line: 12>\u001b[1;34m()\u001b[0m\n\u001b[0;32m     10\u001b[0m n\u001b[38;5;241m=\u001b[39m\u001b[38;5;241m5\u001b[39m\n\u001b[0;32m     11\u001b[0m a\u001b[38;5;241m=\u001b[39m[\u001b[38;5;28;01mNone\u001b[39;00m]\u001b[38;5;241m*\u001b[39mn\n\u001b[1;32m---> 12\u001b[0m \u001b[43mfibo\u001b[49m\u001b[43m(\u001b[49m\u001b[43mn\u001b[49m\u001b[43m,\u001b[49m\u001b[43ma\u001b[49m\u001b[43m)\u001b[49m\n",
      "Input \u001b[1;32mIn [46]\u001b[0m, in \u001b[0;36mfibo\u001b[1;34m(n, a)\u001b[0m\n\u001b[0;32m      3\u001b[0m \u001b[38;5;28;01mif\u001b[39;00m n\u001b[38;5;241m<\u001b[39m\u001b[38;5;241m=\u001b[39m\u001b[38;5;241m1\u001b[39m:\n\u001b[0;32m      4\u001b[0m     \u001b[38;5;28;01mreturn\u001b[39;00m \u001b[38;5;241m1\u001b[39m\n\u001b[1;32m----> 5\u001b[0m \u001b[38;5;28;01melif\u001b[39;00m \u001b[43ma\u001b[49m\u001b[43m[\u001b[49m\u001b[43mn\u001b[49m\u001b[43m]\u001b[49m\u001b[38;5;241m!=\u001b[39m\u001b[38;5;28;01mNone\u001b[39;00m:\n\u001b[0;32m      6\u001b[0m     \u001b[38;5;28;01mreturn\u001b[39;00m a[n]\n\u001b[0;32m      7\u001b[0m \u001b[38;5;28;01melse\u001b[39;00m:\n",
      "\u001b[1;31mIndexError\u001b[0m: list index out of range"
     ]
    }
   ],
   "source": [
    "#look\n",
    "def fibo(n,a):\n",
    "    if n<=1:\n",
    "        return 1\n",
    "    elif a[n]!=None:\n",
    "        return a[n]\n",
    "    else:\n",
    "        a[n]=fibo(n-1,a)+fibo(n-2,a)\n",
    "        return a[n]   \n",
    "n=5\n",
    "a=[None]*n\n",
    "fibo(n,a)"
   ]
  },
  {
   "cell_type": "code",
   "execution_count": 18,
   "id": "e343f6a0",
   "metadata": {},
   "outputs": [
    {
     "name": "stdout",
     "output_type": "stream",
     "text": [
      "10 20 30 40 "
     ]
    }
   ],
   "source": [
    "#LOOK\n",
    "def prnt(a,idx):\n",
    "    if idx<len(a):\n",
    "        print(a[idx],end=\" \")\n",
    "        prnt(a, idx+1)\n",
    "    \n",
    "a=[10,20,30,40]\n",
    "prnt(a,0)"
   ]
  },
  {
   "cell_type": "code",
   "execution_count": 21,
   "id": "89964b6a",
   "metadata": {},
   "outputs": [
    {
     "data": {
      "text/plain": [
       "16"
      ]
     },
     "execution_count": 21,
     "metadata": {},
     "output_type": "execute_result"
    }
   ],
   "source": [
    "def power(base, n):\n",
    "    if n==0:\n",
    "        return 1\n",
    "    else:\n",
    "        return base* power(base,n-1)\n",
    "        \n",
    "\n",
    "    \n",
    "power(4,2)"
   ]
  },
  {
   "cell_type": "code",
   "execution_count": 7,
   "id": "152c3045",
   "metadata": {},
   "outputs": [
    {
     "name": "stdout",
     "output_type": "stream",
     "text": [
      "1\n",
      "0\n",
      "1\n"
     ]
    }
   ],
   "source": [
    "def bina(n):\n",
    "    if n==0:\n",
    "        return \n",
    "    else:\n",
    "        bina(n//2)\n",
    "        print(n%2)\n",
    "      \n",
    "bina(5)"
   ]
  },
  {
   "cell_type": "code",
   "execution_count": 9,
   "id": "7eee60ab",
   "metadata": {},
   "outputs": [
    {
     "data": {
      "text/plain": [
       "100"
      ]
     },
     "execution_count": 9,
     "metadata": {},
     "output_type": "execute_result"
    }
   ],
   "source": [
    "# 2(b) \n",
    "class Node:\n",
    "  def __init__(self,data,n):\n",
    "    self.data=data\n",
    "    self.next=n\n",
    "class Singly:\n",
    "  def __init__(self,arr):\n",
    "    self.head=Node(arr[0],None)\n",
    "    temp=self.head\n",
    "    for i in range (1, len(arr)):\n",
    "      n=Node(arr[i],None)\n",
    "      temp.next=n\n",
    "      temp=n\n",
    "    \n",
    "arr=[10,20,30,40]\n",
    "s=Singly(arr)\n",
    "hold= s.head\n",
    "\n",
    "def total(head):\n",
    "    if head==None:\n",
    "        return 0\n",
    "    else:\n",
    "        return head.data+ total(head.next) \n",
    "    \n",
    "total(hold)"
   ]
  },
  {
   "cell_type": "code",
   "execution_count": 11,
   "id": "b9cfcefe",
   "metadata": {},
   "outputs": [
    {
     "name": "stdout",
     "output_type": "stream",
     "text": [
      "40 30 20 10 "
     ]
    }
   ],
   "source": [
    "# 2(c) \n",
    "class Node:\n",
    "  def __init__(self,data,n):\n",
    "    self.data=data\n",
    "    self.next=n\n",
    "class Singly:\n",
    "  def __init__(self,arr):\n",
    "    self.head=Node(arr[0],None)\n",
    "    temp=self.head\n",
    "    for i in range (1, len(arr)):\n",
    "      n=Node(arr[i],None)\n",
    "      temp.next=n\n",
    "      temp=n\n",
    "    \n",
    "arr=[10,20,30,40]\n",
    "s=Singly(arr)\n",
    "hold= s.head\n",
    "\n",
    "def rev(head):\n",
    "    if head==None:\n",
    "        return\n",
    "    else:\n",
    "        rev(head.next)\n",
    "        print(head.data,end=\" \")\n",
    "    \n",
    "    \n",
    "    \n",
    "rev(hold)"
   ]
  },
  {
   "cell_type": "code",
   "execution_count": 17,
   "id": "b907c559",
   "metadata": {},
   "outputs": [
    {
     "name": "stdout",
     "output_type": "stream",
     "text": [
      "1\n",
      "12\n",
      "123\n",
      "1234\n",
      "12345\n"
     ]
    }
   ],
   "source": [
    "#4\n",
    "\n",
    "def upton(n):\n",
    "    if n==0:\n",
    "        return\n",
    "    else:\n",
    "        upton(n-1)\n",
    "        print(n,end=\"\")\n",
    "    \n",
    "    \n",
    "def pattern(n):\n",
    "    if n==0:\n",
    "        return\n",
    "    else:\n",
    "        pattern(n-1)\n",
    "        upton(n)\n",
    "        print()   \n",
    "pattern(5)"
   ]
  },
  {
   "cell_type": "code",
   "execution_count": 20,
   "id": "20b4bd73",
   "metadata": {},
   "outputs": [
    {
     "name": "stdout",
     "output_type": "stream",
     "text": [
      "    1\n",
      "   12\n",
      "  123\n",
      " 1234\n",
      "12345\n"
     ]
    }
   ],
   "source": [
    "#4 LOOK\n",
    "\n",
    "def upton(n):\n",
    "    if n==0:\n",
    "        return\n",
    "    else:\n",
    "        upton(n-1)\n",
    "        print(n,end=\"\")\n",
    "def spaces(n):\n",
    "    if n==0:\n",
    "        return\n",
    "    else:\n",
    "        spaces(n-1)\n",
    "        print(\" \",end=\"\")\n",
    "    \n",
    "    \n",
    "def pattern(n,s):\n",
    "    if n==0:\n",
    "        return\n",
    "    else:\n",
    "        pattern(n-1,s+1)\n",
    "        spaces(s)\n",
    "        upton(n)\n",
    "        print()   \n",
    "pattern(5,0)"
   ]
  },
  {
   "cell_type": "code",
   "execution_count": 27,
   "id": "ab0d5287",
   "metadata": {},
   "outputs": [
    {
     "name": "stdout",
     "output_type": "stream",
     "text": [
      "No house\n"
     ]
    }
   ],
   "source": [
    "#3\n",
    "def build(n):\n",
    "    if n==0:\n",
    "        print(\"No house\")\n",
    "    elif n==1:\n",
    "        return 8\n",
    "    else:\n",
    "        return 5+build(n-1)\n",
    "        \n",
    "    \n",
    "build(0)\n"
   ]
  },
  {
   "cell_type": "code",
   "execution_count": 38,
   "id": "6cd28c2c",
   "metadata": {},
   "outputs": [
    {
     "name": "stdout",
     "output_type": "stream",
     "text": [
      "5657\n"
     ]
    }
   ],
   "source": [
    "#find max (LOOK)\n",
    "def maxi(a,idx,max):\n",
    "    if idx<len(a):\n",
    "        if a[idx]>max:\n",
    "            max=a[idx]\n",
    "        else:\n",
    "            pass\n",
    "        return maxi(a,idx+1,max)\n",
    "    else:\n",
    "        return max\n",
    "        \n",
    "a=[10,20,40,30,6,7,8,12,3,4,5657,34,231,456]    \n",
    "print(maxi(a,0,a[0]))"
   ]
  },
  {
   "cell_type": "code",
   "execution_count": 45,
   "id": "bbdbe32a",
   "metadata": {},
   "outputs": [
    {
     "data": {
      "text/plain": [
       "5"
      ]
     },
     "execution_count": 45,
     "metadata": {},
     "output_type": "execute_result"
    }
   ],
   "source": [
    "#LEN of STRING\n",
    "\n",
    "def string(n):\n",
    "    if n==\"\":\n",
    "        return 0\n",
    "    else:\n",
    "        return 1+string(n[1:])\n",
    "        \n",
    "\n",
    "\n",
    "string(\"ABCDE\")"
   ]
  },
  {
   "cell_type": "code",
   "execution_count": 43,
   "id": "27886232",
   "metadata": {},
   "outputs": [],
   "source": []
  }
 ],
 "metadata": {
  "kernelspec": {
   "display_name": "Python 3 (ipykernel)",
   "language": "python",
   "name": "python3"
  },
  "language_info": {
   "codemirror_mode": {
    "name": "ipython",
    "version": 3
   },
   "file_extension": ".py",
   "mimetype": "text/x-python",
   "name": "python",
   "nbconvert_exporter": "python",
   "pygments_lexer": "ipython3",
   "version": "3.9.12"
  }
 },
 "nbformat": 4,
 "nbformat_minor": 5
}
