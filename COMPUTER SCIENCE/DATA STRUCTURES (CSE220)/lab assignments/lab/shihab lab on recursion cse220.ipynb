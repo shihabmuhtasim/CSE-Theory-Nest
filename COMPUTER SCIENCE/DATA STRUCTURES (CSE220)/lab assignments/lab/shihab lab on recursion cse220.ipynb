{
 "cells": [
  {
   "cell_type": "code",
   "execution_count": 39,
   "id": "8c92392d",
   "metadata": {},
   "outputs": [
    {
     "name": "stdout",
     "output_type": "stream",
     "text": [
      "6\n"
     ]
    }
   ],
   "source": [
    "# 1(a) Function to find factorial of given number\n",
    "def factorial(n):\n",
    "    if n == 0:\n",
    "        return 1\n",
    "    return n * factorial(n-1)\n",
    "print(factorial(3))"
   ]
  },
  {
   "cell_type": "code",
   "execution_count": 4,
   "id": "b0dc1166",
   "metadata": {},
   "outputs": [
    {
     "name": "stdout",
     "output_type": "stream",
     "text": [
      "2\n"
     ]
    }
   ],
   "source": [
    "# 1 (b) Fibonacci series\n",
    "def fibonacci(n):\n",
    "  if n<=1:\n",
    "    return n\n",
    "  return fibonacci(n-1)+fibonacci(n-2)\n",
    "print(fibonacci(3))"
   ]
  },
  {
   "cell_type": "code",
   "execution_count": 41,
   "id": "4d13e0c8",
   "metadata": {},
   "outputs": [
    {
     "name": "stdout",
     "output_type": "stream",
     "text": [
      "10 20 30 40 "
     ]
    }
   ],
   "source": [
    "# 1(c) Print all the elements of a given array recursively.\n",
    "def PrintArray(arr, idx=0):\n",
    "  if idx<len(arr):\n",
    "    print(arr[idx],end=\" \")\n",
    "    idx+=1\n",
    "    PrintArray(arr,idx)\n",
    "\n",
    "arr=[10,20,30,40]\n",
    "PrintArray(arr)"
   ]
  },
  {
   "cell_type": "code",
   "execution_count": 43,
   "id": "41d2fb7a",
   "metadata": {},
   "outputs": [
    {
     "name": "stdout",
     "output_type": "stream",
     "text": [
      "9\n"
     ]
    }
   ],
   "source": [
    "# 1(d) base  to the n power\n",
    "def powerN(base, n):\n",
    "  if n==0:\n",
    "    return 1\n",
    "  else:  \n",
    "    return base* powerN(base, n-1)\n",
    "print(powerN(3, 2))"
   ]
  },
  {
   "cell_type": "code",
   "execution_count": 1,
   "id": "fbc873b3",
   "metadata": {},
   "outputs": [
    {
     "name": "stdout",
     "output_type": "stream",
     "text": [
      "1110011"
     ]
    }
   ],
   "source": [
    "# 2(a) decimal to binary\n",
    "def binary(deci):\n",
    "  if deci==0:\n",
    "    return \n",
    "  else:\n",
    "    binary(deci//2)\n",
    "    print(deci%2, end=\"\")\n",
    "binary(115)"
   ]
  },
  {
   "cell_type": "code",
   "execution_count": 17,
   "id": "2cf3ebd9",
   "metadata": {},
   "outputs": [
    {
     "name": "stdout",
     "output_type": "stream",
     "text": [
      "100\n"
     ]
    }
   ],
   "source": [
    "# 2(b) \n",
    "class Node:\n",
    "  def __init__(self,data,n):\n",
    "    self.data=data\n",
    "    self.next=n\n",
    "class Singly:\n",
    "  def __init__(self,arr):\n",
    "    self.head=Node(arr[0],None)\n",
    "    temp=self.head\n",
    "    for i in range (1, len(arr)):\n",
    "      n=Node(arr[i],None)\n",
    "      temp.next=n\n",
    "      temp=n\n",
    "    \n",
    "arr=[10,20,30,40]\n",
    "s=Singly(arr)\n",
    "hold= s.head\n",
    "def add(head):\n",
    "    temp=head\n",
    "    if temp==None:\n",
    "        return 0\n",
    "    else:\n",
    "        return temp.data+ add(temp.next)\n",
    "print(add(hold))"
   ]
  },
  {
   "cell_type": "code",
   "execution_count": 16,
   "id": "afd1458e",
   "metadata": {},
   "outputs": [
    {
     "name": "stdout",
     "output_type": "stream",
     "text": [
      "40 30 20 10 "
     ]
    }
   ],
   "source": [
    "# 2(c) \n",
    "class Node:\n",
    "  def __init__(self,data,n):\n",
    "    self.data=data\n",
    "    self.next=n\n",
    "class Singly:\n",
    "  def __init__(self,arr):\n",
    "    self.head=Node(arr[0],None)\n",
    "    temp=self.head\n",
    "    for i in range (1, len(arr)):\n",
    "      n=Node(arr[i],None)\n",
    "      temp.next=n\n",
    "      temp=n\n",
    "  def printli(self):\n",
    "    temp=self.head\n",
    "    while temp!=None:\n",
    "      print(temp.data)\n",
    "      temp=temp.next\n",
    "arr=[10,20,30,40]\n",
    "s=Singly(arr)\n",
    "hold= s.head\n",
    "def backwards(head):\n",
    "    if head==None:\n",
    "        return\n",
    "    else:\n",
    "        backwards(head.next)\n",
    "        print(head.data,end=\" \") \n",
    "backwards(hold)"
   ]
  },
  {
   "cell_type": "code",
   "execution_count": 35,
   "id": "611bef05",
   "metadata": {},
   "outputs": [
    {
     "name": "stdout",
     "output_type": "stream",
     "text": [
      "23\n"
     ]
    }
   ],
   "source": [
    "# 3 HOUSE OF CARDS\n",
    "def house(height):\n",
    "    if height==0:\n",
    "        print(\"No House\")\n",
    "    elif height ==1:\n",
    "        return 8\n",
    "    else:\n",
    "        return 5+ house(height-1)\n",
    "        \n",
    "print(house(4))"
   ]
  },
  {
   "cell_type": "code",
   "execution_count": 36,
   "id": "82cc4619",
   "metadata": {},
   "outputs": [
    {
     "name": "stdout",
     "output_type": "stream",
     "text": [
      "1\n",
      "12\n",
      "123\n",
      "1234\n",
      "12345\n"
     ]
    }
   ],
   "source": [
    "#Doubt 4(A)\n",
    "def uptoN(n):\n",
    "    if n==0:\n",
    "        return\n",
    "    else:\n",
    "        uptoN(n-1)\n",
    "        print(n,end=\"\")\n",
    "\n",
    "def pattern(val):\n",
    "    if val==0:\n",
    "        return \n",
    "    else:\n",
    "        pattern(val-1)\n",
    "        uptoN(val)\n",
    "        print()   \n",
    "pattern(5)"
   ]
  },
  {
   "cell_type": "code",
   "execution_count": 38,
   "id": "bbf38b0c",
   "metadata": {},
   "outputs": [
    {
     "name": "stdout",
     "output_type": "stream",
     "text": [
      "    1\n",
      "   12\n",
      "  123\n",
      " 1234\n",
      "12345\n"
     ]
    }
   ],
   "source": [
    "#Doubt 4(B)\n",
    "def space(n):\n",
    "    if n==0:\n",
    "        return \n",
    "    else:\n",
    "        space(n-1)\n",
    "        print(\" \",end=\"\")\n",
    "def uptoN(n):\n",
    "    if n==0:\n",
    "        return\n",
    "    else:\n",
    "        uptoN(n-1)\n",
    "        print(n,end=\"\")\n",
    "\n",
    "def pattern(val,n=0):\n",
    "    if val==0:\n",
    "        return \n",
    "    else: \n",
    "        space(val-1)\n",
    "        uptoN(n+1)\n",
    "        #print(\"\\n\")\n",
    "        print()\n",
    "        pattern(val-1,n+1)   \n",
    "pattern(5)"
   ]
  },
  {
   "cell_type": "code",
   "execution_count": 45,
   "id": "a781f7f1",
   "metadata": {},
   "outputs": [
    {
     "data": {
      "text/plain": [
       "15375"
      ]
     },
     "execution_count": 45,
     "metadata": {},
     "output_type": "execute_result"
    }
   ],
   "source": [
    "#10\n",
    "def calcProfit(inv): \n",
    "    if inv<=25000:\n",
    "        return 0\n",
    "    elif inv<=100000:\n",
    "        if inv%1000!=0:\n",
    "            return 4.5+calcProfit(inv-100)\n",
    "        else:\n",
    "            return 45+calcProfit(inv-1000)\n",
    "    elif inv>100000:\n",
    "            return 80+calcProfit(inv-1000)\n",
    "            \n",
    "                \n",
    "calcProfit(250000)\n"
   ]
  },
  {
   "cell_type": "code",
   "execution_count": 57,
   "id": "41d371f2",
   "metadata": {},
   "outputs": [
    {
     "name": "stdout",
     "output_type": "stream",
     "text": [
      "23375\n"
     ]
    }
   ],
   "source": [
    "class FinalQ: \n",
    "\n",
    " def print(self,array,idx): \n",
    "    if(idx<len(array)): \n",
    "        profit = self.calcProfit(array[idx])\n",
    "        print(profit)\n",
    "  \n",
    " def calcProfit(self,inv): \n",
    "    if inv<=25000:\n",
    "        return 0\n",
    "    elif inv<=100000:\n",
    "        if inv%1000!=0:\n",
    "            return 4.5+calcProfit(inv-100)\n",
    "        else:\n",
    "            return 45+calcProfit(inv-1000)\n",
    "    elif inv>100000:\n",
    "            return 80+calcProfit(inv-1000)\n",
    "        \n",
    "        \n",
    "array=[25000,100000,250000,350000] \n",
    "f = FinalQ() \n",
    "f.print(array,3)\n"
   ]
  },
  {
   "cell_type": "code",
   "execution_count": null,
   "id": "f14326a2",
   "metadata": {},
   "outputs": [],
   "source": []
  }
 ],
 "metadata": {
  "kernelspec": {
   "display_name": "Python 3 (ipykernel)",
   "language": "python",
   "name": "python3"
  },
  "language_info": {
   "codemirror_mode": {
    "name": "ipython",
    "version": 3
   },
   "file_extension": ".py",
   "mimetype": "text/x-python",
   "name": "python",
   "nbconvert_exporter": "python",
   "pygments_lexer": "ipython3",
   "version": "3.9.12"
  }
 },
 "nbformat": 4,
 "nbformat_minor": 5
}
