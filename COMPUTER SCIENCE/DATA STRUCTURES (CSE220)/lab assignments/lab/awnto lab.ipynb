{
 "cells": [
  {
   "cell_type": "code",
   "execution_count": 2,
   "id": "af125a24",
   "metadata": {},
   "outputs": [
    {
     "name": "stdout",
     "output_type": "stream",
     "text": [
      "[1, 0, 0, 0, 0, 2, 0, 1, 1, 1, 3]\n",
      "False\n",
      "[-3, 2, 2, 4, 5, 6, 7, 7, 7]\n",
      "------------------\n"
     ]
    }
   ],
   "source": [
    "class KeyIndex:\n",
    " def __init__(self,a):\n",
    "    self.x=0\n",
    "    self.a=a\n",
    "    #max, min \n",
    "    min=0\n",
    "    max=a[0]\n",
    "    for i in range(0,len(a)):\n",
    "      if a[i]>max:\n",
    "        max=a[i]\n",
    "      elif a[i]<min:\n",
    "        min=a[i]\n",
    "    #setting value of x--- the diffrence\n",
    "#     if min>0:\n",
    "#         self.x=0\n",
    "#     else:\n",
    "    self.x=min*(-1)\n",
    "    #initializing oxylary array\n",
    "    self.k=[0]*(self.x+max+1)\n",
    "    for i in range(len(a)):\n",
    "        self.k[a[i]+self.x]+=1\n",
    "    print(self.k)\n",
    " def search(self, val):\n",
    "        flag=True\n",
    "        if self.k[self.x+val]==0:\n",
    "            flag=False\n",
    "        else:\n",
    "            flag=True\n",
    "        print(flag)\n",
    " def sort(self):\n",
    "    #initialize new array\n",
    "    sum=0\n",
    "    for i in range(len(self.k)):\n",
    "        if self.k[i]!=0:\n",
    "            sum+=self.k[i]\n",
    "    sort=[0]*(sum)\n",
    "    c=0\n",
    "    i=0\n",
    "    while c!=len(self.k):\n",
    "        if self.k[c]!=0:\n",
    "            sort[i]=c-self.x\n",
    "            self.k[c]-=1\n",
    "            i+=1\n",
    "        else:\n",
    "            c+=1\n",
    "    print(sort)\n",
    "    \n",
    "a=[4,2,-3,7,6,7,2,5,7]\n",
    "j=KeyIndex(a)\n",
    "j.search(-10)\n",
    "j.sort()\n",
    "print(\"------------------\")\n"
   ]
  },
  {
   "cell_type": "code",
   "execution_count": null,
   "id": "42f8fab6",
   "metadata": {},
   "outputs": [],
   "source": [
    "print()"
   ]
  },
  {
   "cell_type": "code",
   "execution_count": 1,
   "id": "a2cb8c8b",
   "metadata": {},
   "outputs": [
    {
     "ename": "IndentationError",
     "evalue": "unexpected indent (84544184.py, line 34)",
     "output_type": "error",
     "traceback": [
      "\u001b[1;36m  Input \u001b[1;32mIn [1]\u001b[1;36m\u001b[0m\n\u001b[1;33m    c=0\u001b[0m\n\u001b[1;37m    ^\u001b[0m\n\u001b[1;31mIndentationError\u001b[0m\u001b[1;31m:\u001b[0m unexpected indent\n"
     ]
    }
   ],
   "source": [
    "class KeyIndex:\n",
    " def __init__(self,a):\n",
    "    self.x=0\n",
    "    self.a=a\n",
    "    #max, min \n",
    "    min=0\n",
    "    max=a[0]\n",
    "    for i in range(0,len(a)):\n",
    "      if a[i]>max:\n",
    "        max=a[i]\n",
    "      elif a[i]<min:\n",
    "        min=a[i]\n",
    "    #setting value of x--- the diffrence\n",
    "#     if min>0:\n",
    "#         self.x=0\n",
    "#     else:\n",
    "    self.x=min*(-1)\n",
    "    #initializing oxylary array\n",
    "    self.k=[0]*(self.x+max+1)\n",
    "    for i in range(len(a)):\n",
    "        self.k[a[i]+self.x]+=1\n",
    "    print(self.k)\n",
    " def search(self, val):\n",
    "        flag=True\n",
    "        if self.k[self.x+val]==0:\n",
    "            flag=False\n",
    "        else:\n",
    "            flag=True\n",
    "        print(flag)\n",
    " def sort(self):\n",
    "    #initialize new array\n",
    "    sort=[0]*(len(self.a))\n",
    "\n",
    "      c=0\n",
    "#     for i in range(len(sort)):\n",
    "#         if self.k[c]!=0:\n",
    "#             sort[i]=c-self.x\n",
    "#             c+=1\n",
    "#         else:\n",
    "#             pass\n",
    "    print(sort)\n",
    "    \n",
    "\n",
    "\n",
    "\n",
    "a=[4,2,-3,7,6,7,2,5,7]\n",
    "j=KeyIndex(a)\n",
    "j.search(-10)\n",
    "j.sort()"
   ]
  },
  {
   "cell_type": "code",
   "execution_count": null,
   "id": "33cc7a5f",
   "metadata": {},
   "outputs": [],
   "source": []
  }
 ],
 "metadata": {
  "kernelspec": {
   "display_name": "Python 3 (ipykernel)",
   "language": "python",
   "name": "python3"
  },
  "language_info": {
   "codemirror_mode": {
    "name": "ipython",
    "version": 3
   },
   "file_extension": ".py",
   "mimetype": "text/x-python",
   "name": "python",
   "nbconvert_exporter": "python",
   "pygments_lexer": "ipython3",
   "version": "3.9.12"
  }
 },
 "nbformat": 4,
 "nbformat_minor": 5
}
