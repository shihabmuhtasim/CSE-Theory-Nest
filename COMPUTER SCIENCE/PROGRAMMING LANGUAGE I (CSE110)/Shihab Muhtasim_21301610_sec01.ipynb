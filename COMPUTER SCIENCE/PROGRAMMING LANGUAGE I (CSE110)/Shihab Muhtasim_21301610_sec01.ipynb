{
 "cells": [
  {
   "cell_type": "markdown",
   "id": "31f86236",
   "metadata": {},
   "source": [
    "Name: Shihab Muhtasim\n",
    "\n",
    "Id: 21301610\n",
    "\n",
    "sec:01"
   ]
  },
  {
   "cell_type": "code",
   "execution_count": 3,
   "id": "bc10f55d",
   "metadata": {},
   "outputs": [
    {
     "name": "stdout",
     "output_type": "stream",
     "text": [
      "Please enter multiple numbers separated by commas:10, 12, 2, 17, 14\n",
      "Input list: [10, 12, 2, 17, 14]\n",
      "Prime list: [2, 17]\n",
      "It’s a miracle!!!\n"
     ]
    }
   ],
   "source": [
    "#1\n",
    "num_str = input(\"Please enter multiple numbers separated by commas:\")\n",
    "num_list = num_str.split(\",\")\n",
    "\n",
    "for i in range(0, len(num_list)):\n",
    "    num_list[i] = int(num_list[i])\n",
    "\n",
    "prime_list = []\n",
    "for i in num_list:\n",
    "    flag = True\n",
    "    for j in range(2, i):\n",
    "        if i%j == 0:\n",
    "            flag = False\n",
    "    if flag == True:\n",
    "        prime_list.append(i)\n",
    "print(\"Input list:\", num_list)\n",
    "print(\"Prime list:\", prime_list)\n",
    "\n",
    "sum_primes = 0\n",
    "for i in prime_list:\n",
    "    sum_primes = sum_primes + i\n",
    "\n",
    "flag = True\n",
    "for i in range(2, sum_primes):\n",
    "    if sum_primes % i == 0:\n",
    "        flag = False\n",
    "        break\n",
    "\n",
    "if flag == True and len(prime_list) != 0:\n",
    "    print(\"It’s a miracle!!!\")\n",
    "else:\n",
    "    print(\"Just another normal day!!!\")"
   ]
  },
  {
   "cell_type": "code",
   "execution_count": 2,
   "id": "215b9a04",
   "metadata": {},
   "outputs": [
    {
     "name": "stdout",
     "output_type": "stream",
     "text": [
      "{'Carl': ['Alex', 'Bob'], 'Ethan': ['Alex'], 'David': ['Bob', 'Carl'], 'Alex': ['Carl', 'David']}\n"
     ]
    }
   ],
   "source": [
    "#2\n",
    "given= {'Alex': ['Carl', 'Ethan'], 'Bob': ['Carl', 'David'], 'Carl': ['David', 'Alex'], 'David': ['Alex']}\n",
    "new={}\n",
    "for key,val in given.items():\n",
    "    for name in val:\n",
    "        if name not in new:\n",
    "            new[name]=[key]\n",
    "        else:\n",
    "            new[name].append(key)\n",
    "print(new)"
   ]
  },
  {
   "cell_type": "code",
   "execution_count": 1,
   "id": "c8edfb7a",
   "metadata": {},
   "outputs": [
    {
     "name": "stdout",
     "output_type": "stream",
     "text": [
      "Updated list2: [6, 12, 2, 16]\n",
      "The updated sum is 62\n"
     ]
    }
   ],
   "source": [
    "#3\n",
    "def list_modify(li_1, li_2):\n",
    "    total = 0\n",
    "    if len(li_1) != len(li_2):\n",
    "        return total, li_2\n",
    "    else:\n",
    "        for i in range(len(li_1)):\n",
    "            if i % 2 != 0:\n",
    "                temp = li_1[i] * 2\n",
    "                li_2[i] = temp\n",
    "\n",
    "        for i in range(len(li_1)):\n",
    "            total += (li_1[i] + li_2[i])\n",
    "        return total, li_2\n",
    "\n",
    "\n",
    "final_sum, final_list = list_modify([5,6,7,8],[6,8,2,9])\n",
    "if final_sum == 0:\n",
    "    print(\"The length of the lists are not equal\")\n",
    "else:\n",
    "    print(\"Updated list2:\", final_list)\n",
    "    print(\"The updated sum is\", final_sum)"
   ]
  }
 ],
 "metadata": {
  "kernelspec": {
   "display_name": "Python 3",
   "language": "python",
   "name": "python3"
  },
  "language_info": {
   "codemirror_mode": {
    "name": "ipython",
    "version": 3
   },
   "file_extension": ".py",
   "mimetype": "text/x-python",
   "name": "python",
   "nbconvert_exporter": "python",
   "pygments_lexer": "ipython3",
   "version": "3.8.8"
  }
 },
 "nbformat": 4,
 "nbformat_minor": 5
}
