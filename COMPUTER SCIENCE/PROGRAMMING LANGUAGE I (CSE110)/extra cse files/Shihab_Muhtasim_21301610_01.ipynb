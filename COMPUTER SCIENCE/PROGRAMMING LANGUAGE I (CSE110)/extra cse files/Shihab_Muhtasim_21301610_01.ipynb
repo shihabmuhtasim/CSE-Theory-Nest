{
  "nbformat": 4,
  "nbformat_minor": 0,
  "metadata": {
    "colab": {
      "name": "Shihab Muhtasim_21301610_01.ipynb",
      "provenance": []
    },
    "kernelspec": {
      "name": "python3",
      "display_name": "Python 3"
    },
    "language_info": {
      "name": "python"
    }
  },
  "cells": [
    {
      "cell_type": "code",
      "metadata": {
        "id": "kNKO9CH8eHua"
      },
      "source": [
        "# Quiz 1 (CSE110)\n",
        "# Name: Shihab Muhtasim\n",
        "# ID  : 21301610\n",
        "# Sec : 01"
      ],
      "execution_count": 1,
      "outputs": []
    },
    {
      "cell_type": "code",
      "metadata": {
        "colab": {
          "base_uri": "https://localhost:8080/"
        },
        "id": "-A1a4cWMeH5P",
        "outputId": "f2e829e2-f014-4c2c-9da3-179e8131495d"
      },
      "source": [
        "number_1= int(input(\"Enter a number: \"))\n",
        "number_2= int(input(\"Enter a number: \"))\n",
        "number_3= int(input(\"Enter a number: \"))\n",
        "counter= number_1\n",
        "print(\"Output:\")\n",
        "while counter < number_2 + 1:\n",
        "  digit_1 = counter // 10\n",
        "  digit_2= counter % 10\n",
        "  if (digit_1*digit_2) % number_3==0:\n",
        "    print(digit_1 * digit_2, end=\" \")\n",
        "  counter +=1\n",
        "\n",
        "\n",
        "\n"
      ],
      "execution_count": 12,
      "outputs": [
        {
          "output_type": "stream",
          "text": [
            "Enter a number: 25\n",
            "Enter a number: 30\n",
            "Enter a number: 4\n",
            "Output:\n",
            "12 16 0 "
          ],
          "name": "stdout"
        }
      ]
    }
  ]
}