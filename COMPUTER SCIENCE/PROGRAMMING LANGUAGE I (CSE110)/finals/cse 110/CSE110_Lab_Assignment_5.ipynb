{
 "cells": [
  {
   "cell_type": "markdown",
   "metadata": {
    "id": "U4PRkuyUtDRw"
   },
   "source": [
    "# CSE110 Lab Assignment 5\n",
    "\n",
    "This Assignment is to help you develop your concept of Tuples and Dictionaries in Python.\n",
    "\n",
    "Write your name, student ID and CSE110 theory section number below:\n"
   ]
  },
  {
   "cell_type": "code",
   "execution_count": null,
   "metadata": {
    "id": "wl7fu2qrggWI"
   },
   "outputs": [],
   "source": [
    "#STUDENT NAME: Fabliha Khan Mahima\n",
    "#STUDENT ID: 21101274\n",
    "#CSE110 THEORY SECTION: 07"
   ]
  },
  {
   "cell_type": "markdown",
   "metadata": {
    "id": "PD425BrvtDRy"
   },
   "source": [
    "## Write the code in Python to do the following tasks:\n",
    "\n",
    "**<font color='red'>[MUST MAINTAIN VARIABLE NAMING CONVENTIONS FOR ALL THE TASKS]</font>**\n",
    "\n",
    "## Part 1: Tuple"
   ]
  },
  {
   "cell_type": "markdown",
   "metadata": {
    "id": "FNOorLYXtDRz"
   },
   "source": [
    "### Task 1\n",
    "\n",
    "Assume, you have been given a tuple.\n",
    "\n",
    "a_tuple = (\"The Institute\",\\\n",
    "        (\"Best Mystery & Thriller\", \"The Silent Patient\", 68821),\\\n",
    "        75717,\\\n",
    "        [1, 2, 3, 400, 5, 6, 7],\\\n",
    "        (\"Best Fiction\", \"The Testaments\", 98291)\\\n",
    ")\n",
    "\n",
    "Write **one line** of Python code to access and print the value 400.\n",
    "\n",
    "===================================================================\n",
    "\n",
    "Output: 400\n",
    "\n",
    "===================================================================\n"
   ]
  },
  {
   "cell_type": "code",
   "execution_count": null,
   "metadata": {
    "colab": {
     "base_uri": "https://localhost:8080/"
    },
    "id": "NDKB1cIMtDR0",
    "outputId": "b0f1310c-61c1-4093-e7e7-61bc23046789"
   },
   "outputs": [
    {
     "name": "stdout",
     "output_type": "stream",
     "text": [
      "400\n"
     ]
    }
   ],
   "source": [
    "#to do\n",
    "a_tuple = (\"The Institute\", (\"Best Mystery & Thriller\", \"The Silent Patient\", 68821), 75717, [1, 2, 3, 400, 5, 6, 7], (\"Best Fiction\", \"The Testaments\", 98291))\n",
    "print(a_tuple[3][3])"
   ]
  },
  {
   "cell_type": "markdown",
   "metadata": {
    "id": "BXlIw1svtDR-"
   },
   "source": [
    "### Task 2\n",
    "\n",
    "Assume, you have been given a tuple. Write a Python program that creates a **new tuple** excluding the first and last two elements of the given tuple and prints the new tuple. \n",
    "\n",
    "**Hint:** You may use tuple slicing.\n",
    "\n",
    "===================================================================\n",
    "\n",
    "**Sample Input 1:**\\\n",
    "(10, 20, 24, 25, 26, 35, 70)\n",
    "\n",
    "\n",
    "**Sample Output 1:**\\\n",
    "(24, 25, 26)\n",
    "\n",
    "===================================================================\n",
    "\n",
    "**Sample Input 2:**\\\n",
    "(-10, 20, 30, 40)\n",
    "\n",
    "\n",
    "**Sample Output 2:**\\\n",
    "()\n",
    "\n",
    "===================================================================\n",
    "\n",
    "**Sample Input 3:**\\\n",
    "(-10, 20, 25, 30, 40)\n",
    "\n",
    "\n",
    "**Sample Output 3:**\\\n",
    "(25,)\n",
    "\n",
    "===================================================================\n"
   ]
  },
  {
   "cell_type": "code",
   "execution_count": null,
   "metadata": {
    "colab": {
     "base_uri": "https://localhost:8080/"
    },
    "id": "FTJ-5AmNtDR_",
    "outputId": "91c25a52-0887-4ce8-97eb-37f796efaf24"
   },
   "outputs": [
    {
     "name": "stdout",
     "output_type": "stream",
     "text": [
      "(24, 25, 26)\n"
     ]
    }
   ],
   "source": [
    "#to do\n",
    "user = (10, 20, 24, 25, 26, 35, 70)\n",
    "result = user[2:len(user)-2]\n",
    "print(result)"
   ]
  },
  {
   "cell_type": "markdown",
   "metadata": {
    "id": "Z3GS2TE6tDSG"
   },
   "source": [
    "### Task 3\n",
    "\n",
    "Assume, you have been given a tuple. \n",
    "\n",
    "\n",
    "book_info = (\\\n",
    "    (\"Best Mystery & Thriller\",\"The Silent Patient\",68,821),\\\n",
    "    (\"Best Horror\",\"The Institute\",75,717),\\\n",
    "    (\"Best History & Biography\",\"The five\",31,783 ),\\\n",
    "    (\"Best Fiction\",\"The Testaments\",98,291)\\\n",
    ")\n",
    "\n",
    "Write a Python program that prints the size of the tuple and all its elements as shown below.\n",
    "\n",
    "===================================================================\n",
    "\n",
    "**Output:**\\\n",
    "Size of the tuple is: 4\\\n",
    "('Best Mystery & Thriller', 'The Silent Patient', 68, 821)\\\n",
    "('Best Horror', 'The Institute', 75, 717)\\\n",
    "('Best History & Biography', 'The five', 31, 783)\\\n",
    "('Best Fiction', 'The Testaments', 98, 291)\n",
    "\n",
    "==================================================================="
   ]
  },
  {
   "cell_type": "code",
   "execution_count": null,
   "metadata": {
    "colab": {
     "base_uri": "https://localhost:8080/"
    },
    "id": "RPFYcAjntDSG",
    "outputId": "5b3716de-b958-45b7-c15b-25f83447811d"
   },
   "outputs": [
    {
     "name": "stdout",
     "output_type": "stream",
     "text": [
      "Size of the tuple is: 4\n",
      "('Best Mystery & Thriller', 'The Silent Patient', 68, 821)\n",
      "('Best Horror', 'The Institute', 75, 717)\n",
      "('Best History & Biography', 'The five', 31, 783)\n",
      "('Best Fiction', 'The Testaments', 98, 291)\n"
     ]
    }
   ],
   "source": [
    "#to do\n",
    "book_info = ((\"Best Mystery & Thriller\",\"The Silent Patient\",68,821), (\"Best Horror\",\"The Institute\",75,717), (\"Best History & Biography\",\"The five\",31,783 ), (\"Best Fiction\",\"The Testaments\",98,291))\n",
    "print('Size of the tuple is:',len(book_info))\n",
    "\n",
    "for i in range(len(book_info)):\n",
    "    print(book_info[i])"
   ]
  },
  {
   "cell_type": "markdown",
   "metadata": {
    "id": "glKgAPlGtDSK"
   },
   "source": [
    "### Task 4\n",
    "\n",
    "Assume, you have been given a tuple with details about books that won the Good Reads Choice Awards. \n",
    "\n",
    "book_info = (\\\n",
    "    (\"Best Mystery & Thriller\",\"The Silent Patient\",68821),\\\n",
    "    (\"Best Horror\",\"The Institute\",75717),\\\n",
    "    (\"Best History & Biography\",\"The five\",31783 ),\\\n",
    "    (\"Best Fiction\",\"The Testaments\",98291)\\\n",
    ")\n",
    "\n",
    "Write a Python program that prints the award category, the book name, and its total votes earned as shown below. \n",
    "\n",
    "**<font color='red'>[Must use Tuple unpacking for printing and need to handle the quotation marks as a part of the output]</font>**\n",
    "\n",
    "===================================================================\n",
    "\n",
    "**Output:**\\\n",
    "The Silent Patient won the 'Best Mystery & Thriller' category with 68821 votes\\\n",
    "The Institute won the 'Best Horror' category with 75717 votes\\\n",
    "The five won the 'Best History & Biography' category with 31783 votes\\\n",
    "The Testaments won the 'Best Fiction' category with 98291 votes\n",
    "\n",
    "==================================================================="
   ]
  },
  {
   "cell_type": "code",
   "execution_count": null,
   "metadata": {
    "colab": {
     "base_uri": "https://localhost:8080/"
    },
    "id": "LgTKpSGatDSM",
    "outputId": "78c6ea69-3444-4a68-a240-7d57f5c2cbd6"
   },
   "outputs": [
    {
     "name": "stdout",
     "output_type": "stream",
     "text": [
      "The Silent Patient won the 'Best Mystery & Thriller' category with 68821 votes\n",
      "The Institute won the 'Best Horror' category with 75717 votes\n",
      "The five won the 'Best History & Biography' category with 31783 votes\n",
      "The Testaments won the 'Best Fiction' category with 98291 votes\n"
     ]
    }
   ],
   "source": [
    "#to do\n",
    "book_info = ((\"Best Mystery & Thriller\",\"The Silent Patient\",68821),(\"Best Horror\",\"The Institute\",75717),(\"Best History & Biography\",\"The five\",31783 ),(\"Best Fiction\",\"The Testaments\",98291))\n",
    "\n",
    "for i in range(len(book_info)):\n",
    "    (award_category, book_name, votes) = (book_info[i])\n",
    "    print(\"{} won the '{}' category with {} votes\".format(book_name,award_category,votes))"
   ]
  },
  {
   "cell_type": "markdown",
   "metadata": {
    "id": "bRe9K_j55zpb"
   },
   "source": [
    "### Task 5\n",
    "Write a python program that takes an input from the user and finds the number of times that the input is present in a given tuple.\n",
    "\n",
    "===================================================================\n",
    "\n",
    "<b>Example 1: </b><br/>\n",
    "\n",
    "Given tuple: (10, 8, 5, 2, 10, 15, 10, 8, 5, 8, 8, 2) <br/>\n",
    "\n",
    "<b>Sample Input 1:</b> \n",
    "\n",
    "8<br/>\n",
    "\n",
    "<b>Sample Output 1: </b> <br/>\n",
    "\n",
    "8 appears 4 times in the tuple<br/>\n",
    "\n",
    "===================================================================\n",
    "\n",
    "<b> Example 2 </b><br/>\n",
    "\n",
    "Given tuple: (10, 8, 5, 2, 10, 15, 10, 8, 5, 8, 8, 2)<br/>\n",
    "\n",
    "<b>Sample Input 2:</b>\n",
    "\n",
    "1<br/>\n",
    "\n",
    "<b>Sample Output 2:</b><br/>\n",
    "\n",
    "1 appears 0 times in the tuple\n",
    "\n",
    "==================================================================="
   ]
  },
  {
   "cell_type": "code",
   "execution_count": null,
   "metadata": {
    "colab": {
     "base_uri": "https://localhost:8080/"
    },
    "id": "mC-B1fpStDST",
    "outputId": "a1a0938a-4640-4a02-a611-6a72930eea0f"
   },
   "outputs": [
    {
     "name": "stdout",
     "output_type": "stream",
     "text": [
      "8\n",
      "8 appears 4 times in the tuple\n"
     ]
    }
   ],
   "source": [
    "#to do\n",
    "given_tuple = (10, 8, 5, 2, 10, 15, 10, 8, 5, 8, 8, 2)\n",
    "user = int(input())\n",
    "\n",
    "count = 0\n",
    "\n",
    "for i in range(len(given_tuple)):\n",
    "    if given_tuple[i] == user:\n",
    "        count+=1\n",
    "print('{} appears {} times in the tuple'.format(user,count))"
   ]
  },
  {
   "cell_type": "markdown",
   "metadata": {
    "id": "QWNi_JWr6AfC"
   },
   "source": [
    "### Task 6\n",
    "Write a Python program to reverse a given tuple. \n",
    "\n",
    " \n",
    "  <font color='red'>[You are not allowed to use tuple slicing]</font>\n",
    "  \n",
    "===================================================================\n",
    "\n",
    "<b>Note: </b>  Unlike lists, tuples are immutable. So, in order to reverse a tuple, we may need to convert it into a list first, then modify the list, and finally convert it back to a tuple. \n",
    "\n",
    "===================================================================\n",
    "\n",
    "<b>Example 1: </b><br/>\n",
    "\n",
    "Given tuple: ('a', 'b', 'c', 'd', 'e', 'f', 'g', 'h') <br/>\n",
    "\n",
    "<b> Output: </b> <br/>\n",
    "\n",
    "('h', 'g', 'f', 'e', 'd', 'c', 'b', 'a')<br/>\n",
    "\n",
    "\n",
    "===================================================================\n",
    "\n",
    "<b> Example 2: </b><br/>\n",
    "\n",
    "Given tuple: (10, 20, 30, 40, 50, 60)<br/>\n",
    "\n",
    "<b> Output: </b><br/>\n",
    "\n",
    "(60, 50, 40, 30, 20, 10)\n",
    "\n",
    "===================================================================\n"
   ]
  },
  {
   "cell_type": "code",
   "execution_count": null,
   "metadata": {
    "colab": {
     "base_uri": "https://localhost:8080/"
    },
    "id": "CJrUcYAN6Bkx",
    "outputId": "ad96ab30-85f2-4b64-8c28-15fc99301ab2"
   },
   "outputs": [
    {
     "name": "stdout",
     "output_type": "stream",
     "text": [
      "('h', 'g', 'f', 'e', 'd', 'c', 'b', 'a')\n"
     ]
    }
   ],
   "source": [
    "#to do\n",
    "given_tuple = ('a', 'b', 'c', 'd', 'e', 'f', 'g', 'h')\n",
    "\n",
    "list1 = []\n",
    "\n",
    "for count in range(-1,-len(given_tuple)-1,-1):\n",
    "    list1.append(given_tuple[count])\n",
    "\n",
    "result = tuple(list1)\n",
    "print(result)"
   ]
  },
  {
   "cell_type": "markdown",
   "metadata": {
    "id": "km0QurTJtDSX"
   },
   "source": [
    "## Part 2: Dictionary"
   ]
  },
  {
   "cell_type": "markdown",
   "metadata": {
    "id": "kvV-HnCntDSc"
   },
   "source": [
    "### Task 7\n",
    "Suppose you are given two dictionaries.\\\n",
    "Now create a new dictionary \"marks\", merging the two dictionaries, **so that the original two dictionaries remain unchanged.**\n",
    "\n",
    "\n",
    "**Note:** You can use dictionary functions.\n",
    "\n",
    "===================================================================\n",
    "\n",
    "**Given:**\n",
    "\n",
    "{'Harry':15, 'Draco':8, 'Nevil':19}\n",
    "\n",
    "{'Ginie':18, 'Luna': 14}\n",
    "\n",
    "**Output:**\n",
    "\n",
    "{'Harry': 15, 'Draco': 8, 'Nevil': 19, 'Ginie': 18, 'Luna': 14}\n",
    "\n",
    "===================================================================\n",
    "\n",
    "**Given:**\n",
    "\n",
    "{'A':90, 'B': 0}\n",
    "\n",
    "{'C':50}\n",
    "\n",
    "**Output:**\n",
    "\n",
    "{'A': 90, 'B': 0, 'C': 50}\n",
    "\n",
    "===================================================================\n"
   ]
  },
  {
   "cell_type": "code",
   "execution_count": null,
   "metadata": {
    "colab": {
     "base_uri": "https://localhost:8080/"
    },
    "id": "BGSyClBPtDSd",
    "outputId": "5db8628b-c14e-40eb-c61c-c430fe9c3447"
   },
   "outputs": [
    {
     "name": "stdout",
     "output_type": "stream",
     "text": [
      "{'Harry': 15, 'Draco': 8, 'Nevil': 19, 'Ginie': 18, 'Luna': 14}\n"
     ]
    }
   ],
   "source": [
    "#to do\n",
    "given_dict1 = {'Harry':15, 'Draco':8, 'Nevil':19}\n",
    "given_dict2 = {'Ginie':18, 'Luna': 14}\n",
    "\n",
    "final_dict = {}\n",
    "\n",
    "final_dict.update(given_dict1)\n",
    "final_dict.update(given_dict2)\n",
    "\n",
    "print(final_dict)"
   ]
  },
  {
   "cell_type": "markdown",
   "metadata": {
    "id": "QRzP4HYStDSi"
   },
   "source": [
    "### Task 8\n",
    "Write a Python program that takes a dictionary as an input from the user and then prints the average of all the values in the dictionary.\n",
    "\n",
    " <font color='red'>[You are not allowed to use len() and sum()]</font>\n",
    "\n",
    "===================================================================\n",
    "\n",
    "**Hint (1): For taking dictionary input** \n",
    "\n",
    "Approach(1): For taking dictionary as an input from the user, you may take the whole dictionary as a string using the input() function. Then you can use the split(), strip() functions and conditions to get the keys and values from the string. Finally, you can make the dictionary using the obtained data.\n",
    "\n",
    "Approach(2): If the first approach seems too difficult you can create an empty dictionary and then just run a simple loop. For each iteration ask the user for a key and a value using the input() function and keep updating the dictionary with the key and value.\n",
    "\n",
    "\n",
    "**Hint (2):** After you have a dictionary, you can use dictionary functions to get all the values from it, run loop to calculate the sum and the total number of values in the dictionary in order to find out the average.\n",
    "\n",
    "===================================================================\n",
    "\n",
    "**Sample Input 1:**\n",
    "\n",
    "{'Jon': 100, 'Dan':200, 'Rob':300}\n",
    "\n",
    "**Sample Output 1:**\n",
    "\n",
    "Average is 200.\n",
    "\n",
    "===================================================================\n",
    "\n",
    "\n",
    "**Sample Input 2:**\n",
    "\n",
    "{'Jon': 100, 'Dan':200, 'Rob':30, 'Ned':110}\n",
    "\n",
    "**Sample Output 2:**\n",
    "\n",
    "Average is 110.\n",
    "\n",
    "===================================================================\n"
   ]
  },
  {
   "cell_type": "code",
   "execution_count": null,
   "metadata": {
    "colab": {
     "base_uri": "https://localhost:8080/"
    },
    "id": "VMRLnA53tDSk",
    "outputId": "1048be61-8c59-4e4c-e94b-1704b75b3bee"
   },
   "outputs": [
    {
     "name": "stdout",
     "output_type": "stream",
     "text": [
      "Enter the number of items for your dictionary:3\n",
      "Enter your key string for your dictionary:Jon\n",
      "Enter your value for the key:100\n",
      "Enter your key string for your dictionary:Dan\n",
      "Enter your value for the key:200\n",
      "Enter your key string for your dictionary:Rob\n",
      "Enter your value for the key:300\n",
      "Average is 200.0\n"
     ]
    }
   ],
   "source": [
    "#to do\n",
    "user = int(input('Enter the number of items for your dictionary:'))\n",
    "\n",
    "user_dict = {}\n",
    "\n",
    "for i in range(user):\n",
    "    key = input('Enter your key string for your dictionary:')\n",
    "    value = int(input('Enter your value for the key:'))\n",
    "    user_dict[key] = value\n",
    "\n",
    "numbers = list(user_dict.values())\n",
    "sum = 0\n",
    "count = 0\n",
    "\n",
    "for j in range(user):\n",
    "    sum+=numbers[j]\n",
    "    count+=1\n",
    "\n",
    "average = sum/count\n",
    "\n",
    "print('Average is',average)"
   ]
  },
  {
   "cell_type": "markdown",
   "metadata": {
    "id": "le7fZ8XC9j_x"
   },
   "source": [
    "### Task 9\n",
    "Suppose there is a dictionary named exam_marks as given below.\n",
    "\n",
    "exam_marks = {'Cierra Vega': 175, 'Alden Cantrell': 200, 'Kierra Gentry': 165, 'Pierre Cox': 190}\n",
    "\n",
    "Write a Python program that takes an input from the user and creates a new dictionary with only those elements from 'exam_marks' whose keys have values higher than the user input (inclusive).\n",
    "\n",
    "===================================================================\n",
    "\n",
    "**Sample Input 1:**\n",
    "\n",
    "170\n",
    "\n",
    "**Sample Output 1:**\n",
    "\n",
    "{'Cierra Vega': 175, 'Alden Cantrell': 200, 'Pierre Cox': 190}\n",
    "\n",
    "===================================================================\n",
    "\n",
    "**Sample Input 2:**\n",
    "\n",
    "190\n",
    "\n",
    "**Sample Output 2:**\n",
    "\n",
    "{'Alden Cantrell': 200, 'Pierre Cox': 190}\n",
    "\n",
    "==================================================================="
   ]
  },
  {
   "cell_type": "code",
   "execution_count": null,
   "metadata": {
    "colab": {
     "base_uri": "https://localhost:8080/"
    },
    "id": "qJWoUsLN9lBY",
    "outputId": "65b84af0-c791-49be-c811-11c098038677"
   },
   "outputs": [
    {
     "name": "stdout",
     "output_type": "stream",
     "text": [
      "Enter a number: 170\n",
      "{'Cierra Vega': 175, 'Alden Cantrell': 200, 'Pierre Cox': 190}\n"
     ]
    }
   ],
   "source": [
    "#to do\n",
    "exam_marks = {'Cierra Vega': 175, 'Alden Cantrell': 200, 'Kierra Gentry': 165, 'Pierre Cox': 190}\n",
    "num = int(input('Enter a number: '))\n",
    "\n",
    "exam_list = list(exam_marks.items())\n",
    "final_dict = {}\n",
    "\n",
    "for i in exam_list:\n",
    "    if i[1] >= num:\n",
    "        final_dict[i[0]] = i[1]\n",
    "\n",
    "print(final_dict)\n",
    "        "
   ]
  },
  {
   "cell_type": "markdown",
   "metadata": {
    "id": "IsqFQpqKtDSs"
   },
   "source": [
    "### Task 10\n",
    "Write a Python program that finds the largest value with its key from a given dictionary.  \n",
    "\n",
    "<font color='red'>\n",
    "[You are not allowed to use the max() function for this task]</font> \n",
    "\n",
    "**Note:** You do not need to take the dictionaries as an input from the user but your code should work for any given dictionary. Also, you need to handle the quotation marks as a part of the output.\n",
    "\n",
    "**Hint:** Think of membership operators (in and not in). You can use dictionary functions to get the values.\n",
    "\n",
    "===================================================================\n",
    "\n",
    "Sample 1:\n",
    "\n",
    "**Given:**\n",
    "\n",
    "{'sci fi': 12, 'mystery': 15, 'horror': 8, 'mythology': 10, 'young_adult': 4, 'adventure':14}\n",
    "\n",
    "**Output:**\n",
    "\n",
    "The highest selling book genre is 'mystery' and the number of books sold are 15.\n",
    "\n",
    "===================================================================\n",
    "\n",
    "Sample 2:\n",
    "\n",
    "**Given:**\n",
    "\n",
    "{'sci fi': 5, 'mystery': 3, 'horror': 14,\n",
    "             'young_adult': 2, 'adventure':9}\n",
    "\n",
    "**Output:**\n",
    "\n",
    "The highest selling book genre is  'horror'  and the number of books sold are 14.\n",
    "\n",
    "===================================================================\n"
   ]
  },
  {
   "cell_type": "code",
   "execution_count": null,
   "metadata": {
    "colab": {
     "base_uri": "https://localhost:8080/"
    },
    "id": "v9Kosgs4tDSt",
    "outputId": "36601cf1-64c9-4a32-a7eb-11d60f0222e8"
   },
   "outputs": [
    {
     "name": "stdout",
     "output_type": "stream",
     "text": [
      "The highest selling book genre is 'horror' and the number of books sold are 14\n"
     ]
    }
   ],
   "source": [
    "#to do\n",
    "given_dict = {'sci fi': 5, 'mystery': 3, 'horror': 14, 'young_adult': 2, 'adventure':9}\n",
    "\n",
    "user_list = list(given_dict.items())\n",
    "max_value = user_list[0][1]\n",
    "max_key = user_list[0][0]\n",
    "\n",
    "for value in user_list:\n",
    "    if value[1] > max_value:\n",
    "        max_value = value[1] \n",
    "        max_key = value[0]\n",
    "\n",
    "print(\"The highest selling book genre is '{}' and the number of books sold are {}\".format(max_key,max_value))"
   ]
  },
  {
   "cell_type": "markdown",
   "metadata": {
    "id": "hAqjgwGNtDS2"
   },
   "source": [
    "### Task 11\n",
    "Write a Python program that takes a String as an input from the user and counts the frequency of each character using a dictionary. For solving this problem, you may use each character as a key and its frequency as values. \n",
    "\n",
    "<font color='red'>[You are not allowed to use the count() function]</font> \n",
    "\n",
    "**Hint:** You can create a new dictionary to store the frequencies. You may ignore case for simplicity (i.e. may consider P and p to be the same).\n",
    "\n",
    "\n",
    "===================================================================\n",
    "\n",
    "**Sample Input:**\\\n",
    "\"Python programming is fun\"\n",
    "\n",
    "**Sample Output:**\\\n",
    "{'p': 2, 'y': 1, 't': 1, 'h': 1, 'o': 2, 'n': 3, 'r': 2, 'g': 2, 'a': 1, 'm': 2, 'i': 2, 's': 1, 'f': 1, 'u': 1}\n",
    "\n",
    "===================================================================\n",
    "\n"
   ]
  },
  {
   "cell_type": "code",
   "execution_count": 2,
   "metadata": {
    "colab": {
     "base_uri": "https://localhost:8080/"
    },
    "id": "-m2yPIT7tDS3",
    "outputId": "22bdd005-6fc6-4402-fee5-5ad4fcc9c081"
   },
   "outputs": [
    {
     "name": "stdout",
     "output_type": "stream",
     "text": [
      "Enter your string: Python programming is fun\n",
      "{'p': 2, 'y': 1, 't': 1, 'h': 1, 'o': 2, 'n': 3, 'r': 2, 'g': 2, 'a': 1, 'm': 2, 'i': 2, 's': 1, 'f': 1, 'u': 1}\n"
     ]
    }
   ],
   "source": [
    "#to do\n",
    "user = input('Enter your string: ')\n",
    "\n",
    "new_user = ''\n",
    "\n",
    "for letter in user:\n",
    "    if letter == ' ':\n",
    "        pass\n",
    "    else:\n",
    "        if 65 <= ord(letter) <= 90:\n",
    "            new_user+=chr(ord(letter)+32)\n",
    "        else:\n",
    "            new_user+=letter\n",
    "\n",
    "new_dict = {}\n",
    "\n",
    "for alpha in new_user:\n",
    "    if alpha not in new_dict: \n",
    "        new_dict[alpha] = 1\n",
    "    else:\n",
    "        new_dict[alpha] +=1\n",
    "\n",
    "print(new_dict)         "
   ]
  },
  {
   "cell_type": "markdown",
   "metadata": {
    "id": "QWf1zsBctDS6"
   },
   "source": [
    "### Task 12\n",
    "Suppose you are given the following dictionary where the values are lists. \n",
    "\n",
    "dict = {'A': [1, 2, 3], 'b': ['1', '2'], \"c\": [4, 5, 6, 7]}\n",
    "\n",
    "Write a Python program that counts the total number of items in a dictionary’s values and prints it. <font color='red'>\n",
    "\n",
    "[without using sum(), len(), count() functions]</font> \n",
    "\n",
    "**Note:**  Make changes to the above dictionary and see if your code works properly for other dictionaries as well.\n",
    "\n",
    "===================================================================\n",
    "\n",
    "**Output:**\n",
    "\n",
    "9\n",
    "\n",
    "===================================================================\n",
    "\n"
   ]
  },
  {
   "cell_type": "code",
   "execution_count": 1,
   "metadata": {
    "colab": {
     "base_uri": "https://localhost:8080/"
    },
    "id": "atnD3A1utDS6",
    "outputId": "e1a2810c-0040-4ffe-affb-e9cf98c9f7c7"
   },
   "outputs": [
    {
     "name": "stdout",
     "output_type": "stream",
     "text": [
      "[[1, 2, 3], ['1', '2'], [4, 5, 6, 7]]\n",
      "9\n"
     ]
    }
   ],
   "source": [
    "#todo\n",
    "dict = {'A': [1, 2, 3], 'b': ['1', '2'], \"c\": [4, 5, 6, 7]}\n",
    "\n",
    "use = list(dict.values())\n",
    "total = 0\n",
    "print(use)\n",
    "for item in use:\n",
    "    for value in item:\n",
    "        total+=1\n",
    "\n",
    "print(total)       \n",
    "            "
   ]
  },
  {
   "cell_type": "markdown",
   "metadata": {
    "id": "-imuPb3EtDTD"
   },
   "source": [
    "### Task 13\n",
    "\n",
    "Suppose you have been given the following list of tuples. \n",
    "\n",
    "list = [(\"a\", 1), (\"b\", 2), (\"a\", 3), (\"b\", 1), (\"a\", 2), (\"c\", 1)]\n",
    "\n",
    "Write a Python program that converts this list of tuples into a dictionary and then prints the dictionary. <font color='red'>\n",
    "\n",
    "[You are not allowed to use set]</font> \n",
    "\n",
    "\n",
    "**Hint:** Think of membership operators (in and not in).\n",
    "\n",
    "===================================================================\n",
    "\n",
    "**Output:**\n",
    "\n",
    "{'a': [1, 3, 2], 'b': [2, 1], 'c': [1]}\n",
    "\n",
    " ===================================================================\n"
   ]
  },
  {
   "cell_type": "code",
   "execution_count": 8,
   "metadata": {
    "colab": {
     "base_uri": "https://localhost:8080/"
    },
    "id": "bBBcHpgYtDTE",
    "outputId": "329bb7f4-8d90-4933-fc55-c17d4f62bf05"
   },
   "outputs": [
    {
     "name": "stdout",
     "output_type": "stream",
     "text": [
      "{'a': [1, 3, 2], 'b': [2, 1], 'c': [1]}\n"
     ]
    }
   ],
   "source": [
    "#todo\n",
    "given_list = [(\"a\", 1), (\"b\", 2), (\"a\", 3), (\"b\", 1), (\"a\", 2), (\"c\", 1)]\n",
    "\n",
    "final_dict = {}\n",
    "\n",
    "for i in given_list:\n",
    "    if i[0] not in final_dict:\n",
    "        final_dict[i[0]] = []\n",
    "    else:\n",
    "        pass\n",
    "\n",
    "for j in given_list:\n",
    "    for k in final_dict:\n",
    "       if k == j[0]:\n",
    "           final_dict[k].append(j[1])\n",
    "       else:\n",
    "           pass\n",
    "\n",
    "print(final_dict)"
   ]
  },
  {
   "cell_type": "markdown",
   "metadata": {
    "id": "UrxbFOWk5ASO"
   },
   "source": [
    "## Optional Tasks (14-19) [Ungraded]"
   ]
  },
  {
   "cell_type": "markdown",
   "metadata": {
    "id": "vtQRbX994-Se"
   },
   "source": [
    "### Task 14\n",
    "\n",
    "Given a list of tuples, your task is to multiply the elements of the tuple and return a list of multiplied elements as shown below.\n",
    "\n",
    "===================================================================\n",
    "\n",
    "**Example 1:**\n",
    "\n",
    "Given: \n",
    "\n",
    "[(2, 3), (4, 5), (6, 7), (2, 8)]\n",
    "\n",
    "**Output:**\n",
    "\n",
    "[6, 20, 42, 16]\n",
    "\n",
    "===================================================================\n",
    "\n",
    "**Example 2:**\n",
    "\n",
    "Given:\n",
    "\n",
    " [(11, 22), (33, 55), (55, 77), (11, 44)]\n",
    "\n",
    "**Output:**\n",
    "\n",
    "[242, 1815, 4235, 484]\n",
    "\n",
    "==================================================================="
   ]
  },
  {
   "cell_type": "code",
   "execution_count": 10,
   "metadata": {
    "colab": {
     "base_uri": "https://localhost:8080/"
    },
    "id": "xy-E_k6y5maj",
    "outputId": "f50212d0-2302-4d40-affc-ce4211e34c9c"
   },
   "outputs": [
    {
     "name": "stdout",
     "output_type": "stream",
     "text": [
      "[242, 1815, 4235, 484]\n"
     ]
    }
   ],
   "source": [
    "#to do\n",
    "given_list = [(11, 22), (33, 55), (55, 77), (11, 44)]\n",
    "\n",
    "product_list = []\n",
    "\n",
    "for i in given_list:\n",
    "    product = 1\n",
    "    for j in i:\n",
    "        product*=j\n",
    "    product_list.append(product)\n",
    "\n",
    "print(product_list)"
   ]
  },
  {
   "cell_type": "markdown",
   "metadata": {
    "id": "jZQHbegc-QBA"
   },
   "source": [
    "### Task 15\n",
    "\n",
    "Assume, you have been given a tuple as below.\n",
    "\n",
    "a_tuple = ( [1, 2, 3], [4, 5, 6], [7, 8, 9], [10, 11, 12])\n",
    "\n",
    "Write a Python program that asks the user for an input (can be any data type) and **replaces the last element of each of the inner lists with the user given value.**\n",
    "\n",
    "===================================================================\n",
    "\n",
    "**Sample Input 1:**\n",
    "\n",
    "abc\n",
    "\n",
    "**Sample Output 1:** \n",
    "\n",
    "([1, 2, 'abc'], [4, 5, 'abc'], [7, 8, 'abc'], [10, 11, 'abc'])\n",
    "\n",
    "===================================================================\n",
    "\n",
    "**Sample Input 1:**\n",
    "\n",
    "1000\n",
    "\n",
    "**Sample Output 1:** \n",
    "\n",
    "([1, 2, '1000'], [4, 5, '1000'], [7, 8, '1000'], [10, 11, '1000'])\n",
    "\n",
    "==================================================================="
   ]
  },
  {
   "cell_type": "code",
   "execution_count": 17,
   "metadata": {
    "colab": {
     "base_uri": "https://localhost:8080/"
    },
    "id": "SjdnEjCz5op1",
    "outputId": "1dca6359-00ae-4f58-8608-8c1bc906a5dd"
   },
   "outputs": [
    {
     "name": "stdout",
     "output_type": "stream",
     "text": [
      "1000\n",
      "([1, 2, '1000'], [4, 5, '1000'], [7, 8, '1000'], [10, 11, '1000'])\n"
     ]
    }
   ],
   "source": [
    "#todo\n",
    "a_tuple = ( [1, 2, 3], [4, 5, 6], [7, 8, 9], [10, 11, 12])\n",
    "user = input()\n",
    "\n",
    "for i in a_tuple:\n",
    "    i[-1] = user\n",
    "\n",
    "print(a_tuple)        "
   ]
  },
  {
   "cell_type": "markdown",
   "metadata": {
    "id": "dVZrZ8Od6WwM"
   },
   "source": [
    "### Task 16\n",
    "\n",
    "Suppose there is a dictionary named my_dictionary.\n",
    "\n",
    "my_dictionary = {'c1':'Red', 'c2':'Green', 'c3':None, 'd4':'Blue', 'a5':None}.\n",
    "\n",
    "Now write a Python program to remove empty items from the dictionary. [Empty items means keys without any values (None)].\n",
    "\n",
    "===================================================================\n",
    "\n",
    "**Output:**\n",
    "\n",
    "{'c1':'Red', 'c2':'Green', 'd4':'Blue'}\n",
    "\n",
    "==================================================================="
   ]
  },
  {
   "cell_type": "code",
   "execution_count": 30,
   "metadata": {
    "colab": {
     "base_uri": "https://localhost:8080/"
    },
    "id": "cK9Nh7-F6YUE",
    "outputId": "7a878a2b-bdbd-4bad-a9c8-05f888b9f444"
   },
   "outputs": [
    {
     "name": "stdout",
     "output_type": "stream",
     "text": [
      "{'c1': 'Red', 'c2': 'Green', 'd4': 'Blue'}\n"
     ]
    }
   ],
   "source": [
    "#to do\n",
    "my_dictionary = {'c1':'Red', 'c2':'Green', 'c3':None, 'd4':'Blue', 'a5':None}\n",
    "\n",
    "final_dict = {}\n",
    "\n",
    "value_list = list(my_dictionary.values())\n",
    "new_values = []\n",
    "\n",
    "for i in value_list:\n",
    "    if i == None:\n",
    "        pass\n",
    "    else:\n",
    "        new_values.append(i)\n",
    "\n",
    "for j in new_values:\n",
    "    for k in my_dictionary:\n",
    "        if my_dictionary[k] == j:\n",
    "            final_dict[k] = j\n",
    "        else:\n",
    "            pass\n",
    "\n",
    "print(final_dict)"
   ]
  },
  {
   "cell_type": "markdown",
   "metadata": {
    "id": "_W2bOMJn62xF"
   },
   "source": [
    "### Task 17\n",
    "\n",
    "Suppose you are given a dictionary as shown below. Write a Python program that takes two inputs from the user representing the lower (inclusive) and upper (exclusive) of a range of values. Your task is to extract all the items from the dictionary whose values lie in the range given as input by the user.\n",
    "\n",
    "dictionary = {'a' : 6, 'b' : 7, 'c' : 9, 'd' : 8, 'e' : 11, 'f' : 12, 'g' : 13}\n",
    "\n",
    "===================================================================\n",
    "\n",
    "**Sample Input 1:**\n",
    "\n",
    "9, 12\n",
    "\n",
    "**Sample Output 1:**\n",
    "\n",
    "{'c': 9, 'e': 11}\n",
    "\n",
    "**Explanation:**  Keys with values within the range of 9 and 11 are extracted.\n",
    "\n",
    "===================================================================\n",
    "\n",
    "**Sample Input 2:** \n",
    "\n",
    "14, 18\n",
    "\n",
    "**Sample Output 2 :**\n",
    "\n",
    "{}\n",
    "\n",
    "**Explanation:**  No values in range.\n",
    "\n",
    "==================================================================="
   ]
  },
  {
   "cell_type": "code",
   "execution_count": 38,
   "metadata": {
    "colab": {
     "base_uri": "https://localhost:8080/"
    },
    "id": "MLh9VlLD633D",
    "outputId": "d83f27c8-9192-49c0-8e43-1324892252bd"
   },
   "outputs": [
    {
     "name": "stdout",
     "output_type": "stream",
     "text": [
      "9\n",
      "12\n",
      "{'c': 9, 'e': 11}\n"
     ]
    }
   ],
   "source": [
    "#to do\n",
    "dictionary = {'a' : 6, 'b' : 7, 'c' : 9, 'd' : 8, 'e' : 11, 'f' : 12, 'g' : 13}\n",
    "user1 = int(input())\n",
    "user2 = int(input())\n",
    "\n",
    "final_dict = {}\n",
    "\n",
    "value_list = dictionary.values()\n",
    "new_list = []\n",
    "\n",
    "for i in value_list:\n",
    "    if user1 <= i < user2:\n",
    "        new_list.append(i)\n",
    "\n",
    "for j in new_list:\n",
    "    for k in dictionary:\n",
    "        if dictionary[k] == j:\n",
    "            final_dict[k] = j\n",
    "        else:\n",
    "            pass\n",
    "\n",
    "print(final_dict)"
   ]
  },
  {
   "cell_type": "markdown",
   "metadata": {
    "id": "zC94TVcD7LqM"
   },
   "source": [
    "### Task 18\n",
    "\n",
    "Given a list of tuples, your task is to group the tuples based on the **second** element in the tuples as shown in the examples below. We can achieve this using **dictionary** by checking the second element in each tuple.\n",
    "\n",
    "[You do not need to take tuple as input and can assume that it is given as below]\n",
    "\n",
    "===================================================================\n",
    "\n",
    "**Example 1:**\n",
    "\n",
    "Given:\n",
    "\n",
    "[(20, 80), (31, 80), (1, 22), (88, 11), (27, 11)]\n",
    "\n",
    "**Output:**\n",
    "\n",
    "{80: [(20, 80), (31, 80)],\\\n",
    "         11: [(88, 11), (27, 11)],\\\n",
    "         22: [(1, 22)]}\n",
    "       \n",
    "===================================================================\n",
    "\n",
    "**Example 2:**\n",
    "\n",
    "Given:\n",
    "\n",
    "[(20, 'Sad'), (31, 'Sad'), (88, 'NotSad'), (27, 'NotSad')]\n",
    "\n",
    "**Output:**\n",
    "\n",
    "{'NotSad': [(88, 'NotSad'), (27, 'NotSad')],\\\n",
    "         'Sad: [(20, 'Sad'), (31, 'Sad')]}\n",
    "\n",
    "==================================================================="
   ]
  },
  {
   "cell_type": "code",
   "execution_count": 66,
   "metadata": {
    "colab": {
     "base_uri": "https://localhost:8080/"
    },
    "id": "zAunp7oZ7H-l",
    "outputId": "3e7a8b5a-0f80-4d9c-df15-4d207311f63e"
   },
   "outputs": [
    {
     "name": "stdout",
     "output_type": "stream",
     "text": [
      "{'Sad': [(20, 'Sad'), (31, 'Sad')], 'NotSad': [(88, 'NotSad'), (27, 'NotSad')]}\n"
     ]
    }
   ],
   "source": [
    "#todo\n",
    "given_list = [(20, 'Sad'), (31, 'Sad'), (88, 'NotSad'), (27, 'NotSad')]\n",
    "\n",
    "key_list = []\n",
    "\n",
    "for i in given_list:\n",
    "    if i[1] not in key_list:\n",
    "        key_list.append(i[1])\n",
    "\n",
    "value_list = []\n",
    "\n",
    "for j in key_list:\n",
    "    for k in given_list:\n",
    "        if j in k:\n",
    "            value_list.append(k)\n",
    "\n",
    "final_dict = {}\n",
    "\n",
    "for m in key_list:\n",
    "    result = []\n",
    "    for n in value_list:\n",
    "        if m in n:\n",
    "            result.append(n)\n",
    "    final_dict[m] = result\n",
    "\n",
    "print(final_dict)"
   ]
  },
  {
   "cell_type": "markdown",
   "metadata": {
    "id": "zdvQyAPgnfIR"
   },
   "source": [
    "### Task 19\n",
    "\n",
    "\n",
    "Write a python program that takes 2 inputs from the user. \n",
    "\n",
    "* Input1: A string containing a single sentence or multiple sentences. Multiple sentences are separated by full stops.\n",
    "* Input2: A list containing special characters.\n",
    "\n",
    "After taking the inputs, your task is to create a dictionary where the **keys** will be the corresponding special characters from the given list and the **values** will be the words in the given sentence. \n",
    "\n",
    "You need to find out which key belongs to which value. To do that, you should calculate the **index number** using the formula given below. **The calculated index is the corresponding key of the word.** Make sure no duplicate values are inserted.\n",
    "\n",
    "&nbsp;&nbsp;&nbsp;&nbsp;\n",
    "\n",
    "**The formula:**\\\n",
    "**<font color='blue'>*Index value of special character list = (ASCII sum of the word) % (length of special character list)*</font>**\n",
    "\n",
    "\n",
    "=============================================================================\n",
    "\n",
    "\n",
    "**Sample Input 1**:\\\n",
    "'I love Programming. Python is love.'\\\n",
    "['@', '$', '&', '#']\n",
    " \n",
    "**Sample Output 1**:\\\n",
    "Words in the given String: ['I', 'love', 'Programming', 'Python', 'is', 'love']\\\n",
    "Answer: {'$': ['I'], '&': ['love', 'Python'], '#': ['Programming'], '@': ['is']}\n",
    " \n",
    "**Explanation 1:**\\\n",
    "From the string 'I love Programming. Python is love.' the {key: value} pair is calculated accordingly:\n",
    "\n",
    "\n",
    "| Word | ASCII sum|List length|Calculated index|Key|\n",
    "| --- | --- | --- | --- | --- | \n",
    "|I| 73|4| 73%4 = 1|'$'|\n",
    "|  |  |  |  |  |\n",
    "|love| 438|4| 438%4 = 2|'&'|\n",
    "|  |  |  |  |  |\n",
    "|Programming| 1155|4| 1155%4 = 3|'#'|\n",
    "|  |  |  |  |  |\n",
    "|Python| 642|4| 642%4 = 2|'&'|\n",
    "|  |  |  |  |  |\n",
    "|is| 220|4| 220%4 = 0|'@'|\n",
    "|  |  |  |  |  |\n",
    "|love| 438|4| 438%4 = 2|'&'|\n",
    "|  |  |  |  |  |\n",
    "\n",
    "\n",
    "The calculation is shown in the given table. Full stops after ‘Programming.’ and ‘love.’ are avoided. Also, the last word ‘love’ is a duplicate, and therefore, it was not inserted again as a value. \n",
    "\n",
    "\n",
    "\n",
    "=============================================================================\n",
    "\n",
    "\n",
    "**Sample Input 2**:\\\n",
    "'The secret of getting ahead is getting started.'\\\n",
    "['-', '=', '+', '*', '%']\n",
    " \n",
    "**Sample Output 2:**\\\n",
    "Words in the given String: ['The', 'secret', 'of', 'getting', 'ahead', 'is', 'getting', 'started']\\\n",
    "Answer: {'%': ['The', 'getting', 'ahead', 'started'], '=': ['secret'], '*': ['of'], '-': ['is']}\n",
    " \n",
    "**Explanation 2:**\\\n",
    "From the string 'The secret of getting ahead is getting started.' the {key: value} pair is calculated accordingly:\n",
    "\n",
    "\n",
    "| Word | ASCII sum|List length|Calculated index|Key|\n",
    "| --- | --- | --- | --- | --- | \n",
    "|The| 289|5| 289%5 = 4|'%'|\n",
    "|  |  |  |  |  |\n",
    "|secret| 646|5| 646%5 = 1|'='|\n",
    "|  |  |  |  |  |\n",
    "|of| 213|5| 213%5 = 3|'*'|\n",
    "|  |  |  |  |  |\n",
    "|getting| 754|5| 754%5 = 4|'%'|\n",
    "|  |  |  |  |  |\n",
    "|ahead| 499|5| 499%5 = 4|'%'|\n",
    "|  |  |  |  |  |\n",
    "|is| 220|5| 220%5 = 0|'-'|\n",
    "|  |  |  |  |  |\n",
    "|getting| 754|5| 754%5 = 4|'%'|\n",
    "|  |  |  |  |  |\n",
    "|started| 759|5| 759%5 = 4|'%'|\n",
    "|  |  |  |  |  |\n",
    "\n",
    "\n",
    "The calculation is shown in the given table. Full stop after ‘started.’ is avoided. Also, the word ‘getting’ is a duplicate and therefore it was not inserted again as a value. \n",
    "\n",
    "=============================================================================\n"
   ]
  },
  {
   "cell_type": "code",
   "execution_count": 88,
   "metadata": {
    "colab": {
     "base_uri": "https://localhost:8080/"
    },
    "id": "SZqZ2WQYnmsr",
    "outputId": "58e70bc0-ce6c-4ec4-e460-cc0e44f24fe9"
   },
   "outputs": [
    {
     "name": "stdout",
     "output_type": "stream",
     "text": [
      "{'$': 'I', '&': 'love', '#': 'Programming', '@': 'is'}\n"
     ]
    }
   ],
   "source": [
    "#to do\n",
    "user1 = 'I love Programming. Python is love.'\n",
    "user2 = ['@', '$', '&', '#']\n",
    "\n",
    "special_length = len(user2)\n",
    "new_user1 = ''\n",
    "\n",
    "for i in user1:\n",
    "    if i == '.':\n",
    "        pass\n",
    "    else:\n",
    "        new_user1+=i\n",
    "\n",
    "word_list = new_user1.split()\n",
    "final_dict = {}\n",
    "index_list = []\n",
    "\n",
    "for j in word_list:\n",
    "    ascii_sum = 0\n",
    "    calc_index = 0\n",
    "    for k in j:\n",
    "        ascii_sum+=ord(k)\n",
    "    calc_index = ascii_sum%special_length\n",
    "    index_list.append(user2[calc_index])\n",
    "    index_list.append(j)\n",
    "\n",
    "for m in range(len(index_list)):\n",
    "    if index_list[m] in user2:\n",
    "        final_dict[index_list[m]] = index_list[m+1]\n",
    "print(final_dict)"
   ]
  }
 ],
 "metadata": {
  "colab": {
   "collapsed_sections": [],
   "name": "CSE110 Lab Assignment 5.ipynb",
   "provenance": []
  },
  "kernelspec": {
   "display_name": "Python 3",
   "language": "python",
   "name": "python3"
  },
  "language_info": {
   "codemirror_mode": {
    "name": "ipython",
    "version": 3
   },
   "file_extension": ".py",
   "mimetype": "text/x-python",
   "name": "python",
   "nbconvert_exporter": "python",
   "pygments_lexer": "ipython3",
   "version": "3.8.8"
  }
 },
 "nbformat": 4,
 "nbformat_minor": 1
}
