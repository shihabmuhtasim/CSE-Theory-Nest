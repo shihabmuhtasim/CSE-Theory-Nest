{
 "cells": [
  {
   "cell_type": "markdown",
   "id": "aa4ce98b",
   "metadata": {},
   "source": [
    "### ASSIGNMENT 1"
   ]
  },
  {
   "cell_type": "code",
   "execution_count": 3,
   "id": "101bd41a",
   "metadata": {},
   "outputs": [
    {
     "name": "stdout",
     "output_type": "stream",
     "text": [
      "4\n",
      "5\n",
      "9 1 16\n"
     ]
    }
   ],
   "source": [
    "#1\n",
    "num1=int(input())\n",
    "num2=int(input())\n",
    "su=num1+num2\n",
    "if num1>num2:\n",
    "    dif=num1-num2\n",
    "else:\n",
    "    dif=num2-num1\n",
    "pro=num1*num1    \n",
    "print(su,dif,pro)   "
   ]
  },
  {
   "cell_type": "code",
   "execution_count": 4,
   "id": "ce11050c",
   "metadata": {},
   "outputs": [
    {
     "name": "stdout",
     "output_type": "stream",
     "text": [
      "4\n",
      "50.26548245743669 25.132741228718345\n"
     ]
    }
   ],
   "source": [
    "#2\n",
    "import math\n",
    "r=int(input())\n",
    "area=math.pi*r*r\n",
    "circum=2*math.pi*r\n",
    "print(area, circum)"
   ]
  },
  {
   "cell_type": "code",
   "execution_count": 6,
   "id": "35089dae",
   "metadata": {},
   "outputs": [
    {
     "name": "stdout",
     "output_type": "stream",
     "text": [
      "3\n",
      "not multiple\n"
     ]
    }
   ],
   "source": [
    "#6\n",
    "num=int(input())\n",
    "if(num%5==0 or num%2==0):\n",
    "    print(num)\n",
    "else:\n",
    "    print(\"not multiple\")"
   ]
  },
  {
   "cell_type": "code",
   "execution_count": 15,
   "id": "500fa954",
   "metadata": {},
   "outputs": [
    {
     "name": "stdout",
     "output_type": "stream",
     "text": [
      "20\n",
      "not multiple\n"
     ]
    }
   ],
   "source": [
    "#7\n",
    "num=int(input())\n",
    "if not(num%5==0 and num%2==0):\n",
    "    print(num)\n",
    "else:    \n",
    "    print(\"not multiple\")"
   ]
  },
  {
   "cell_type": "code",
   "execution_count": 18,
   "id": "18fb2db6",
   "metadata": {},
   "outputs": [
    {
     "name": "stdout",
     "output_type": "stream",
     "text": [
      "10000\n",
      "2 46 40\n"
     ]
    }
   ],
   "source": [
    "sec=int(input())\n",
    "hour=sec//3600\n",
    "sec=sec%3600\n",
    "mini=sec//60\n",
    "sec=sec%60\n",
    "print(hour, mini,sec)"
   ]
  },
  {
   "cell_type": "markdown",
   "id": "0366f058",
   "metadata": {},
   "source": [
    "### Assignmnet 2"
   ]
  },
  {
   "cell_type": "code",
   "execution_count": 24,
   "id": "3360b201",
   "metadata": {},
   "outputs": [
    {
     "name": "stdout",
     "output_type": "stream",
     "text": [
      "24,18,12,6,0,-6\n"
     ]
    }
   ],
   "source": [
    "#1\n",
    "num=24\n",
    "print(num,end=\",\")\n",
    "for i in range(5):\n",
    "    num=num-6\n",
    "    if i==4:\n",
    "        print(num)\n",
    "    else:    \n",
    "        print(num,end=\",\")"
   ]
  },
  {
   "cell_type": "code",
   "execution_count": 28,
   "id": "8d80aaf6",
   "metadata": {},
   "outputs": [
    {
     "name": "stdout",
     "output_type": "stream",
     "text": [
      "-10,-5,0,5,10,15\n"
     ]
    }
   ],
   "source": [
    "num=-10\n",
    "print(num,end=\",\")\n",
    "for i in range(0,5):\n",
    "    num=num+5\n",
    "    if i==4:\n",
    "        print(num)\n",
    "    else:\n",
    "        print(num,end=\",\")"
   ]
  },
  {
   "cell_type": "code",
   "execution_count": 29,
   "id": "c7e55c68",
   "metadata": {},
   "outputs": [
    {
     "name": "stdout",
     "output_type": "stream",
     "text": [
      "18,27,36,45,54,63\n"
     ]
    }
   ],
   "source": [
    "num=18\n",
    "for i in range(0,6):\n",
    "    if i==5:\n",
    "        print(num)\n",
    "    else:\n",
    "        print(num,end=\",\")\n",
    "    num=num+9    "
   ]
  },
  {
   "cell_type": "code",
   "execution_count": 30,
   "id": "fa21f224",
   "metadata": {},
   "outputs": [
    {
     "name": "stdout",
     "output_type": "stream",
     "text": [
      "18,-27,36,-45,54,63\n"
     ]
    }
   ],
   "source": [
    "num=18\n",
    "for i in range(0,6):\n",
    "    if i==5:\n",
    "        print(num)\n",
    "    else:\n",
    "        if i%2==0:\n",
    "            print(num,end=\",\")\n",
    "        else:\n",
    "            print(-num,end=\",\")\n",
    "    num=num+9  "
   ]
  },
  {
   "cell_type": "code",
   "execution_count": 31,
   "id": "a65e6ace",
   "metadata": {},
   "outputs": [
    {
     "name": "stdout",
     "output_type": "stream",
     "text": [
      "toyota\n",
      "3\n",
      "toyota\n",
      "toyota\n",
      "toyota\n"
     ]
    }
   ],
   "source": [
    "car=input()\n",
    "num=int(input())\n",
    "for i in range(num):\n",
    "    print(car)"
   ]
  },
  {
   "cell_type": "code",
   "execution_count": 32,
   "id": "f3b86103",
   "metadata": {},
   "outputs": [
    {
     "name": "stdout",
     "output_type": "stream",
     "text": [
      "2835\n"
     ]
    }
   ],
   "source": [
    "num=63\n",
    "su=0\n",
    "for i in range(600):\n",
    "    if(i%7==0 and i%9==0):\n",
    "        su=su+i\n",
    "print(su)        "
   ]
  },
  {
   "cell_type": "code",
   "execution_count": 33,
   "id": "030d4925",
   "metadata": {},
   "outputs": [
    {
     "name": "stdout",
     "output_type": "stream",
     "text": [
      "11 13 15 17 19 21 23 25 27 29 31 33 35 37 39 41 43 45 47 49 "
     ]
    }
   ],
   "source": [
    "#6\n",
    "for i in range(10,51):\n",
    "    if i%2!=0:\n",
    "        print(i,end=\" \")"
   ]
  },
  {
   "cell_type": "code",
   "execution_count": 37,
   "id": "9eae1015",
   "metadata": {},
   "outputs": [
    {
     "name": "stdout",
     "output_type": "stream",
     "text": [
      "20\n",
      "-210\n"
     ]
    }
   ],
   "source": [
    "num=int(input())\n",
    "su=0\n",
    "for i in range(1,num+1):\n",
    "    if i%2!=0:\n",
    "        nu=i*i\n",
    "    else:\n",
    "        nu=-i*i\n",
    "    su=su+nu \n",
    "print(su)    "
   ]
  },
  {
   "cell_type": "code",
   "execution_count": 41,
   "id": "43e275f8",
   "metadata": {},
   "outputs": [
    {
     "name": "stdout",
     "output_type": "stream",
     "text": [
      "-20\n",
      "3\n",
      "-5\n",
      "40\n",
      "-17\n",
      "9\n",
      "20\n",
      "-8\n",
      "99\n",
      "-200\n",
      "89 17.8\n"
     ]
    }
   ],
   "source": [
    "total=0\n",
    "count=0\n",
    "for i in range(10):\n",
    "    nu=int(input())\n",
    "    if nu%2!=0:\n",
    "        total=total+nu\n",
    "        count=count+1\n",
    "average=total/count\n",
    "print(total,average)"
   ]
  },
  {
   "cell_type": "code",
   "execution_count": 43,
   "id": "ee866992",
   "metadata": {},
   "outputs": [
    {
     "name": "stdout",
     "output_type": "stream",
     "text": [
      "75\n",
      "385\n"
     ]
    }
   ],
   "source": [
    "num=int(input())\n",
    "su=0\n",
    "for i in range(num):\n",
    "    if i%7==0:\n",
    "        su=su+i\n",
    "print(su)        "
   ]
  },
  {
   "cell_type": "code",
   "execution_count": 45,
   "id": "3fe69d27",
   "metadata": {},
   "outputs": [
    {
     "name": "stdout",
     "output_type": "stream",
     "text": [
      "10\n",
      "10\n",
      "2\n",
      "12\n",
      "3\n",
      "15\n",
      "4\n",
      "19\n",
      "5\n",
      "24\n",
      "6\n",
      "30\n",
      "7\n",
      "37\n",
      "8\n",
      "45\n",
      "9\n",
      "54\n",
      "65\n",
      "119\n"
     ]
    }
   ],
   "source": [
    "su=0\n",
    "for i in range(10):\n",
    "    num=int(input())\n",
    "    su=su+num\n",
    "    print(su)"
   ]
  },
  {
   "cell_type": "code",
   "execution_count": 47,
   "id": "fdce6720",
   "metadata": {},
   "outputs": [
    {
     "name": "stdout",
     "output_type": "stream",
     "text": [
      "123456\n",
      "6,5,4,3,2,1\n"
     ]
    }
   ],
   "source": [
    "#11\n",
    "num=int(input())\n",
    "count=0\n",
    "while num>0:\n",
    "    new=num%10\n",
    "    num=num//10\n",
    "    count=count+1\n",
    "    if num==0:\n",
    "        print(new)\n",
    "    else:    \n",
    "        print(new,end=\",\")"
   ]
  },
  {
   "cell_type": "code",
   "execution_count": 48,
   "id": "07979db6",
   "metadata": {},
   "outputs": [
    {
     "name": "stdout",
     "output_type": "stream",
     "text": [
      "12345\n",
      "5\n"
     ]
    }
   ],
   "source": [
    "num=int(input())\n",
    "count=0\n",
    "while num>0:\n",
    "    num=num//10\n",
    "    count=count+1\n",
    "print(count)    "
   ]
  },
  {
   "cell_type": "code",
   "execution_count": 72,
   "id": "07ecc86a",
   "metadata": {},
   "outputs": [
    {
     "name": "stdout",
     "output_type": "stream",
     "text": [
      "12345\n",
      "1,2,3,4,5 "
     ]
    }
   ],
   "source": [
    "#13\n",
    "num=int(input())\n",
    "count=0\n",
    "nuw=num\n",
    "while num>0:\n",
    "    num=num//10\n",
    "    count=count+1\n",
    "x=count-1   \n",
    "y=pow(10,x)\n",
    "while nuw>0:\n",
    "    if nuw//10==0:\n",
    "        new=nuw//y\n",
    "        print(new,end=\" \")\n",
    "        nuw=nuw%y\n",
    "        y=y//10\n",
    "    else:\n",
    "        new=nuw//y\n",
    "        print(new,end=\",\")\n",
    "        nuw=nuw%y\n",
    "        y=y//10\n"
   ]
  },
  {
   "cell_type": "code",
   "execution_count": 69,
   "id": "43f81988",
   "metadata": {},
   "outputs": [
    {
     "name": "stdout",
     "output_type": "stream",
     "text": [
      "12345\n",
      "1,2,3,4,5\n"
     ]
    }
   ],
   "source": [
    "#13 with list and string\n",
    "num=int(input())\n",
    "new=str(num)\n",
    "for i in range(len(new)):\n",
    "    if i==len(new)-1:\n",
    "        print(new[i])\n",
    "    else:    \n",
    "        print(new[i],end=\",\")"
   ]
  },
  {
   "cell_type": "code",
   "execution_count": 80,
   "id": "a8d0eea0",
   "metadata": {},
   "outputs": [
    {
     "name": "stdout",
     "output_type": "stream",
     "text": [
      "Enter a number:6\n",
      "1,2,3,6,\n",
      " 4\n"
     ]
    }
   ],
   "source": [
    "#14\n",
    "count=0\n",
    "num=int(input(\"Enter a number:\"))\n",
    "for i in range(1,num+1):\n",
    "    if(num%i==0):\n",
    "        print(i,end=\",\")\n",
    "        count=count+1\n",
    "print(\"\\n\",count)        "
   ]
  },
  {
   "cell_type": "code",
   "execution_count": 84,
   "id": "83c2908f",
   "metadata": {},
   "outputs": [
    {
     "name": "stdout",
     "output_type": "stream",
     "text": [
      "Enter a number:33\n",
      "not\n"
     ]
    }
   ],
   "source": [
    "count=0\n",
    "su=0\n",
    "num=int(input(\"Enter a number:\"))\n",
    "for i in range(1,num):\n",
    "    if(num%i==0):\n",
    "        su=su+i\n",
    "if su==num:\n",
    "    print(\"perfect\")\n",
    "else:\n",
    "    print(\"not\")"
   ]
  },
  {
   "cell_type": "code",
   "execution_count": 86,
   "id": "0a94193a",
   "metadata": {},
   "outputs": [
    {
     "name": "stdout",
     "output_type": "stream",
     "text": [
      "Enter a number:6\n",
      "not\n"
     ]
    }
   ],
   "source": [
    "count=0\n",
    "num=int(input(\"Enter a number:\"))\n",
    "for i in range(1,num+1):\n",
    "    if(num%i==0):\n",
    "        count=count+1\n",
    "if count==2:\n",
    "    print(\"prime\")\n",
    "else:\n",
    "    print(\"not\")"
   ]
  },
  {
   "cell_type": "code",
   "execution_count": 93,
   "id": "c5987d71",
   "metadata": {},
   "outputs": [
    {
     "name": "stdout",
     "output_type": "stream",
     "text": [
      "5\n",
      "10\n",
      "4\n",
      "1\n",
      "-1\n",
      "-100\n",
      "10 -100 -17.2\n"
     ]
    }
   ],
   "source": [
    "#17\n",
    "lar=-10000000000\n",
    "small=10000000000\n",
    "count=5\n",
    "su=0\n",
    "nu=int(input())\n",
    "for i in range(nu):\n",
    "    num=int(input())\n",
    "    su=su+num\n",
    "    if num>lar:\n",
    "        lar=num\n",
    "    if(num<small):\n",
    "        small=num\n",
    "aver=su/nu        \n",
    "print(lar,small,aver)        "
   ]
  },
  {
   "cell_type": "code",
   "execution_count": 94,
   "id": "a634ef94",
   "metadata": {},
   "outputs": [
    {
     "name": "stdout",
     "output_type": "stream",
     "text": [
      "5\n",
      "+++++\n",
      "+++++\n",
      "+++++\n",
      "+++++\n",
      "+++++\n"
     ]
    }
   ],
   "source": [
    "#18\n",
    "num=int(input())\n",
    "for i in range(num):\n",
    "    for j in range(num):\n",
    "        print(\"+\",end=\"\")\n",
    "    print()    "
   ]
  },
  {
   "cell_type": "code",
   "execution_count": 97,
   "id": "56aa68a3",
   "metadata": {},
   "outputs": [
    {
     "name": "stdout",
     "output_type": "stream",
     "text": [
      "height4\n",
      "length6\n",
      "123456\n",
      "123456\n",
      "123456\n",
      "123456\n"
     ]
    }
   ],
   "source": [
    "m=int(input(\"height\"))\n",
    "n=int(input(\"length\"))\n",
    "for i in range(m):\n",
    "    for j in range(1,n+1):\n",
    "        print(j,end=\"\")\n",
    "    print()    "
   ]
  },
  {
   "cell_type": "code",
   "execution_count": 101,
   "id": "4555a2ef",
   "metadata": {},
   "outputs": [
    {
     "name": "stdout",
     "output_type": "stream",
     "text": [
      "5\n",
      "1\n",
      "12\n",
      "123\n",
      "1234\n",
      "12345\n"
     ]
    }
   ],
   "source": [
    "num=int(input())\n",
    "for i in range(1,num+1):\n",
    "    for j in range(1,i+1):\n",
    "        print(j,end=\"\")\n",
    "    print()    "
   ]
  },
  {
   "cell_type": "code",
   "execution_count": 125,
   "id": "45f5d2fb",
   "metadata": {},
   "outputs": [
    {
     "name": "stdout",
     "output_type": "stream",
     "text": [
      "10\n",
      "0 1 1 2 3 5 8 "
     ]
    }
   ],
   "source": [
    "#21\n",
    "num1=0\n",
    "num2=1\n",
    "su=0\n",
    "num=int(input())\n",
    "while num1<num:\n",
    "    print(num1,end=\" \")\n",
    "    su=num1+num2\n",
    "    num1=num2\n",
    "    num2=su"
   ]
  },
  {
   "cell_type": "code",
   "execution_count": 136,
   "id": "05c9e6e4",
   "metadata": {},
   "outputs": [
    {
     "name": "stdout",
     "output_type": "stream",
     "text": [
      "13\n",
      "1101\n"
     ]
    }
   ],
   "source": [
    "#22\n",
    "num=int(input())\n",
    "z=\"\"\n",
    "while num>0:\n",
    "    x=num%2\n",
    "    num=num//2\n",
    "    x=str(x)\n",
    "    z=x+z\n",
    "print(z)\n",
    "        "
   ]
  },
  {
   "cell_type": "code",
   "execution_count": 152,
   "id": "28a15fdd",
   "metadata": {},
   "outputs": [
    {
     "name": "stdout",
     "output_type": "stream",
     "text": [
      "1101\n",
      "13\n"
     ]
    }
   ],
   "source": [
    "#23\n",
    "num=int(input())\n",
    "y=str(num)\n",
    "su=0\n",
    "for i in range(len(y)):\n",
    "    u=len(y)-i-1\n",
    "    p=int(pow(2,u))\n",
    "    o=y[i]\n",
    "    inu=int(o)\n",
    "    ne=p*inu\n",
    "    su=su+ne\n",
    "print(su)\n",
    "    "
   ]
  },
  {
   "cell_type": "code",
   "execution_count": 153,
   "id": "aa8b6305",
   "metadata": {},
   "outputs": [
    {
     "name": "stdout",
     "output_type": "stream",
     "text": [
      "5\n",
      "10\n",
      "6\n",
      "4\n",
      "2\n",
      "1\n",
      "480\n"
     ]
    }
   ],
   "source": [
    "#25\n",
    "num=int(input())\n",
    "y=1\n",
    "for i in range(num):\n",
    "    x=int(input())\n",
    "    y=y*x\n",
    "print(y)    "
   ]
  },
  {
   "cell_type": "code",
   "execution_count": 180,
   "id": "7b81ff15",
   "metadata": {},
   "outputs": [
    {
     "name": "stdout",
     "output_type": "stream",
     "text": [
      "2\n",
      "6\n",
      "prime 3\n",
      "5 3 2 \n",
      "perfect 1\n",
      "6 \n"
     ]
    }
   ],
   "source": [
    "#26\n",
    "start=int(input())\n",
    "end=int(input())\n",
    "prime=0\n",
    "count=0\n",
    "new=\"\"\n",
    "su=0\n",
    "perfect=0\n",
    "per=\"\"\n",
    "for i in range(start,end+1):\n",
    "    count=0\n",
    "    su=0\n",
    "    for j in range(1,i+1):\n",
    "        if i%j==0:\n",
    "            count=count+1\n",
    "            su=su+j\n",
    "    if count==2:\n",
    "        prime=prime+1\n",
    "        new=str(i)+\" \"+new\n",
    "    elif((su-i)==i):\n",
    "        perfect=perfect+1\n",
    "        per=str(i)+\" \"+per\n",
    "print(\"prime\",prime)   \n",
    "print(new)\n",
    "print(\"perfect\",perfect)\n",
    "print(per)"
   ]
  },
  {
   "cell_type": "code",
   "execution_count": 190,
   "id": "2f1abc18",
   "metadata": {},
   "outputs": [
    {
     "name": "stdout",
     "output_type": "stream",
     "text": [
      "65B67D69F71H\n"
     ]
    }
   ],
   "source": [
    "#rando\n",
    "word=\"ABCDEFGHIJKL\"\n",
    "fun=\"\"\n",
    "for i in range(0,len(word)):\n",
    "    if word[i]==\"I\":\n",
    "        break\n",
    "        \n",
    "    if i%2==0:\n",
    "        n=ord(word[i])\n",
    "        fun=fun+str(n)\n",
    "    else:\n",
    "        fun=fun+word[i]\n",
    "\n",
    "print(fun)    "
   ]
  },
  {
   "cell_type": "code",
   "execution_count": 193,
   "id": "a1411865",
   "metadata": {},
   "outputs": [
    {
     "name": "stdout",
     "output_type": "stream",
     "text": [
      "BDFH 4\n"
     ]
    }
   ],
   "source": [
    "word=\"65B67D69F71H\"\n",
    "a=\"\"\n",
    "c=0\n",
    "for letter in word:\n",
    "    if ord(letter) in range(65,91):\n",
    "        a=a+letter\n",
    "        c=c+1\n",
    "print(a,c)        "
   ]
  },
  {
   "cell_type": "code",
   "execution_count": 194,
   "id": "2a5cfa6d",
   "metadata": {},
   "outputs": [
    {
     "name": "stdout",
     "output_type": "stream",
     "text": [
      "4\n",
      "2\n"
     ]
    }
   ],
   "source": [
    "num=\"14501450\"\n",
    "n=int(input())\n",
    "c=0\n",
    "w=str(n)\n",
    "for i in range(0,len(num)):\n",
    "    if w==num[i]:\n",
    "        c=c+1\n",
    "print(c)        "
   ]
  },
  {
   "cell_type": "markdown",
   "id": "4cbefac6",
   "metadata": {},
   "source": [
    "### STAR PROBLEMS"
   ]
  },
  {
   "cell_type": "code",
   "execution_count": 196,
   "id": "984a6949",
   "metadata": {},
   "outputs": [
    {
     "name": "stdout",
     "output_type": "stream",
     "text": [
      "4\n",
      "6\n",
      "123456\n",
      "123456\n",
      "123456\n",
      "123456\n"
     ]
    }
   ],
   "source": [
    "#1\n",
    "h=int(input())\n",
    "l=int(input())\n",
    "for i in range(1,h+1):\n",
    "    for j in range(1,l+1):\n",
    "        print(j,end=\"\")\n",
    "    print()    "
   ]
  },
  {
   "cell_type": "code",
   "execution_count": 198,
   "id": "d4eff8ab",
   "metadata": {},
   "outputs": [
    {
     "name": "stdout",
     "output_type": "stream",
     "text": [
      "4\n",
      "*\n",
      "**\n",
      "***\n",
      "****\n"
     ]
    }
   ],
   "source": [
    "num=int(input())\n",
    "for i in range(1,num+1):\n",
    "    for j in range(1,i+1):\n",
    "        print(\"*\",end=\"\")\n",
    "    print()    "
   ]
  },
  {
   "cell_type": "code",
   "execution_count": 199,
   "id": "c7975b0e",
   "metadata": {},
   "outputs": [
    {
     "name": "stdout",
     "output_type": "stream",
     "text": [
      "4\n",
      "1\n",
      "12\n",
      "123\n",
      "1234\n"
     ]
    }
   ],
   "source": [
    "num=int(input())\n",
    "for i in range(1,num+1):\n",
    "    for j in range(1,i+1):\n",
    "        print(j,end=\"\")\n",
    "    print()    "
   ]
  },
  {
   "cell_type": "code",
   "execution_count": 206,
   "id": "f54c8396",
   "metadata": {},
   "outputs": [
    {
     "name": "stdout",
     "output_type": "stream",
     "text": [
      "4\n",
      "   *\n",
      "  **\n",
      " ***\n",
      "****\n"
     ]
    }
   ],
   "source": [
    "#4\n",
    "num=int(input())\n",
    "for i in range(1,num+1):\n",
    "    for j in range(num-i):\n",
    "        print(\" \",end=\"\")\n",
    "    for k in range(i):     \n",
    "        print(\"*\",end=\"\")    \n",
    "    print()    "
   ]
  },
  {
   "cell_type": "code",
   "execution_count": 207,
   "id": "4b963a30",
   "metadata": {},
   "outputs": [
    {
     "name": "stdout",
     "output_type": "stream",
     "text": [
      "4\n",
      "   1\n",
      "  12\n",
      " 123\n",
      "1234\n"
     ]
    }
   ],
   "source": [
    "#5\n",
    "num=int(input())\n",
    "for i in range(1,num+1):\n",
    "    for j in range(num-i):\n",
    "        print(\" \",end=\"\")\n",
    "    for k in range(1,i+1):\n",
    "        print(k,end=\"\")\n",
    "    print()    "
   ]
  },
  {
   "cell_type": "code",
   "execution_count": 210,
   "id": "6aaab162",
   "metadata": {},
   "outputs": [
    {
     "name": "stdout",
     "output_type": "stream",
     "text": [
      "4\n",
      "   *\n",
      "  ***\n",
      " *****\n",
      "*******\n"
     ]
    }
   ],
   "source": [
    "#6\n",
    "num=int(input())\n",
    "for i in range(1,num+1):\n",
    "    for j in range(num-i):\n",
    "        print(\" \",end=\"\")\n",
    "    for k in range(1,i+1):\n",
    "        print(\"*\",end=\"\")\n",
    "    for l in range(i-1):\n",
    "        print(\"*\",end=\"\")\n",
    "    print()    "
   ]
  },
  {
   "cell_type": "code",
   "execution_count": 224,
   "id": "011de94f",
   "metadata": {},
   "outputs": [
    {
     "name": "stdout",
     "output_type": "stream",
     "text": [
      "4\n",
      "   1\n",
      "  123\n",
      " 12345\n",
      "1234567\n"
     ]
    }
   ],
   "source": [
    "#7\n",
    "num=int(input())\n",
    "x=1\n",
    "for i in range(1,num+1):\n",
    "    for j in range(num-i):\n",
    "        print(\" \",end=\"\")\n",
    "    for k in range(1,i+i):\n",
    "        print(k,end=\"\")\n",
    "    print()    "
   ]
  },
  {
   "cell_type": "code",
   "execution_count": 265,
   "id": "c4166f33",
   "metadata": {},
   "outputs": [
    {
     "name": "stdout",
     "output_type": "stream",
     "text": [
      "4\n",
      "   *\n",
      "  ***\n",
      " *****\n",
      "*******\n",
      " *****\n",
      "  ***\n",
      "   *\n"
     ]
    }
   ],
   "source": [
    "#8\n",
    "num=int(input())\n",
    "x=num\n",
    "for i in range(1,num+1):\n",
    "    for j in range(num-i):\n",
    "        print(\" \",end=\"\")\n",
    "    for k in range(1,i+i):\n",
    "        print(\"*\",end=\"\")\n",
    "    print()  \n",
    "for o in range(num-1,0,-1):\n",
    "    for m in range(num-o):\n",
    "        print(\" \",end=\"\")\n",
    "    for n in range(o+o-1):\n",
    "        print(\"*\",end=\"\")\n",
    "        x=x-2\n",
    "    print()    "
   ]
  },
  {
   "cell_type": "code",
   "execution_count": 268,
   "id": "01c41943",
   "metadata": {},
   "outputs": [
    {
     "name": "stdout",
     "output_type": "stream",
     "text": [
      "4\n",
      "   1\n",
      "  123\n",
      " 12345\n",
      "1234567\n",
      " 12345\n",
      "  123\n",
      "   1\n"
     ]
    }
   ],
   "source": [
    "#9\n",
    "num=int(input())\n",
    "x=num\n",
    "for i in range(1,num+1):\n",
    "    for j in range(num-i):\n",
    "        print(\" \",end=\"\")\n",
    "    for k in range(1,i+i):\n",
    "        print(k,end=\"\")\n",
    "    print()  \n",
    "for o in range(num-1,0,-1):\n",
    "    for m in range(num-o):\n",
    "        print(\" \",end=\"\")\n",
    "    for n in range(1,o+o):\n",
    "        print(n,end=\"\")\n",
    "        x=x-2\n",
    "    print()    "
   ]
  },
  {
   "cell_type": "code",
   "execution_count": 285,
   "id": "fe3e7707",
   "metadata": {},
   "outputs": [
    {
     "name": "stdout",
     "output_type": "stream",
     "text": [
      "4\n",
      "4\n",
      "****\n",
      "*  *\n",
      "*  *\n",
      "****\n"
     ]
    }
   ],
   "source": [
    "#10\n",
    "h=int(input())\n",
    "l=int(input())\n",
    "for i in range(1,h+1):\n",
    "    if(i==1 or i==h):\n",
    "        for j in range(1,l+1):\n",
    "            print(\"*\",end=\"\")\n",
    "        print()    \n",
    "    else:\n",
    "        for k in range(1):\n",
    "            for n in range(1):\n",
    "                print(\"*\",end=\"\")\n",
    "            for m in range(l-2):\n",
    "                print(\" \",end=\"\")\n",
    "            for k in range(1):    \n",
    "                print(\"*\",end=\"\")      \n",
    "        print()    \n",
    "        "
   ]
  },
  {
   "cell_type": "code",
   "execution_count": 2,
   "id": "431fbdef",
   "metadata": {},
   "outputs": [
    {
     "name": "stdout",
     "output_type": "stream",
     "text": [
      "4\n",
      "5\n",
      "12345\n",
      "1   5\n",
      "1   5\n",
      "12345\n"
     ]
    }
   ],
   "source": [
    "#11\n",
    "h=int(input())\n",
    "l=int(input())\n",
    "for i in range(1,h+1):\n",
    "    if i==1 or i==h:\n",
    "        for j in range(1,l+1):\n",
    "            print(j,end=\"\")\n",
    "        print()\n",
    "    else:\n",
    "        for k in range(1):\n",
    "            print(\"1\",end=\"\")\n",
    "        for p in range(l-2):\n",
    "            print(\" \",end=\"\")\n",
    "        for m in range(1):\n",
    "            print(l,end=\"\")\n",
    "        print()    "
   ]
  },
  {
   "cell_type": "code",
   "execution_count": 8,
   "id": "b4b91f64",
   "metadata": {},
   "outputs": [
    {
     "name": "stdout",
     "output_type": "stream",
     "text": [
      "5\n",
      "*\n",
      "**\n",
      "* *\n",
      "*  *\n",
      "*****\n"
     ]
    }
   ],
   "source": [
    "#12\n",
    "num=int(input())\n",
    "for i in range(1,num+1):\n",
    "    if i==1 or i==num:\n",
    "        for p in range(i):\n",
    "            print(\"*\",end=\"\")\n",
    "        print()\n",
    "    else:    \n",
    "        for j in range(1):\n",
    "            print(\"*\",end=\"\")\n",
    "        for k in range(i-2):\n",
    "            print(\" \",end=\"\")\n",
    "        for m in range(1):\n",
    "            print(\"*\",end=\"\")\n",
    "        print()    "
   ]
  },
  {
   "cell_type": "code",
   "execution_count": 12,
   "id": "031ed496",
   "metadata": {},
   "outputs": [
    {
     "name": "stdout",
     "output_type": "stream",
     "text": [
      "5\n",
      "1\n",
      "12\n",
      "1 3\n",
      "1  4\n",
      "12345\n"
     ]
    }
   ],
   "source": [
    "num=int(input())\n",
    "for i in range(1,num+1):\n",
    "    if i==1 or i==num:\n",
    "        for j in range(1,i+1):\n",
    "            print(j,end=\"\")\n",
    "        print()\n",
    "    else:\n",
    "        for k in range(1):\n",
    "            print(\"1\",end='')\n",
    "        for m in range(i-2):\n",
    "            print(\" \",end=\"\")\n",
    "        for n in range(1):\n",
    "            print(i,end=\"\")\n",
    "        print()    "
   ]
  },
  {
   "cell_type": "code",
   "execution_count": 19,
   "id": "430fa458",
   "metadata": {},
   "outputs": [
    {
     "name": "stdout",
     "output_type": "stream",
     "text": [
      "5\n",
      "    *\n",
      "   **\n",
      "  * *\n",
      " *  *\n",
      "*****\n"
     ]
    }
   ],
   "source": [
    "#14\n",
    "num=int(input())\n",
    "for i in range(1,num+1):\n",
    "    if i==1 or i==num:\n",
    "        for j in range(num-i):\n",
    "            print(\" \",end=\"\")\n",
    "        for k in range(1,i+1):\n",
    "            print(\"*\",end=\"\")\n",
    "        print()\n",
    "    else:\n",
    "        for l  in range(1,num-i+1):\n",
    "            print(\" \",end=\"\")\n",
    "        for m in range(1):\n",
    "            print(\"*\",end=\"\")\n",
    "        for n in range(i-2):\n",
    "            print(\" \",end=\"\")\n",
    "        for o in range(1):\n",
    "            print(\"*\",end=\"\")\n",
    "        print()    "
   ]
  },
  {
   "cell_type": "code",
   "execution_count": 20,
   "id": "172f7d21",
   "metadata": {},
   "outputs": [
    {
     "name": "stdout",
     "output_type": "stream",
     "text": [
      "5\n",
      "    1\n",
      "   12\n",
      "  1 3\n",
      " 1  4\n",
      "12345\n"
     ]
    }
   ],
   "source": [
    "num=int(input())\n",
    "for i in range(1,num+1):\n",
    "    if i==1 or i==num:\n",
    "        for j in range(num-i):\n",
    "            print(\" \",end=\"\")\n",
    "        for k in range(1,i+1):\n",
    "            print(k,end=\"\")\n",
    "        print()\n",
    "    else:\n",
    "        for l  in range(1,num-i+1):\n",
    "            print(\" \",end=\"\")\n",
    "        for m in range(1):\n",
    "            print(1,end=\"\")\n",
    "        for n in range(i-2):\n",
    "            print(\" \",end=\"\")\n",
    "        for o in range(1):\n",
    "            print(i,end=\"\")\n",
    "        print()    "
   ]
  },
  {
   "cell_type": "code",
   "execution_count": 29,
   "id": "e0b8697d",
   "metadata": {},
   "outputs": [
    {
     "name": "stdout",
     "output_type": "stream",
     "text": [
      "4\n",
      "   1\n",
      "  1 3\n",
      " 1   5\n",
      "1234567\n"
     ]
    }
   ],
   "source": [
    "#15\n",
    "num=int(input())\n",
    "for i in range(1,num+1):\n",
    "    if i==1 or i==num:\n",
    "        for j in range(num-i):\n",
    "            print(\" \",end=\"\")\n",
    "        for k in range(1,i+i):\n",
    "            print(k,end=\"\")    \n",
    "        print()\n",
    "    else:\n",
    "        for m in range(num-i):\n",
    "            print(\" \",end=\"\")\n",
    "        for n in range(1):\n",
    "            print(\"1\",end=\"\")\n",
    "        for o in range(i+i-3):\n",
    "            print(\" \",end=\"\")\n",
    "        for p in range(1):\n",
    "            print(i+i-1,end=\"\")\n",
    "        print()"
   ]
  },
  {
   "cell_type": "code",
   "execution_count": 39,
   "id": "4d39afe2",
   "metadata": {},
   "outputs": [
    {
     "name": "stdout",
     "output_type": "stream",
     "text": [
      "5\n",
      "    1\n",
      "   1 3\n",
      "  1   5\n",
      " 1     7\n",
      "1       9\n",
      " 1     7\n",
      "  1   5\n",
      "   1 3\n",
      "    1\n"
     ]
    }
   ],
   "source": [
    "#16\n",
    "num=int(input())\n",
    "for i in range(1,num+1):\n",
    "    for j in range(num-i):\n",
    "        print(\" \",end=\"\")\n",
    "    for k in range(1):\n",
    "        print(\"1\",end=\"\")\n",
    "    for l in range(i+i-3):\n",
    "        print(\" \",end=\"\")\n",
    "    if i!=1:    \n",
    "        for m  in range(1):\n",
    "            print(i+i-1,end=\"\")\n",
    "    print()    \n",
    "for n in range(num-1,0,-1):\n",
    "    for o in range(num-n):\n",
    "        print(\" \",end=\"\")\n",
    "    for p in range(1):\n",
    "        print(1,end=\"\")\n",
    "    for q in range(n+n-3):\n",
    "        print(\" \",end=\"\")\n",
    "    if n!=1:    \n",
    "        for r in range(1):\n",
    "            print(n+n-1,end=\"\")\n",
    "    print()    "
   ]
  },
  {
   "cell_type": "code",
   "execution_count": 49,
   "id": "10767e6c",
   "metadata": {},
   "outputs": [
    {
     "name": "stdout",
     "output_type": "stream",
     "text": [
      "5\n",
      "123454321"
     ]
    }
   ],
   "source": [
    "#17\n",
    "num=int(input())\n",
    "for i in range(1,num+1):\n",
    "    print(i,end=\"\")\n",
    "for j in range(num-1,0,-1):\n",
    "    print(j,end=\"\")\n",
    "    "
   ]
  },
  {
   "cell_type": "code",
   "execution_count": 53,
   "id": "80d1eef6",
   "metadata": {},
   "outputs": [
    {
     "name": "stdout",
     "output_type": "stream",
     "text": [
      "5\n",
      "    1\n",
      "   121\n",
      "  12321\n",
      " 1234321\n",
      "123454321\n"
     ]
    }
   ],
   "source": [
    "#18\n",
    "num=int(input())\n",
    "for i in range(1,num+1):\n",
    "    for j in range(num-i):\n",
    "        print(\" \",end=\"\")\n",
    "    for k in range(1,i+1):\n",
    "        print(k,end=\"\")\n",
    "    for l in range(i-1,0,-1):\n",
    "        print(l,end=\"\")\n",
    "    print()\n",
    "        "
   ]
  },
  {
   "cell_type": "code",
   "execution_count": 5,
   "id": "5258e4a0",
   "metadata": {},
   "outputs": [
    {
     "name": "stdout",
     "output_type": "stream",
     "text": [
      "5\n",
      "    5\n",
      "   45\n",
      "  345\n",
      " 2345\n",
      "12345\n"
     ]
    }
   ],
   "source": [
    "num=int(input())\n",
    "for i in range(1,num+1):\n",
    "    x=num-i\n",
    "    for j in range(num-i):\n",
    "        print(\" \",end=\"\")\n",
    "    for k in range(1,i+1):\n",
    "        print(x+1,end=\"\")\n",
    "        x=x+1\n",
    "    print() "
   ]
  },
  {
   "cell_type": "markdown",
   "id": "83006faf",
   "metadata": {},
   "source": [
    "### ASSIGNMNET 3"
   ]
  },
  {
   "cell_type": "code",
   "execution_count": 56,
   "id": "06f6ccfc",
   "metadata": {},
   "outputs": [
    {
     "name": "stdout",
     "output_type": "stream",
     "text": [
      "hello\n",
      "h\n",
      "he\n",
      "hel\n",
      "hell\n",
      "hello\n"
     ]
    }
   ],
   "source": [
    "#1\n",
    "n=input()\n",
    "for i in range(1,len(n)+1):\n",
    "    print(n[:i])"
   ]
  },
  {
   "cell_type": "code",
   "execution_count": 69,
   "id": "44a1ee80",
   "metadata": {},
   "outputs": [
    {
     "name": "stdout",
     "output_type": "stream",
     "text": [
      "hello\n",
      "helloer\n"
     ]
    }
   ],
   "source": [
    "#2\n",
    "wor=input()\n",
    "if len(wor)<4:\n",
    "    new=wor\n",
    "else:\n",
    "    if wor.endswith(\"er\")==True:\n",
    "        new=wor.replace(\"er\",\"est\")\n",
    "    elif wor.endswith(\"est\")==True:\n",
    "        new=wor\n",
    "    else:\n",
    "        new=wor+\"er\"\n",
    "print(new)        "
   ]
  },
  {
   "cell_type": "code",
   "execution_count": 70,
   "id": "157892db",
   "metadata": {},
   "outputs": [
    {
     "name": "stdout",
     "output_type": "stream",
     "text": [
      "Programming\n",
      "P : 80\n",
      "r : 114\n",
      "o : 111\n",
      "g : 103\n",
      "r : 114\n",
      "a : 97\n",
      "m : 109\n",
      "m : 109\n",
      "i : 105\n",
      "n : 110\n",
      "g : 103\n"
     ]
    }
   ],
   "source": [
    "word=input()\n",
    "for i in word:\n",
    "    x=ord(i)\n",
    "    print(i,\":\",x)"
   ]
  },
  {
   "cell_type": "code",
   "execution_count": 72,
   "id": "3cdd2a4c",
   "metadata": {},
   "outputs": [
    {
     "name": "stdout",
     "output_type": "stream",
     "text": [
      "xyzabc\n",
      "yzabcd"
     ]
    }
   ],
   "source": [
    "word=input()\n",
    "for i in word:\n",
    "    x=ord(i)\n",
    "    if x==122:\n",
    "        y=chr(97)\n",
    "        print(y,end=\"\")\n",
    "    else:\n",
    "        x=x+1\n",
    "        y=chr(x)\n",
    "        print(y,end=\"\")"
   ]
  },
  {
   "cell_type": "code",
   "execution_count": 81,
   "id": "a458a32f",
   "metadata": {},
   "outputs": [
    {
     "name": "stdout",
     "output_type": "stream",
     "text": [
      "ABCDEF\n",
      "abcd\n",
      "AaBbCcDdEF\n"
     ]
    }
   ],
   "source": [
    "#5\n",
    "word1=input()\n",
    "word2=input()\n",
    "new=''\n",
    "if len(word1)>len(word2):\n",
    "    for i in range(len(word2)):\n",
    "        new=new+word1[i]+word2[i]\n",
    "    dif=len(word1)-len(word2)\n",
    "    new=new+word1[-dif:]\n",
    "else:  \n",
    "    for j in range(len(word1)):\n",
    "        new=new+word1[j]+word2[j]\n",
    "    dif=len(word2)-len(word1)\n",
    "    new=new+word2[-dif:]\n",
    "print(new)    "
   ]
  },
  {
   "cell_type": "code",
   "execution_count": 83,
   "id": "464d263a",
   "metadata": {},
   "outputs": [
    {
     "name": "stdout",
     "output_type": "stream",
     "text": [
      "aetrrryhfa\n",
      "aetryhf\n"
     ]
    }
   ],
   "source": [
    "#6\n",
    "word=input()\n",
    "new=\"\"\n",
    "for i in word:\n",
    "    if i not in new:\n",
    "        new=new+i\n",
    "print(new)        "
   ]
  },
  {
   "cell_type": "code",
   "execution_count": 96,
   "id": "0312293a",
   "metadata": {},
   "outputs": [
    {
     "name": "stdout",
     "output_type": "stream",
     "text": [
      "1234567\n",
      "3\n",
      "4321567\n"
     ]
    }
   ],
   "source": [
    "word=input()\n",
    "num=int(input())\n",
    "new=''\n",
    "for i in range(len(word)):\n",
    "    new=word[-(len(word)-num)::-1]\n",
    "new=new+word[num+1:]    \n",
    "print(new)    "
   ]
  },
  {
   "cell_type": "code",
   "execution_count": 105,
   "id": "84a36147",
   "metadata": {},
   "outputs": [
    {
     "name": "stdout",
     "output_type": "stream",
     "text": [
      "hell0.i.did.well\n",
      ".\n",
      "hell0\n",
      "i\n",
      "did\n",
      "well\n"
     ]
    }
   ],
   "source": [
    "word=input()\n",
    "split=input()\n",
    "c=word.count(split)\n",
    "for i in range(c+1):\n",
    "    x=word.find(split)\n",
    "    new=word[:x]\n",
    "    word=word[x+1:]\n",
    "    if x<=0:\n",
    "        print(word)\n",
    "    else:    \n",
    "        print(new)\n",
    "        "
   ]
  },
  {
   "cell_type": "code",
   "execution_count": 109,
   "id": "7929e086",
   "metadata": {},
   "outputs": [
    {
     "name": "stdout",
     "output_type": "stream",
     "text": [
      "string\n",
      "TIG\n"
     ]
    }
   ],
   "source": [
    "word=input()\n",
    "new=''\n",
    "for i in range(0,len(word)):\n",
    "    if i%2!=0:\n",
    "        new=new+word[i]\n",
    "done=new.upper()\n",
    "print(done)"
   ]
  },
  {
   "cell_type": "code",
   "execution_count": 111,
   "id": "6d46e0a5",
   "metadata": {},
   "outputs": [
    {
     "name": "stdout",
     "output_type": "stream",
     "text": [
      "tanjiro kamado\n",
      "a\n",
      "tnjiro kmdo\n"
     ]
    }
   ],
   "source": [
    "word=input()\n",
    "l=input()\n",
    "new=''\n",
    "for i in word:\n",
    "    if i!=l:\n",
    "        new=new+i\n",
    "print(new)        "
   ]
  },
  {
   "cell_type": "code",
   "execution_count": 37,
   "id": "46bb1da4",
   "metadata": {},
   "outputs": [
    {
     "name": "stdout",
     "output_type": "stream",
     "text": [
      "PyThOn pRoGrAmMiNg iS VeRy eAsY\n"
     ]
    }
   ],
   "source": [
    "x=\"Python programming is very easy\"\n",
    "lst=x.split()\n",
    "new=\"\"\n",
    "for i in range(len(x)):\n",
    "    if i%2==0:\n",
    "        y=x[i].upper()\n",
    "        new=new+y\n",
    "    else:\n",
    "        new=new+x[i]\n",
    "print(new)        \n",
    "    \n",
    " "
   ]
  },
  {
   "cell_type": "code",
   "execution_count": 6,
   "id": "8480c33d",
   "metadata": {},
   "outputs": [
    {
     "name": "stdout",
     "output_type": "stream",
     "text": [
      "studyy\n",
      "study\n",
      "not anagram\n"
     ]
    }
   ],
   "source": [
    "word1=input()\n",
    "word2=input()\n",
    "if len(word1)==len(word2):\n",
    "    for i in word1:\n",
    "        if i not in word2:\n",
    "            x=\"not anagram\"\n",
    "            break\n",
    "        else:\n",
    "            x=\"anagram\"\n",
    "else:\n",
    "    x=\"not anagram\"\n",
    "print(x)    "
   ]
  },
  {
   "cell_type": "code",
   "execution_count": 112,
   "id": "1900f03f",
   "metadata": {},
   "outputs": [
    {
     "name": "stdout",
     "output_type": "stream",
     "text": [
      "AAAABBBBAAAAAAACC\n",
      "AAAAAAA\n"
     ]
    }
   ],
   "source": [
    "word=input()\n",
    "l=len(word)\n",
    "new=\"\"\n",
    "length=0\n",
    "maxstr=\"\"\n",
    "for i in range(l):\n",
    "    if word[i] not in new or i==len(word)-1:\n",
    "        if i==len(word)-1:\n",
    "            new+=word[i]\n",
    "        if len(new)>length:\n",
    "            length=len(new)\n",
    "            maxstr=new\n",
    "        new=\"\"\n",
    "    new+=word[i]\n",
    "print(maxstr)    \n",
    "            "
   ]
  },
  {
   "cell_type": "markdown",
   "id": "20f74574",
   "metadata": {},
   "source": [
    "   ### ASSIGNMENT 4"
   ]
  },
  {
   "cell_type": "code",
   "execution_count": 8,
   "id": "48c735d6",
   "metadata": {},
   "outputs": [
    {
     "name": "stdout",
     "output_type": "stream",
     "text": [
      "1\n",
      "[1]\n",
      "2\n",
      "[1, 2]\n",
      "3\n",
      "[1, 2, 3]\n",
      "4\n",
      "[1, 2, 3, 4]\n",
      "5\n",
      "[1, 2, 3, 4, 5]\n",
      "6\n",
      "[1, 2, 3, 4, 5, 6]\n",
      "7\n",
      "[1, 2, 3, 4, 5, 6, 7]\n",
      "8\n",
      "[1, 2, 3, 4, 5, 6, 7, 8]\n",
      "9\n",
      "[1, 2, 3, 4, 5, 6, 7, 8, 9]\n",
      "10\n",
      "[1, 2, 3, 4, 5, 6, 7, 8, 9, 10]\n"
     ]
    }
   ],
   "source": [
    "lst=[]\n",
    "for i in range(10):\n",
    "    x=int(input())\n",
    "    lst.append(x)\n",
    "    print(lst)"
   ]
  },
  {
   "cell_type": "code",
   "execution_count": 10,
   "id": "827c5700",
   "metadata": {},
   "outputs": [
    {
     "name": "stdout",
     "output_type": "stream",
     "text": [
      "5\n",
      "1\n",
      "2\n",
      "3\n",
      "4\n",
      "5\n",
      "[3]\n"
     ]
    }
   ],
   "source": [
    "num=int(input())\n",
    "lst=[]\n",
    "for i in range(num):\n",
    "    x=int(input())\n",
    "    lst.append(x)\n",
    "print(lst[2:num-2])    "
   ]
  },
  {
   "cell_type": "code",
   "execution_count": 14,
   "id": "860187de",
   "metadata": {},
   "outputs": [
    {
     "name": "stdout",
     "output_type": "stream",
     "text": [
      "1 2 3 4 5\n",
      "[3]\n"
     ]
    }
   ],
   "source": [
    "new=[int(x) for x in input().split()]\n",
    "l=(len(new))\n",
    "if l<4:\n",
    "    print(\"not\")\n",
    "else:\n",
    "    print(new[2:len(new)-2])"
   ]
  },
  {
   "cell_type": "code",
   "execution_count": 17,
   "id": "1979dcc5",
   "metadata": {},
   "outputs": [
    {
     "name": "stdout",
     "output_type": "stream",
     "text": [
      "1\n",
      "2\n",
      "3\n",
      "4\n",
      "5\n",
      "5\n",
      "4\n",
      "3\n",
      "2\n",
      "1\n"
     ]
    }
   ],
   "source": [
    "lst=[]\n",
    "new=[]\n",
    "for i in range(5):\n",
    "    x=int(input())\n",
    "    lst.append(x)\n",
    "new=lst[::-1]\n",
    "for j in new:\n",
    "    print(j)\n",
    "    "
   ]
  },
  {
   "cell_type": "code",
   "execution_count": 18,
   "id": "5bfc77a7",
   "metadata": {},
   "outputs": [
    {
     "name": "stdout",
     "output_type": "stream",
     "text": [
      "1 2 3 4 5 6\n",
      "10 11 12 13 14 15\n",
      "[2, 4, 6, 10, 12, 14]\n"
     ]
    }
   ],
   "source": [
    "new1=[int(x) for x in input().split()]\n",
    "new2=[int(y) for y in input().split()]\n",
    "lst=[]\n",
    "for i in new1:\n",
    "    if i%2==0:\n",
    "        lst.append(i)\n",
    "for j in new2:\n",
    "    if j%2==0:\n",
    "        lst.append(j)\n",
    "print(lst)        "
   ]
  },
  {
   "cell_type": "code",
   "execution_count": 19,
   "id": "1bf1d164",
   "metadata": {},
   "outputs": [
    {
     "name": "stdout",
     "output_type": "stream",
     "text": [
      "0 1 1 3 4 2 2 3 5 6 7 7 8 1\n",
      "[0, 1, 3, 4, 2, 5, 6, 7, 8]\n"
     ]
    }
   ],
   "source": [
    "new1=[int(x) for x in input().split()]\n",
    "lst=[]\n",
    "for i in new1:\n",
    "    if i not in lst:\n",
    "        lst.append(i)\n",
    "print(lst)        "
   ]
  },
  {
   "cell_type": "code",
   "execution_count": 21,
   "id": "1562d8ec",
   "metadata": {},
   "outputs": [
    {
     "name": "stdout",
     "output_type": "stream",
     "text": [
      "8 9 2 3 4\n",
      "9 1\n"
     ]
    }
   ],
   "source": [
    "new1=[int(x) for x in input().split()]\n",
    "lst=[]\n",
    "large=0\n",
    "for i in new1:\n",
    "    if i>large:\n",
    "        large=i\n",
    "        idx=new1.index(i)\n",
    "print(large,idx)        "
   ]
  },
  {
   "cell_type": "code",
   "execution_count": 22,
   "id": "a9f29394",
   "metadata": {},
   "outputs": [
    {
     "name": "stdout",
     "output_type": "stream",
     "text": [
      "1 2 3 4 5 6 686 848\n",
      "2 5 9 8 1 29 919\n",
      "[1, 2, 3, 4, 5, 6, 686, 848, 9, 8, 29, 919]\n"
     ]
    }
   ],
   "source": [
    "new1=[int(x) for x in input().split()]\n",
    "new2=[int(y) for y in input().split()]\n",
    "lst=[]\n",
    "for i in new1:\n",
    "    if i not in lst:\n",
    "        lst.append(i)\n",
    "for j in new2:\n",
    "    if j not in lst:\n",
    "        lst.append(j)\n",
    "print(lst)        "
   ]
  },
  {
   "cell_type": "code",
   "execution_count": 24,
   "id": "ac685878",
   "metadata": {},
   "outputs": [
    {
     "name": "stdout",
     "output_type": "stream",
     "text": [
      "1 2 3 4 5\n",
      "6 7 8 9\n",
      "false\n"
     ]
    }
   ],
   "source": [
    "new1=[int(x) for x in input().split()]\n",
    "new2=[int(y) for y in input().split()]\n",
    "lst=[]\n",
    "for i in new1:\n",
    "    if i not in new2:\n",
    "        x=\"false\"\n",
    "    else:\n",
    "        x=\"true\"\n",
    "        break\n",
    "print(x)        "
   ]
  },
  {
   "cell_type": "code",
   "execution_count": 28,
   "id": "baecb38c",
   "metadata": {},
   "outputs": [
    {
     "name": "stdout",
     "output_type": "stream",
     "text": [
      "1,,hello,there,,what,,6\n",
      "['1', '', 'hello', 'there', '', 'what', '', '6']\n",
      "['1', 'hello', 'there', 'what', '6']\n"
     ]
    }
   ],
   "source": [
    "new=input().split(\",\")\n",
    "x=[]\n",
    "for i in new:\n",
    "    if i!=\"\":\n",
    "        x.append(i)\n",
    "print(new)        \n",
    "print(x)        "
   ]
  },
  {
   "cell_type": "code",
   "execution_count": 31,
   "id": "3d4d7af0",
   "metadata": {},
   "outputs": [
    {
     "name": "stdout",
     "output_type": "stream",
     "text": [
      "1 2 3 4 5\n",
      "5 6 7 8 9\n",
      "[1, 2, 3, 4, 5, 6, 7, 8, 9]\n"
     ]
    }
   ],
   "source": [
    "new1=[int(x) for x in input().split()]\n",
    "new2=[int(y) for y in input().split()]\n",
    "lst=[]\n",
    "lst=new1[:len(new1)-1]\n",
    "lst=lst+new2\n",
    "print(lst)"
   ]
  },
  {
   "cell_type": "code",
   "execution_count": 35,
   "id": "12c6cc2f",
   "metadata": {},
   "outputs": [
    {
     "name": "stdout",
     "output_type": "stream",
     "text": [
      "1 2 3 4 5 6 7\n",
      "7 6 1 0\n",
      "6 5\n"
     ]
    }
   ],
   "source": [
    "new1=[int(x) for x in input().split()]\n",
    "large=0\n",
    "small=1000\n",
    "med=0\n",
    "for i in new1:\n",
    "    if i>large:\n",
    "        large=i\n",
    "        idx1=new1.index(i)\n",
    "    if i<small:\n",
    "        small=i\n",
    "        idx2=new1.index(i)\n",
    "print(large,idx1,small,idx2)\n",
    "new1.pop(idx1)\n",
    "\n",
    "for j in new1:\n",
    "    if j>med:\n",
    "        med=j\n",
    "        idx3=new1.index(j)\n",
    "print(med,idx3)        "
   ]
  },
  {
   "cell_type": "markdown",
   "id": "649062ae",
   "metadata": {},
   "source": [
    "### PRACTICE SHEET"
   ]
  },
  {
   "cell_type": "code",
   "execution_count": 26,
   "id": "b66c7bf8",
   "metadata": {},
   "outputs": [
    {
     "name": "stdout",
     "output_type": "stream",
     "text": [
      "7\n",
      "5\n",
      "10\n",
      "53.88877434122991\n"
     ]
    }
   ],
   "source": [
    "#1\n",
    "x=int(input())\n",
    "y=int(input())\n",
    "z=int(input())\n",
    "s=(x+y+z)/2\n",
    "ar=(s-x)*(s-y)*(s-z)\n",
    "are=pow(ar,1/2)\n",
    "area=s*are\n",
    "print(area)"
   ]
  },
  {
   "cell_type": "code",
   "execution_count": 27,
   "id": "9859cc3e",
   "metadata": {},
   "outputs": [
    {
     "name": "stdout",
     "output_type": "stream",
     "text": [
      "7\n",
      "5\n",
      "10\n",
      "10\n"
     ]
    }
   ],
   "source": [
    "#2\n",
    "large=0\n",
    "for i in range(3):\n",
    "    x=int(input())\n",
    "    if x>large:\n",
    "        large=x\n",
    "print(large)        "
   ]
  },
  {
   "cell_type": "code",
   "execution_count": 29,
   "id": "a0d87d45",
   "metadata": {},
   "outputs": [
    {
     "name": "stdout",
     "output_type": "stream",
     "text": [
      "2\n",
      "2\n",
      "4\n",
      "invalid\n"
     ]
    }
   ],
   "source": [
    "#3\n",
    "x=int(input())\n",
    "y=int(input())\n",
    "z=int(input())\n",
    "if x+y>z and y+z>x and z+x>y:\n",
    "    ans=\"valid\"\n",
    "else:\n",
    "    ans=\"invalid\"\n",
    "print(ans)    \n",
    "    "
   ]
  },
  {
   "cell_type": "code",
   "execution_count": 45,
   "id": "40d732cd",
   "metadata": {},
   "outputs": [
    {
     "name": "stdout",
     "output_type": "stream",
     "text": [
      "2000\n",
      "leap\n"
     ]
    }
   ],
   "source": [
    "#4\n",
    "year=int(input())\n",
    "if year%4==0:\n",
    "    if year%100==0:\n",
    "        if year%400==0:\n",
    "            x=\"leap\"\n",
    "        else:\n",
    "            x=\"not\"\n",
    "    else:\n",
    "        x=\"leap\"\n",
    "else:\n",
    "    x=\"not\"\n",
    "print(x)    "
   ]
  },
  {
   "cell_type": "code",
   "execution_count": 51,
   "id": "ce50ce9c",
   "metadata": {},
   "outputs": [
    {
     "name": "stdout",
     "output_type": "stream",
     "text": [
      "1800\n",
      "not\n"
     ]
    }
   ],
   "source": [
    "year=int(input())\n",
    "if year%4==0 and year%400==0 or year%100!=0:\n",
    "    x=\"leap\"\n",
    "else:\n",
    "    x=\"not\"\n",
    "print(x)    "
   ]
  },
  {
   "cell_type": "code",
   "execution_count": 30,
   "id": "bf166d8c",
   "metadata": {},
   "outputs": [
    {
     "name": "stdout",
     "output_type": "stream",
     "text": [
      "8\n",
      "12345678\n"
     ]
    }
   ],
   "source": [
    "#5\n",
    "num=int(input())\n",
    "x=0\n",
    "j=1\n",
    "for i in range(num):\n",
    "    x=x+j\n",
    "    j=(j*10)+1\n",
    "print(x)    "
   ]
  },
  {
   "cell_type": "code",
   "execution_count": 6,
   "id": "6a190a03",
   "metadata": {
    "scrolled": true
   },
   "outputs": [
    {
     "name": "stdout",
     "output_type": "stream",
     "text": [
      "15\n",
      "15 X 1 = 15\n",
      "15 X 2 = 30\n",
      "15 X 3 = 45\n",
      "15 X 4 = 60\n",
      "15 X 5 = 75\n",
      "15 X 6 = 90\n",
      "15 X 7 = 105\n",
      "15 X 8 = 120\n",
      "15 X 9 = 135\n",
      "15 X 10 = 150\n"
     ]
    }
   ],
   "source": [
    "#6\n",
    "num=int(input())\n",
    "for i in range(1,11):\n",
    "    print(num,\"X\",i,\"=\",num*i)"
   ]
  },
  {
   "cell_type": "code",
   "execution_count": 5,
   "id": "d6f6a8aa",
   "metadata": {},
   "outputs": [
    {
     "name": "stdout",
     "output_type": "stream",
     "text": [
      "15 X 1 = 15\n",
      "15 X 2 = 30\n",
      "15 X 3 = 45\n",
      "15 X 4 = 60\n",
      "15 X 5 = 75\n",
      "15 X 6 = 90\n",
      "15 X 7 = 105\n",
      "15 X 8 = 120\n",
      "15 X 9 = 135\n",
      "15 X 10 = 150\n"
     ]
    }
   ],
   "source": [
    "num=15\n",
    "for i in range(1,11):\n",
    "    print(num,\"X\",i,\"=\",num*i)"
   ]
  },
  {
   "cell_type": "code",
   "execution_count": 60,
   "id": "957d1662",
   "metadata": {},
   "outputs": [
    {
     "name": "stdout",
     "output_type": "stream",
     "text": [
      "7\n",
      "*******\n",
      "     *\n",
      "    *\n",
      "   *\n",
      "  *\n",
      " *\n",
      "*******\n"
     ]
    }
   ],
   "source": [
    "#7\n",
    "x=int(input())\n",
    "for i in range(x):\n",
    "    if i==0 or i==x-1:\n",
    "        for j in range(x):\n",
    "            print(\"*\",end=\"\")\n",
    "        print()    \n",
    "    else:\n",
    "        for k in range(1,x-i):\n",
    "            print(\" \",end=\"\")\n",
    "        for l in range(1):\n",
    "            print(\"*\",end=\"\")\n",
    "        print()    "
   ]
  },
  {
   "cell_type": "code",
   "execution_count": 26,
   "id": "dd646a03",
   "metadata": {},
   "outputs": [
    {
     "name": "stdout",
     "output_type": "stream",
     "text": [
      "*******\n",
      "    *\n",
      "   *\n",
      "  *\n",
      " *\n",
      "*\n",
      "*******\n"
     ]
    }
   ],
   "source": [
    "h=7\n",
    "x=h\n",
    "s=h-2\n",
    "for row in range(1,h+1):\n",
    "    if row==1 or row==h:\n",
    "        for colum in range(1,h+1):\n",
    "            print(\"*\",end=\"\")\n",
    "    else:\n",
    "        for colum in range(1,s):\n",
    "            print(\" \",end=\"\")\n",
    "        s-=1\n",
    "        for colum in range(1):\n",
    "            print(\"*\",end=\"\")\n",
    "        x-=1    \n",
    "    print()\n",
    "    "
   ]
  },
  {
   "cell_type": "code",
   "execution_count": 62,
   "id": "d650b6e0",
   "metadata": {},
   "outputs": [
    {
     "name": "stdout",
     "output_type": "stream",
     "text": [
      "1\n",
      "2\n",
      "3\n",
      "4\n",
      "5\n",
      "stop\n",
      "3.0 120\n"
     ]
    }
   ],
   "source": [
    "#8\n",
    "su=0\n",
    "count=0\n",
    "pro=1\n",
    "while y!=\"stop\":\n",
    "    y=input()\n",
    "    if y!=\"stop\":\n",
    "        x=int(y)\n",
    "        count=count+1\n",
    "        su=su+x\n",
    "        pro=pro*x\n",
    "avg=su/count \n",
    "print(avg,pro)"
   ]
  },
  {
   "cell_type": "code",
   "execution_count": 68,
   "id": "8482a361",
   "metadata": {},
   "outputs": [
    {
     "name": "stdout",
     "output_type": "stream",
     "text": [
      "welcome to Geeksforgeeks.com\n",
      "25 0 3\n"
     ]
    }
   ],
   "source": [
    "#9\n",
    "word=input()\n",
    "alph=0\n",
    "digit=0\n",
    "special=0\n",
    "for i in range(len(word)):\n",
    "    if(\"a\"<=word[i]<=\"z\" or 'A'<=word[i]<='Z'):\n",
    "        alph=alph+1\n",
    "    elif(\"1\"<=word[i]<=\"9\"):\n",
    "        digit=digit+1\n",
    "    else:\n",
    "        special=special+1\n",
    "print(alph,digit,special)        \n",
    "        "
   ]
  },
  {
   "cell_type": "code",
   "execution_count": 72,
   "id": "401eeabb",
   "metadata": {},
   "outputs": [
    {
     "name": "stdout",
     "output_type": "stream",
     "text": [
      "It is a string with the smallest and largest word\n",
      "smallest a\n"
     ]
    }
   ],
   "source": [
    "#10\n",
    "word=input()\n",
    "new=word.split()\n",
    "length=0\n",
    "small=100\n",
    "for i in new:\n",
    "    if len(i)>length:\n",
    "        length=len(i)\n",
    "        wor=i\n",
    "    if len(i)<small:\n",
    "        small=len(i)\n",
    "        word=i\n",
    "print(wor,word)        "
   ]
  },
  {
   "cell_type": "code",
   "execution_count": 75,
   "id": "bc41050f",
   "metadata": {},
   "outputs": [
    {
     "name": "stdout",
     "output_type": "stream",
     "text": [
      "india is great\n",
      "in\n",
      "da s great\n"
     ]
    }
   ],
   "source": [
    "#11\n",
    "word=input()\n",
    "remove=input()\n",
    "new=\"\"\n",
    "for i in word:\n",
    "    for j in i:\n",
    "        if j not in remove:\n",
    "            new=new+j\n",
    "print(new)            "
   ]
  },
  {
   "cell_type": "code",
   "execution_count": 14,
   "id": "d3296e0f",
   "metadata": {},
   "outputs": [
    {
     "name": "stdout",
     "output_type": "stream",
     "text": [
      "nda  great\n"
     ]
    }
   ],
   "source": [
    "w1=\"India is great\"\n",
    "w2=\"is\"\n",
    "new=''\n",
    "w3=w2.upper()\n",
    "for i in w1:\n",
    "    if i not in w2:\n",
    "        if (i not in w3):\n",
    "            new+=i\n",
    "print(new)        "
   ]
  },
  {
   "cell_type": "code",
   "execution_count": 15,
   "id": "239653f3",
   "metadata": {},
   "outputs": [
    {
     "name": "stdout",
     "output_type": "stream",
     "text": [
      "hello there\n",
      "Hello There \n"
     ]
    }
   ],
   "source": [
    "#12\n",
    "word=input()\n",
    "new=word.split()\n",
    "ne=\"\"\n",
    "for i in new:\n",
    "    x=i[1:]\n",
    "    y=i[0]\n",
    "    n=ord(y)-32\n",
    "    p=chr(n)\n",
    "    ne=ne+p+x+\" \"\n",
    "print(ne)    "
   ]
  },
  {
   "cell_type": "code",
   "execution_count": 16,
   "id": "12b19d53",
   "metadata": {},
   "outputs": [
    {
     "name": "stdout",
     "output_type": "stream",
     "text": [
      "1,2,3,4,5\n",
      "120\n"
     ]
    }
   ],
   "source": [
    "#13\n",
    "num=[int(x) for x in input().split(\",\")]\n",
    "pro=1\n",
    "for i in num:\n",
    "    pro=pro*i\n",
    "print(pro)    "
   ]
  },
  {
   "cell_type": "code",
   "execution_count": 16,
   "id": "384a6f87",
   "metadata": {
    "scrolled": true
   },
   "outputs": [
    {
     "name": "stdout",
     "output_type": "stream",
     "text": [
      "10 20 30 40 50\n",
      "100 200 300 400 500\n",
      "10 100\n",
      "20 200\n",
      "30 300\n",
      "40 400\n",
      "50 500\n"
     ]
    }
   ],
   "source": [
    "#14\n",
    "list1=input().split()\n",
    "list2=input().split()\n",
    "x=len(list1)\n",
    "y=len(list2)\n",
    "for i in range(x):\n",
    "    print(list1[i],list2[i])"
   ]
  },
  {
   "cell_type": "code",
   "execution_count": 17,
   "id": "7741cce2",
   "metadata": {},
   "outputs": [
    {
     "name": "stdout",
     "output_type": "stream",
     "text": [
      "red,blue,green\n",
      "['der', 'eulb', 'neerg']\n"
     ]
    }
   ],
   "source": [
    "#15\n",
    "lst=input().split(\",\")\n",
    "new=[]\n",
    "for i in lst:\n",
    "    x=i[::-1]\n",
    "    new.append(x)\n",
    "print(new)    "
   ]
  },
  {
   "cell_type": "code",
   "execution_count": 20,
   "id": "fd2b8db5",
   "metadata": {},
   "outputs": [
    {
     "name": "stdout",
     "output_type": "stream",
     "text": [
      "11 23 45 22 67 2\n",
      "22 11\n"
     ]
    }
   ],
   "source": [
    "#16\n",
    "lst=input().split()\n",
    "for i in lst:\n",
    "    x=int(i)\n",
    "    if x%2==0:\n",
    "        even=x\n",
    "        break\n",
    "for i in lst:\n",
    "    x=int(i)      \n",
    "    if x%2!=0:\n",
    "        odd=x\n",
    "        break\n",
    "print(even,odd)        "
   ]
  },
  {
   "cell_type": "code",
   "execution_count": 21,
   "id": "9e74b246",
   "metadata": {},
   "outputs": [
    {
     "ename": "KeyboardInterrupt",
     "evalue": "Interrupted by user",
     "output_type": "error",
     "traceback": [
      "\u001b[1;31m---------------------------------------------------------------------------\u001b[0m",
      "\u001b[1;31mKeyboardInterrupt\u001b[0m                         Traceback (most recent call last)",
      "\u001b[1;32m<ipython-input-21-752e2bb34e6e>\u001b[0m in \u001b[0;36m<module>\u001b[1;34m\u001b[0m\n\u001b[0;32m      1\u001b[0m \u001b[1;31m#17\u001b[0m\u001b[1;33m\u001b[0m\u001b[1;33m\u001b[0m\u001b[1;33m\u001b[0m\u001b[0m\n\u001b[1;32m----> 2\u001b[1;33m \u001b[0mlst\u001b[0m\u001b[1;33m=\u001b[0m\u001b[0minput\u001b[0m\u001b[1;33m(\u001b[0m\u001b[1;33m)\u001b[0m\u001b[1;33m.\u001b[0m\u001b[0msplit\u001b[0m\u001b[1;33m(\u001b[0m\u001b[1;33m)\u001b[0m\u001b[1;33m\u001b[0m\u001b[1;33m\u001b[0m\u001b[0m\n\u001b[0m\u001b[0;32m      3\u001b[0m \u001b[0mnum\u001b[0m\u001b[1;33m=\u001b[0m\u001b[0mint\u001b[0m\u001b[1;33m(\u001b[0m\u001b[0minput\u001b[0m\u001b[1;33m(\u001b[0m\u001b[1;33m)\u001b[0m\u001b[1;33m)\u001b[0m\u001b[1;33m\u001b[0m\u001b[1;33m\u001b[0m\u001b[0m\n\u001b[0;32m      4\u001b[0m \u001b[0mmew\u001b[0m\u001b[1;33m=\u001b[0m\u001b[1;33m[\u001b[0m\u001b[1;33m]\u001b[0m\u001b[1;33m\u001b[0m\u001b[1;33m\u001b[0m\u001b[0m\n\u001b[0;32m      5\u001b[0m \u001b[1;32mfor\u001b[0m \u001b[0mi\u001b[0m \u001b[1;32min\u001b[0m \u001b[0mrange\u001b[0m\u001b[1;33m(\u001b[0m\u001b[1;36m1\u001b[0m\u001b[1;33m,\u001b[0m\u001b[0mnum\u001b[0m\u001b[1;33m+\u001b[0m\u001b[1;36m1\u001b[0m\u001b[1;33m)\u001b[0m\u001b[1;33m:\u001b[0m\u001b[1;33m\u001b[0m\u001b[1;33m\u001b[0m\u001b[0m\n",
      "\u001b[1;32mC:\\ProgramData\\Anaconda3\\lib\\site-packages\\ipykernel\\kernelbase.py\u001b[0m in \u001b[0;36mraw_input\u001b[1;34m(self, prompt)\u001b[0m\n\u001b[0;32m    858\u001b[0m                 \u001b[1;34m\"raw_input was called, but this frontend does not support input requests.\"\u001b[0m\u001b[1;33m\u001b[0m\u001b[1;33m\u001b[0m\u001b[0m\n\u001b[0;32m    859\u001b[0m             )\n\u001b[1;32m--> 860\u001b[1;33m         return self._input_request(str(prompt),\n\u001b[0m\u001b[0;32m    861\u001b[0m             \u001b[0mself\u001b[0m\u001b[1;33m.\u001b[0m\u001b[0m_parent_ident\u001b[0m\u001b[1;33m,\u001b[0m\u001b[1;33m\u001b[0m\u001b[1;33m\u001b[0m\u001b[0m\n\u001b[0;32m    862\u001b[0m             \u001b[0mself\u001b[0m\u001b[1;33m.\u001b[0m\u001b[0m_parent_header\u001b[0m\u001b[1;33m,\u001b[0m\u001b[1;33m\u001b[0m\u001b[1;33m\u001b[0m\u001b[0m\n",
      "\u001b[1;32mC:\\ProgramData\\Anaconda3\\lib\\site-packages\\ipykernel\\kernelbase.py\u001b[0m in \u001b[0;36m_input_request\u001b[1;34m(self, prompt, ident, parent, password)\u001b[0m\n\u001b[0;32m    902\u001b[0m             \u001b[1;32mexcept\u001b[0m \u001b[0mKeyboardInterrupt\u001b[0m\u001b[1;33m:\u001b[0m\u001b[1;33m\u001b[0m\u001b[1;33m\u001b[0m\u001b[0m\n\u001b[0;32m    903\u001b[0m                 \u001b[1;31m# re-raise KeyboardInterrupt, to truncate traceback\u001b[0m\u001b[1;33m\u001b[0m\u001b[1;33m\u001b[0m\u001b[1;33m\u001b[0m\u001b[0m\n\u001b[1;32m--> 904\u001b[1;33m                 \u001b[1;32mraise\u001b[0m \u001b[0mKeyboardInterrupt\u001b[0m\u001b[1;33m(\u001b[0m\u001b[1;34m\"Interrupted by user\"\u001b[0m\u001b[1;33m)\u001b[0m \u001b[1;32mfrom\u001b[0m \u001b[1;32mNone\u001b[0m\u001b[1;33m\u001b[0m\u001b[1;33m\u001b[0m\u001b[0m\n\u001b[0m\u001b[0;32m    905\u001b[0m             \u001b[1;32mexcept\u001b[0m \u001b[0mException\u001b[0m \u001b[1;32mas\u001b[0m \u001b[0me\u001b[0m\u001b[1;33m:\u001b[0m\u001b[1;33m\u001b[0m\u001b[1;33m\u001b[0m\u001b[0m\n\u001b[0;32m    906\u001b[0m                 \u001b[0mself\u001b[0m\u001b[1;33m.\u001b[0m\u001b[0mlog\u001b[0m\u001b[1;33m.\u001b[0m\u001b[0mwarning\u001b[0m\u001b[1;33m(\u001b[0m\u001b[1;34m\"Invalid Message:\"\u001b[0m\u001b[1;33m,\u001b[0m \u001b[0mexc_info\u001b[0m\u001b[1;33m=\u001b[0m\u001b[1;32mTrue\u001b[0m\u001b[1;33m)\u001b[0m\u001b[1;33m\u001b[0m\u001b[1;33m\u001b[0m\u001b[0m\n",
      "\u001b[1;31mKeyboardInterrupt\u001b[0m: Interrupted by user"
     ]
    }
   ],
   "source": [
    "#17\n",
    "lst=input().split()\n",
    "num=int(input())\n",
    "mew=[]\n",
    "for i in range(1,num+1):\n",
    "    for j in lst:\n",
    "        x=j+str(i)\n",
    "        mew.append(x)\n",
    "print(mew)        "
   ]
  },
  {
   "cell_type": "code",
   "execution_count": 1,
   "id": "4553e4b1",
   "metadata": {},
   "outputs": [
    {
     "name": "stdout",
     "output_type": "stream",
     "text": [
      "cse programming is aaawesome\n",
      "CsE pRoGrAmMiNg Is AaAwEsOmE\n"
     ]
    }
   ],
   "source": [
    "#uppercase lowercase\n",
    "word=input()\n",
    "result=\"\"\n",
    "upper=True\n",
    "for char in word:\n",
    "    if ord(\"A\")<=ord(char)<=ord(\"Z\") or ord(\"a\")<=ord(char)<=ord(\"z\"):\n",
    "        if upper==True:\n",
    "            result=result+ char.upper()\n",
    "            upper=False\n",
    "        elif upper==False:\n",
    "            result=result+char.lower()\n",
    "            upper=True\n",
    "    else:\n",
    "        result=result+char\n",
    "        continue\n",
    "print(result)        "
   ]
  },
  {
   "cell_type": "code",
   "execution_count": 3,
   "id": "6c3c8ffe",
   "metadata": {},
   "outputs": [
    {
     "name": "stdout",
     "output_type": "stream",
     "text": [
      "python programming is awesome\n",
      "PyThOn PrOgRaMmInG iS aWeSoMe\n"
     ]
    }
   ],
   "source": [
    "word=input()\n",
    "result=\"\"\n",
    "upper=True\n",
    "for char in word:\n",
    "    if ord(\"A\")<=ord(char)<=ord(\"Z\") or ord(\"a\")<=ord(char)<=ord(\"z\"):\n",
    "        if upper==True:\n",
    "            if ord(\"A\")<=ord(char)<=ord(\"Z\"):\n",
    "                result=result+char\n",
    "                upper=False\n",
    "            elif ord(\"a\")<=ord(char)<=ord(\"z\"):\n",
    "                result=result+ chr(ord(char)-32)\n",
    "                upper=False\n",
    "        elif upper==False:\n",
    "            if ord(\"a\")<=ord(char)<=ord(\"z\"):\n",
    "                result=result+ char\n",
    "            if ord(\"A\")<=ord(char)<=ord(\"Z\"):\n",
    "                result=result+chr(ord(char)+32)\n",
    "            upper=True\n",
    "    else:\n",
    "        result=result+char\n",
    "        continue\n",
    "print(result)        "
   ]
  },
  {
   "cell_type": "markdown",
   "id": "d463c6e5",
   "metadata": {},
   "source": [
    "### Quiz"
   ]
  },
  {
   "cell_type": "code",
   "execution_count": 8,
   "id": "31efc040",
   "metadata": {},
   "outputs": [
    {
     "name": "stdout",
     "output_type": "stream",
     "text": [
      "8\n",
      "Knock!Knock!Knock!Penny!Knock!Knock!Knock!Penny!"
     ]
    }
   ],
   "source": [
    "sec=int(input())\n",
    "if sec%4==0:\n",
    "    rem=sec//4\n",
    "    for i in range(rem):\n",
    "        print(\"Knock!Knock!Knock!Penny!\",end=\"\")\n",
    "else:\n",
    "    x=sec%4\n",
    "    new=sec//4\n",
    "    for j in range(new):\n",
    "        print(\"Knock!Knock!Knock!Penny!\",end=\"\")\n",
    "    for k in range(x):\n",
    "        print(\"Knock!\",end=\"\")"
   ]
  },
  {
   "cell_type": "code",
   "execution_count": 20,
   "id": "7b8bd4ef",
   "metadata": {},
   "outputs": [
    {
     "name": "stdout",
     "output_type": "stream",
     "text": [
      "A,B,C,D,E,F,G,H,I,J,K\n",
      "3\n",
      "['K', 'B', 'C', 'H', 'E', 'F', 'G', 'D', 'I', 'J', 'A']\n"
     ]
    }
   ],
   "source": [
    "#2\n",
    "x=input().split(\",\")\n",
    "num=int(input())\n",
    "i=0\n",
    "half=(len(x))//2\n",
    "if half<num:\n",
    "    print(\"not possible\")\n",
    "else:\n",
    "    for i in range(0,len(x)//2,num):\n",
    "        x[i],x[-i-1]=x[-i-1],x[i]\n",
    "    print(x)"
   ]
  },
  {
   "cell_type": "code",
   "execution_count": 37,
   "id": "7844a9ad",
   "metadata": {},
   "outputs": [
    {
     "name": "stdout",
     "output_type": "stream",
     "text": [
      "123451234\n",
      "won\n"
     ]
    }
   ],
   "source": [
    "#3\n",
    "num=input()\n",
    "sum1=sum2=0\n",
    "if len(num)%2==0:\n",
    "    q=len(num)//2\n",
    "    x=num[:q]\n",
    "    y=num[q:]\n",
    "    for i in x:\n",
    "        o=int(i)\n",
    "        sum1=sum1+o\n",
    "    for j in y:\n",
    "        p=int(j)\n",
    "        sum2=sum2+p\n",
    "else:\n",
    "    q=len(num)//2\n",
    "    x=num[:q]\n",
    "    y=num[q+1:]\n",
    "    for i in x:\n",
    "        o=int(i)\n",
    "        sum1=sum1+o\n",
    "    for j in y:\n",
    "        p=int(j)\n",
    "        sum2=sum2+p\n",
    "if sum1==sum2:\n",
    "    print(\"won\")\n",
    "else:\n",
    "    print(\"lost\")\n",
    "    "
   ]
  },
  {
   "cell_type": "code",
   "execution_count": 21,
   "id": "4119b23e",
   "metadata": {},
   "outputs": [
    {
     "name": "stdout",
     "output_type": "stream",
     "text": [
      "112\n",
      "blissful\n"
     ]
    }
   ],
   "source": [
    "#4\n",
    "num=int(input())\n",
    "count=0\n",
    "num3=num\n",
    "while num3>0:\n",
    "    num3=num3//10\n",
    "    count=count+1 \n",
    "if count==1:\n",
    "    po=\"normal\"\n",
    "else:\n",
    "    while num>0:\n",
    "        num1=num%10\n",
    "        num=num//10\n",
    "        num2=num%10\n",
    "        if num1>num2:\n",
    "            po=\"blissful\"\n",
    "    \n",
    "        elif num1<num2:\n",
    "            po=\"not\"\n",
    "            break \n",
    "        elif count==2 and num1==num2:\n",
    "            po=\"normal\"\n",
    "            break\n",
    "print(po)    "
   ]
  },
  {
   "cell_type": "code",
   "execution_count": 32,
   "id": "0322f00a",
   "metadata": {},
   "outputs": [
    {
     "name": "stdout",
     "output_type": "stream",
     "text": [
      "7\n",
      "-9\n"
     ]
    }
   ],
   "source": [
    "#5\n",
    "num=int(input())\n",
    "x=3\n",
    "sum1=0\n",
    "for i in range(num):\n",
    "    if i%2==0:\n",
    "        y=-x\n",
    "    else:\n",
    "        y=x\n",
    "    x=x+2\n",
    "    sum1=sum1+y    \n",
    "print(sum1)    "
   ]
  },
  {
   "cell_type": "code",
   "execution_count": 34,
   "id": "8f5ae88b",
   "metadata": {},
   "outputs": [
    {
     "name": "stdout",
     "output_type": "stream",
     "text": [
      "2\n",
      "51\n",
      "ciao\n",
      "551\n",
      "hello\n"
     ]
    }
   ],
   "source": [
    "#6\n",
    "num=int(input())\n",
    "for i in range(num):\n",
    "    ids=int(input())\n",
    "    sum1=0\n",
    "    while ids>0:\n",
    "        new=ids%10\n",
    "        ids=ids//10\n",
    "        sum1=sum1+new\n",
    "        \n",
    "    if 5<=sum1<=10:\n",
    "        print(\"ciao\")\n",
    "    elif 11<=sum1<=15:\n",
    "        print(\"hello\")\n",
    "    elif 20<=sum1<=25:\n",
    "        print(\"hola\")\n",
    "    elif 30<=sum1<=35:\n",
    "        print(\"salut\")\n",
    "    else:\n",
    "        print(\"byebye\")"
   ]
  },
  {
   "cell_type": "code",
   "execution_count": 39,
   "id": "37ae4666",
   "metadata": {},
   "outputs": [
    {
     "name": "stdout",
     "output_type": "stream",
     "text": [
      "uye7473b923b2b19\n",
      "['1', '2', '2', '3', '3', '4', '7', '7', '9', '9'] 47\n"
     ]
    }
   ],
   "source": [
    "#8\n",
    "word=input()\n",
    "lst=[]\n",
    "sum1=0\n",
    "countnum=0\n",
    "countalpha=0\n",
    "for i in word:\n",
    "    if \"0\"<=i<=\"9\" or \"a\"<=i<='z' or \"A\"<=i<=\"Z\":\n",
    "        \n",
    "        if \"0\"<=i<=\"9\":\n",
    "            lst.append(i)\n",
    "            countnum=countnum+1\n",
    "        if \"a\"<=i<='z' or \"A\"<=i<=\"Z\":\n",
    "            countalpha=countalpha+1\n",
    "if countnum==0:\n",
    "    print(\"no number\")\n",
    "elif countalpha==0:\n",
    "    print(\"no alpha\")\n",
    "elif countnum>0 and countalpha>0:    \n",
    "    lst.sort()\n",
    "    for i in lst:\n",
    "        x=int(i)\n",
    "        sum1=sum1+x\n",
    "    print(lst,sum1)    "
   ]
  },
  {
   "cell_type": "markdown",
   "id": "c32a07b5",
   "metadata": {},
   "source": [
    "### list sort without using sort"
   ]
  },
  {
   "cell_type": "code",
   "execution_count": 46,
   "id": "448a727d",
   "metadata": {},
   "outputs": [
    {
     "name": "stdout",
     "output_type": "stream",
     "text": [
      "[2, 4, 5, 6, 9]\n"
     ]
    }
   ],
   "source": [
    "new=[9,5,4,2,6]\n",
    "bleh=[]\n",
    "while new:\n",
    "    x=new[0]\n",
    "    for i in new:\n",
    "        if i<x:\n",
    "            x=i\n",
    "    bleh.append(x)\n",
    "    new.remove(x)\n",
    "print(bleh)    "
   ]
  },
  {
   "cell_type": "code",
   "execution_count": 48,
   "id": "ce0029ba",
   "metadata": {},
   "outputs": [
    {
     "name": "stdout",
     "output_type": "stream",
     "text": [
      "po97362\n",
      "['2', '3', '6', '7', '9'] 0\n"
     ]
    }
   ],
   "source": [
    "word=input()\n",
    "lst=[]\n",
    "sum1=0\n",
    "countnum=0\n",
    "countalpha=0\n",
    "bleh=[]\n",
    "for i in word:\n",
    "    if \"0\"<=i<=\"9\" or \"a\"<=i<='z' or \"A\"<=i<=\"Z\":\n",
    "        \n",
    "        if \"0\"<=i<=\"9\":\n",
    "            lst.append(i)\n",
    "            countnum=countnum+1\n",
    "        if \"a\"<=i<='z' or \"A\"<=i<=\"Z\":\n",
    "            countalpha=countalpha+1\n",
    "meh=lst            \n",
    "if countnum==0:\n",
    "    print(\"no number\")\n",
    "elif countalpha==0:\n",
    "    print(\"no alpha\")\n",
    "elif countnum>0 and countalpha>0:    \n",
    "    while meh:\n",
    "        o=meh[0]\n",
    "        for k in meh:\n",
    "            if k<o:\n",
    "                o=k\n",
    "        bleh.append(o)\n",
    "        meh.remove(o)\n",
    "    for i in lst:\n",
    "        x=int(i)\n",
    "        sum1=sum1+x\n",
    "    print(bleh,sum1)    "
   ]
  },
  {
   "cell_type": "code",
   "execution_count": 49,
   "id": "51979791",
   "metadata": {},
   "outputs": [
    {
     "name": "stdout",
     "output_type": "stream",
     "text": [
      "this is a quiz bad\n",
      "['this', 'is', 'a', 'quiz', 'bad']\n",
      "siht si a ziuq dab "
     ]
    }
   ],
   "source": [
    "#9\n",
    "word=input().split()\n",
    "new=[]\n",
    "print(word)\n",
    "for i in word:\n",
    "    x=i[::-1]\n",
    "    new.append(x)\n",
    "for j in new:\n",
    "    print(j,end=\" \")"
   ]
  },
  {
   "cell_type": "code",
   "execution_count": 3,
   "id": "d1f685dd",
   "metadata": {},
   "outputs": [
    {
     "name": "stdout",
     "output_type": "stream",
     "text": [
      "351\n",
      "356\n",
      "9\n",
      "45 90 "
     ]
    }
   ],
   "source": [
    "#10\n",
    "start=int(input())\n",
    "end=int(input())\n",
    "num=int(input())\n",
    "lst=[]\n",
    "pro=1\n",
    "for i in range(start,end+1):\n",
    "    x=str(i)\n",
    "    pro=1\n",
    "    for j in range(len(x)):\n",
    "        pro=pro*int(x[j])\n",
    "    if pro%num==0:\n",
    "        lst.append(pro)\n",
    "for k in lst:\n",
    "    print(k,end=\" \")"
   ]
  },
  {
   "cell_type": "code",
   "execution_count": 6,
   "id": "23aec124",
   "metadata": {},
   "outputs": [
    {
     "name": "stdout",
     "output_type": "stream",
     "text": [
      "The first course of CSE is CSE110\n",
      "['first', 'is']\n"
     ]
    }
   ],
   "source": [
    "#11\n",
    "word=input().split()\n",
    "lst=[]\n",
    "sum1=0\n",
    "for i in word:\n",
    "    sum1=0\n",
    "    for j in i:\n",
    "        x=ord(j)\n",
    "        sum1=sum1+x\n",
    "    if sum1%2==0:\n",
    "        lst.append(i)\n",
    "print(lst)        "
   ]
  },
  {
   "cell_type": "code",
   "execution_count": 7,
   "id": "ede891d4",
   "metadata": {},
   "outputs": [
    {
     "name": "stdout",
     "output_type": "stream",
     "text": [
      "5\n",
      "20\n",
      "-3\n",
      "105\n",
      "70\n",
      "100\n",
      "63.333333333333336 40.0\n"
     ]
    }
   ],
   "source": [
    "#12\n",
    "num=int(input())\n",
    "lst=[]\n",
    "sum1=count=invali=0\n",
    "for i in range(num):\n",
    "    x=int(input())\n",
    "    lst.append(x)\n",
    "for j in lst:\n",
    "    if 0<=j<=100:\n",
    "        sum1=sum1+j\n",
    "        count=count+1\n",
    "    else:\n",
    "        invali=invali+1\n",
    "average=sum1/count\n",
    "invalid=(invali/num)*100\n",
    "print(average,invalid)"
   ]
  },
  {
   "cell_type": "code",
   "execution_count": 15,
   "id": "abfdec0e",
   "metadata": {},
   "outputs": [
    {
     "name": "stdout",
     "output_type": "stream",
     "text": [
      "abcd\n",
      "1\n",
      "6\n",
      "invallid\n"
     ]
    }
   ],
   "source": [
    "#13\n",
    "string=input()\n",
    "start=int(input())\n",
    "end=int(input())\n",
    "\n",
    "if end>=len(string):\n",
    "    print('invallid')\n",
    "else:\n",
    "    new=string[start:end+1]\n",
    "    for i in new:\n",
    "        y=ord(i)+2\n",
    "        z=chr(y)\n",
    "        print(z,end=\"\")"
   ]
  },
  {
   "cell_type": "code",
   "execution_count": 21,
   "id": "5813482a",
   "metadata": {},
   "outputs": [
    {
     "name": "stdout",
     "output_type": "stream",
     "text": [
      "This is CSE110 2nd quiz\n",
      "5 ['i', 'e', 'u'] 10 ['t', 'h', 's', 'c', 'n', 'd', 'q', 'z']\n"
     ]
    }
   ],
   "source": [
    "#14\n",
    "word=input().split()\n",
    "vowel=consonant=0\n",
    "new=[]\n",
    "mew=[]\n",
    "for i in word:\n",
    "    for j in i:\n",
    "        j=j.lower()\n",
    "        if ord(\"A\")<=ord(j)<=ord(\"Z\") or ord(\"a\")<=ord(j)<=ord(\"z\"):\n",
    "            if j==\"a\" or j==\"e\" or j==\"i\" or j==\"o\" or j==\"u\":\n",
    "                vowel=vowel+1\n",
    "                if j not in new:\n",
    "                    new.append(j)\n",
    "            else:\n",
    "                consonant=consonant+1\n",
    "                if j not in mew:\n",
    "                    mew.append(j)\n",
    "print(vowel,new,consonant,mew)                   "
   ]
  },
  {
   "cell_type": "code",
   "execution_count": 24,
   "id": "9f34db8b",
   "metadata": {},
   "outputs": [
    {
     "name": "stdout",
     "output_type": "stream",
     "text": [
      "grow\n",
      "ggow\n"
     ]
    }
   ],
   "source": [
    "#15\n",
    "word=input() #python=1yytoo\n",
    "new=\"\"\n",
    "for i in range(len(word)):\n",
    "    if ord(word[i])%2==0:\n",
    "        if i==0:\n",
    "            new=new+\"1\"\n",
    "        else:\n",
    "            new=new+word[i-1]\n",
    "    else:\n",
    "        new=new+word[i]\n",
    "print(new)        "
   ]
  },
  {
   "cell_type": "code",
   "execution_count": 30,
   "id": "74869e54",
   "metadata": {},
   "outputs": [
    {
     "name": "stdout",
     "output_type": "stream",
     "text": [
      "50\n",
      "60\n",
      "51 ends with 1 and divisible by 3\n",
      "57 ends with 7 and divisible by 3\n"
     ]
    }
   ],
   "source": [
    "star=int(input())\n",
    "end=int(input())\n",
    "for i in range(star,end+1):\n",
    "    if 1<=i<=9:\n",
    "        new=i\n",
    "    else:    \n",
    "        new=i%10\n",
    "    if new==1 and i%3==0:\n",
    "        print(i,\"ends with 1 and divisible by 3\")\n",
    "    elif new==2 and i%3==0:    \n",
    "        print(i,\"ends with 2 and divisible by 3\")\n",
    "    elif new==7 and i%3==0:\n",
    "        print(i,\"ends with 7 and divisible by 3\")   "
   ]
  },
  {
   "cell_type": "markdown",
   "id": "af85d44e",
   "metadata": {},
   "source": [
    "### Random"
   ]
  },
  {
   "cell_type": "code",
   "execution_count": 7,
   "id": "20f2b8ce",
   "metadata": {},
   "outputs": [
    {
     "name": "stdout",
     "output_type": "stream",
     "text": [
      "18,-27,36,-45,54,-63"
     ]
    }
   ],
   "source": [
    "n=18\n",
    "for i in range(6):\n",
    "    if i%2==0:\n",
    "        print(n,end=\",\")\n",
    "    else:\n",
    "        if i==5:\n",
    "            print(-n,end=\"\")\n",
    "        else:\n",
    "            print(-n,end=\",\")\n",
    "    n=n+9    "
   ]
  },
  {
   "cell_type": "code",
   "execution_count": 8,
   "id": "a56344a6",
   "metadata": {},
   "outputs": [
    {
     "name": "stdout",
     "output_type": "stream",
     "text": [
      "2835\n"
     ]
    }
   ],
   "source": [
    "sum1=0\n",
    "for i in range(63,600):\n",
    "    if i%7==0 and i%9==0:\n",
    "        sum1=sum1+i\n",
    "print(sum1)        "
   ]
  },
  {
   "cell_type": "code",
   "execution_count": 13,
   "id": "0a0e168a",
   "metadata": {},
   "outputs": [
    {
     "name": "stdout",
     "output_type": "stream",
     "text": [
      "20\n",
      "-210\n"
     ]
    }
   ],
   "source": [
    "num=int(input())\n",
    "sum1=0\n",
    "for i in range(1,num+1):\n",
    "    if i%2==0:\n",
    "        y=-i*i\n",
    "    else:\n",
    "        y=i*i    \n",
    "    sum1=sum1+y   \n",
    "print(sum1)    "
   ]
  },
  {
   "cell_type": "code",
   "execution_count": 14,
   "id": "f59ebd97",
   "metadata": {},
   "outputs": [
    {
     "name": "stdout",
     "output_type": "stream",
     "text": [
      "50\n",
      "196\n"
     ]
    }
   ],
   "source": [
    "num=int(input())\n",
    "sum1=0\n",
    "for i in range(num):\n",
    "    if i%7==0:\n",
    "        sum1=sum1+i\n",
    "print(sum1)        "
   ]
  },
  {
   "cell_type": "code",
   "execution_count": 15,
   "id": "b65da6df",
   "metadata": {},
   "outputs": [
    {
     "name": "stdout",
     "output_type": "stream",
     "text": [
      "10\n",
      "10\n",
      "2\n",
      "12\n",
      "4\n",
      "16\n",
      "5\n",
      "21\n",
      "3\n",
      "24\n"
     ]
    }
   ],
   "source": [
    "sm=0\n",
    "for i in range(5):\n",
    "    x=int(input())\n",
    "    sm=sm+x\n",
    "    print(sm)"
   ]
  },
  {
   "cell_type": "code",
   "execution_count": 23,
   "id": "dd386693",
   "metadata": {},
   "outputs": [
    {
     "name": "stdout",
     "output_type": "stream",
     "text": [
      "12345\n",
      "5,4,3,2,1\n",
      "5\n"
     ]
    }
   ],
   "source": [
    "num=int(input())\n",
    "count=0\n",
    "s=0\n",
    "while num>0:\n",
    "    new=num%10\n",
    "    num=num//10\n",
    "    count=count+1\n",
    "    if num!=0:\n",
    "        print(new,end=\",\")\n",
    "    else:\n",
    "        print(new)\n",
    "       \n",
    "print(count)     "
   ]
  },
  {
   "cell_type": "code",
   "execution_count": 25,
   "id": "f0d61bbe",
   "metadata": {},
   "outputs": [
    {
     "name": "stdout",
     "output_type": "stream",
     "text": [
      "12345\n",
      "1,2,3,4,5"
     ]
    }
   ],
   "source": [
    "num=int(input())\n",
    "count=0\n",
    "num1=num\n",
    "while num>0:\n",
    "    num=num//10\n",
    "    count=count+1\n",
    "x=pow(10,(count-1))\n",
    "while x>0:\n",
    "    new=num1//x\n",
    "    num1=num1%x\n",
    "    x=x//10\n",
    "    if x!=0:\n",
    "        print(new,end=\",\")\n",
    "    else:\n",
    "        print(new,end=\"\")"
   ]
  },
  {
   "cell_type": "code",
   "execution_count": 29,
   "id": "daaab019",
   "metadata": {},
   "outputs": [
    {
     "name": "stdout",
     "output_type": "stream",
     "text": [
      "6\n",
      "1,2,3,6\n",
      "4\n"
     ]
    }
   ],
   "source": [
    "num=int(input())\n",
    "div=0\n",
    "for i in range(1,num+1):\n",
    "    if num%i==0:\n",
    "        div=div+1\n",
    "        if i==num:\n",
    "            print(i)\n",
    "        else:\n",
    "            print(i,end=\",\")\n",
    "print(div)        "
   ]
  },
  {
   "cell_type": "code",
   "execution_count": 32,
   "id": "4794402d",
   "metadata": {},
   "outputs": [
    {
     "name": "stdout",
     "output_type": "stream",
     "text": [
      "33\n",
      "not\n"
     ]
    }
   ],
   "source": [
    "num=int(input())\n",
    "div=0\n",
    "sum1=0\n",
    "for i in range(1,num):\n",
    "    if num%i==0:\n",
    "        div=div+1\n",
    "        sum1=sum1+i\n",
    "if sum1==num:\n",
    "    print(\"perfect\")\n",
    "else:\n",
    "    print(\"not\")"
   ]
  },
  {
   "cell_type": "code",
   "execution_count": 35,
   "id": "6161b594",
   "metadata": {},
   "outputs": [
    {
     "name": "stdout",
     "output_type": "stream",
     "text": [
      "11\n",
      "prime\n"
     ]
    }
   ],
   "source": [
    "num=int(input())\n",
    "div=0\n",
    "for i in range(1,num+1):\n",
    "    if num%i==0:\n",
    "        div=div+1\n",
    "if div==2:\n",
    "    print(\"prime\")\n",
    "else:\n",
    "    print(\"not\")"
   ]
  },
  {
   "cell_type": "code",
   "execution_count": 37,
   "id": "ad1e6a64",
   "metadata": {},
   "outputs": [
    {
     "name": "stdout",
     "output_type": "stream",
     "text": [
      "5\n",
      "10\n",
      "4\n",
      "-1\n",
      "-100\n",
      "1\n",
      "10 -100 -17.2\n"
     ]
    }
   ],
   "source": [
    "num=int(input())\n",
    "large=0\n",
    "small=1000\n",
    "total=0\n",
    "for i in range(num):\n",
    "    x=int(input())\n",
    "    total=total+x\n",
    "    if x>large:\n",
    "        large=x\n",
    "    if x<small:\n",
    "        small=x\n",
    "average=total/num\n",
    "print(large,small,average)"
   ]
  },
  {
   "cell_type": "code",
   "execution_count": 38,
   "id": "1c695f48",
   "metadata": {},
   "outputs": [
    {
     "name": "stdout",
     "output_type": "stream",
     "text": [
      "5\n",
      "+++++\n",
      "+++++\n",
      "+++++\n",
      "+++++\n",
      "+++++\n"
     ]
    }
   ],
   "source": [
    "num=int(input())\n",
    "for i in range(num):\n",
    "    for j in range(num):\n",
    "        print(\"+\",end=\"\")\n",
    "    print()    "
   ]
  },
  {
   "cell_type": "code",
   "execution_count": 39,
   "id": "130716d0",
   "metadata": {},
   "outputs": [
    {
     "name": "stdout",
     "output_type": "stream",
     "text": [
      "4\n",
      "6\n",
      "123456\n",
      "123456\n",
      "123456\n",
      "123456\n"
     ]
    }
   ],
   "source": [
    "h=int(input())\n",
    "l=int(input())\n",
    "for i in range(1,h+1):\n",
    "    for j in range(1,l+1):\n",
    "        print(j,end=\"\")\n",
    "    print()    "
   ]
  },
  {
   "cell_type": "code",
   "execution_count": 40,
   "id": "b2c0a27b",
   "metadata": {},
   "outputs": [
    {
     "name": "stdout",
     "output_type": "stream",
     "text": [
      "4\n",
      "1\n",
      "12\n",
      "123\n",
      "1234\n"
     ]
    }
   ],
   "source": [
    "num=int(input())\n",
    "for i in range(1,num+1):\n",
    "    for j in range(1,i+1):\n",
    "        print(j,end=\"\")\n",
    "    print()    "
   ]
  },
  {
   "cell_type": "code",
   "execution_count": 41,
   "id": "18ef14f7",
   "metadata": {},
   "outputs": [
    {
     "name": "stdout",
     "output_type": "stream",
     "text": [
      "5\n",
      "    1\n",
      "   12\n",
      "  123\n",
      " 1234\n",
      "12345\n"
     ]
    }
   ],
   "source": [
    "num=int(input())\n",
    "for i in range(1,num+1):\n",
    "    for j in range(num-i):\n",
    "        print(\" \",end='')\n",
    "    for k in range(1,i+1):\n",
    "        print(k,end='')\n",
    "    print()    "
   ]
  },
  {
   "cell_type": "code",
   "execution_count": 42,
   "id": "ddc2251c",
   "metadata": {},
   "outputs": [
    {
     "name": "stdout",
     "output_type": "stream",
     "text": [
      "5\n",
      "    1\n",
      "   123\n",
      "  12345\n",
      " 1234567\n",
      "123456789\n"
     ]
    }
   ],
   "source": [
    "num=int(input())\n",
    "for i in range(1,num+1):\n",
    "    for j in range(num-i):\n",
    "        print(\" \",end='')\n",
    "    for k in range(1,i+i):\n",
    "        print(k,end='')\n",
    "    print()    "
   ]
  },
  {
   "cell_type": "code",
   "execution_count": 52,
   "id": "6625c7e4",
   "metadata": {},
   "outputs": [
    {
     "name": "stdout",
     "output_type": "stream",
     "text": [
      "5\n",
      "    5\n",
      "   45\n",
      "  345\n",
      " 2345\n",
      "12345\n"
     ]
    }
   ],
   "source": [
    "num=int(input())\n",
    "for i in range(1,num+1):\n",
    "    x=num-i+1\n",
    "    for j in range(num-i):\n",
    "        print(\" \",end='')\n",
    "    for k in range(1,i+1):\n",
    "        print(x,end='')\n",
    "        x=x+1\n",
    "    print()    "
   ]
  },
  {
   "cell_type": "code",
   "execution_count": 62,
   "id": "fa9768c9",
   "metadata": {},
   "outputs": [
    {
     "name": "stdout",
     "output_type": "stream",
     "text": [
      "15\n",
      "0 1 1 2 3 5 8 13\n"
     ]
    }
   ],
   "source": [
    "first=0\n",
    "second=1\n",
    "num=int(input())\n",
    "sum1=0\n",
    "while sum1<num:\n",
    "    print(first,end=\" \")\n",
    "    sum1=first+second\n",
    "    first=second\n",
    "    second=sum1\n",
    "print(first)       "
   ]
  },
  {
   "cell_type": "code",
   "execution_count": 70,
   "id": "880b4806",
   "metadata": {},
   "outputs": [
    {
     "name": "stdout",
     "output_type": "stream",
     "text": [
      "10\n",
      "1010\n"
     ]
    }
   ],
   "source": [
    "num=int(input())\n",
    "mo=\"\"\n",
    "while num>0:\n",
    "    new=num%2\n",
    "    num=num//2\n",
    "    mo=str(new)+mo\n",
    "print(mo)    \n"
   ]
  },
  {
   "cell_type": "code",
   "execution_count": 72,
   "id": "674d4f3a",
   "metadata": {},
   "outputs": [
    {
     "name": "stdout",
     "output_type": "stream",
     "text": [
      "1101\n",
      "13\n"
     ]
    }
   ],
   "source": [
    "num=int(input())\n",
    "n=0\n",
    "sum1=0\n",
    "while num>0:\n",
    "    new=num%10\n",
    "    num=num//10\n",
    "    s=new*pow(2,n)\n",
    "    n=n+1\n",
    "    sum1=sum1+s\n",
    "print(sum1)    "
   ]
  },
  {
   "cell_type": "code",
   "execution_count": 75,
   "id": "644f03ba",
   "metadata": {},
   "outputs": [
    {
     "name": "stdout",
     "output_type": "stream",
     "text": [
      "bangla\n",
      "b\n",
      "ba\n",
      "ban\n",
      "bang\n",
      "bangl\n",
      "bangla\n"
     ]
    }
   ],
   "source": [
    "n=input()\n",
    "for i in range(1,len(n)+1):\n",
    "    print(n[:i])"
   ]
  },
  {
   "cell_type": "code",
   "execution_count": 79,
   "id": "98fdafb7",
   "metadata": {},
   "outputs": [
    {
     "name": "stdout",
     "output_type": "stream",
     "text": [
      "helloest\n",
      "helloest\n"
     ]
    }
   ],
   "source": [
    "word=input()\n",
    "if len(word)<4:\n",
    "    new=word\n",
    "else:\n",
    "    if word.endswith(\"er\"):\n",
    "        new=word.replace(\"er\",\"est\")\n",
    "    elif word.endswith(\"est\"):\n",
    "        new=word\n",
    "    else:\n",
    "        new=word+\"er\"\n",
    "print(new)        "
   ]
  },
  {
   "cell_type": "code",
   "execution_count": 80,
   "id": "f6b327ec",
   "metadata": {},
   "outputs": [
    {
     "name": "stdout",
     "output_type": "stream",
     "text": [
      "programming\n",
      "p : 112\n",
      "r : 114\n",
      "o : 111\n",
      "g : 103\n",
      "r : 114\n",
      "a : 97\n",
      "m : 109\n",
      "m : 109\n",
      "i : 105\n",
      "n : 110\n",
      "g : 103\n"
     ]
    }
   ],
   "source": [
    "num=input()\n",
    "for i in num:\n",
    "    print(i,\":\",ord(i))"
   ]
  },
  {
   "cell_type": "code",
   "execution_count": 81,
   "id": "5acdf88b",
   "metadata": {},
   "outputs": [
    {
     "name": "stdout",
     "output_type": "stream",
     "text": [
      "abcdxyz\n",
      "bcdeyza\n"
     ]
    }
   ],
   "source": [
    "num=input()\n",
    "new=\"\"\n",
    "for i in num:\n",
    "    if ord(i)==122:\n",
    "        y=chr(97)\n",
    "    else:\n",
    "        n=ord(i)+1\n",
    "        y=chr(n)\n",
    "    new=new+y    \n",
    "print(new)    "
   ]
  },
  {
   "cell_type": "code",
   "execution_count": 85,
   "id": "6d7c7bf3",
   "metadata": {},
   "outputs": [
    {
     "name": "stdout",
     "output_type": "stream",
     "text": [
      "ABCD\n",
      "abcdefgh\n",
      "AaBbCcDdefgh\n"
     ]
    }
   ],
   "source": [
    "s1=input() #hello ola\n",
    "s2=input()\n",
    "x=len(s1)\n",
    "y=len(s2)\n",
    "new=\"\"\n",
    "if x>y:\n",
    "    for i in range(y):\n",
    "        new=new+s1[i]+s2[i]\n",
    "    rem=x-y\n",
    "    new=new+s1[-rem:]\n",
    "else:\n",
    "    for j in range(x):\n",
    "        new=new+s1[j]+s2[j]\n",
    "    rem=y-x\n",
    "    new=new+s2[-rem:]\n",
    "print(new)    \n",
    "    "
   ]
  },
  {
   "cell_type": "code",
   "execution_count": 99,
   "id": "20d3327d",
   "metadata": {},
   "outputs": [
    {
     "name": "stdout",
     "output_type": "stream",
     "text": [
      "AAABBBCCCDDDAA\n",
      "ABCD\n"
     ]
    }
   ],
   "source": [
    "word=input()\n",
    "new=\"\"\n",
    "for i in range(1,len(word)):\n",
    "    if word[i]!=word[i-1]:\n",
    "        new=new+word[i-1]\n",
    "    \n",
    "print(new)        "
   ]
  },
  {
   "cell_type": "code",
   "execution_count": 102,
   "id": "855a7f2b",
   "metadata": {},
   "outputs": [
    {
     "name": "stdout",
     "output_type": "stream",
     "text": [
      "12345\n",
      "2\n",
      "32145\n"
     ]
    }
   ],
   "source": [
    "word=input()\n",
    "num=int(input())\n",
    "new=word[num::-1]\n",
    "new=new+word[num+1:]\n",
    "print(new)"
   ]
  },
  {
   "cell_type": "code",
   "execution_count": 107,
   "id": "10215c4c",
   "metadata": {},
   "outputs": [
    {
     "name": "stdout",
     "output_type": "stream",
     "text": [
      "hello.i.am.shreya\n",
      ".\n",
      "hello\n",
      "i\n",
      "am\n",
      "shreya\n"
     ]
    }
   ],
   "source": [
    "word=input()\n",
    "split=input()\n",
    "count=word.count(split)\n",
    "for i in range(count+1):\n",
    "    x=word.find(split)\n",
    "    new=word[:x]\n",
    "    word=word[x+1:]\n",
    "    if x<=0:\n",
    "        print(word)\n",
    "    else:\n",
    "        print(new)"
   ]
  },
  {
   "cell_type": "code",
   "execution_count": 108,
   "id": "f3d9f6a1",
   "metadata": {},
   "outputs": [
    {
     "name": "stdout",
     "output_type": "stream",
     "text": [
      "python PROgramming is awesome\n",
      "PyThOn PrOgRaMmInG iS aWeSoMe\n"
     ]
    }
   ],
   "source": [
    "word=input()\n",
    "capital=True\n",
    "new=\"\"\n",
    "for char in word:\n",
    "    if \"a\"<=char<=\"z\" or \"A\"<=char<=\"Z\":\n",
    "        if capital==True:\n",
    "            if \"A\"<=char<=\"Z\":\n",
    "                new=new+char\n",
    "                capital=False\n",
    "            elif \"a\"<=char<=\"z\":\n",
    "                new=new+chr(ord(char)-32)\n",
    "                capital=False\n",
    "        elif capital==False:\n",
    "            if \"A\"<=char<=\"Z\":\n",
    "                new=new+chr(ord(char)+32)\n",
    "                capital=True\n",
    "            elif \"a\"<=char<=\"z\":\n",
    "                new=new+char\n",
    "                capital=True\n",
    "    else:\n",
    "        new=new+char\n",
    "print(new)        "
   ]
  },
  {
   "cell_type": "code",
   "execution_count": 111,
   "id": "3c7a295d",
   "metadata": {},
   "outputs": [
    {
     "name": "stdout",
     "output_type": "stream",
     "text": [
      "study\n",
      "stuby\n",
      "not\n"
     ]
    }
   ],
   "source": [
    "w1=input()\n",
    "w2=input()\n",
    "if len(w1)==len(w2):\n",
    "    for i in w1:\n",
    "        if i in w2:\n",
    "            x=\"anagram\"\n",
    "        else:\n",
    "            x=\"not\"\n",
    "            break\n",
    "else:\n",
    "    x=\"not\"\n",
    "print(x)    "
   ]
  },
  {
   "cell_type": "code",
   "execution_count": 123,
   "id": "7499db71",
   "metadata": {},
   "outputs": [
    {
     "name": "stdout",
     "output_type": "stream",
     "text": [
      "AAAAA\n"
     ]
    }
   ],
   "source": [
    "x='AAAABBBBCCAAAAACCD'\n",
    "new=0\n",
    "large=-100\n",
    "blank=''\n",
    "maxs=''\n",
    "for i in range(len(x)):\n",
    "    if x[i] not in blank or i==len(x)-1:\n",
    "        if i==len(x)-1:\n",
    "            blank=blank+x[i]\n",
    "        if len(blank)>large:\n",
    "            large=len(blank)\n",
    "            maxs=blank\n",
    "        blank=\"\"\n",
    "    blank=blank+x[i]    \n",
    "print(maxs)            \n",
    "    \n"
   ]
  },
  {
   "cell_type": "code",
   "execution_count": 124,
   "id": "7073513f",
   "metadata": {},
   "outputs": [
    {
     "name": "stdout",
     "output_type": "stream",
     "text": [
      "AAAVVVGGGFFF\n",
      "AAA\n"
     ]
    }
   ],
   "source": [
    "word=input()\n",
    "l=len(word)\n",
    "new=\"\"\n",
    "length=0\n",
    "maxstr=\"\"\n",
    "for i in range(l):\n",
    "    if word[i] not in new or i==len(word)-1:\n",
    "        if i==len(word)-1:\n",
    "            new+=word[i]\n",
    "        if len(new)>length:\n",
    "            length=len(new)\n",
    "            maxstr=new\n",
    "        new=\"\"\n",
    "    new+=word[i]\n",
    "print(maxstr)   "
   ]
  },
  {
   "cell_type": "code",
   "execution_count": 125,
   "id": "b1c363e1",
   "metadata": {},
   "outputs": [
    {
     "name": "stdout",
     "output_type": "stream",
     "text": [
      "7\n",
      "5040\n"
     ]
    }
   ],
   "source": [
    "f=1\n",
    "num=int(input())\n",
    "if num<0:\n",
    "    print(\"not valid\")\n",
    "elif num==0:\n",
    "    print(1)\n",
    "elif num>0:\n",
    "    for i in range(1,num+1):\n",
    "        f=f*i\n",
    "    print(f)    "
   ]
  },
  {
   "cell_type": "code",
   "execution_count": 128,
   "id": "92034cd8",
   "metadata": {},
   "outputs": [
    {
     "name": "stdout",
     "output_type": "stream",
     "text": [
      "153\n",
      "27\n",
      "125\n",
      "1\n",
      "yes\n"
     ]
    }
   ],
   "source": [
    "num=int(input())\n",
    "su=0\n",
    "new=num\n",
    "while num>0:\n",
    "    x=num%10\n",
    "    s=x*x*x\n",
    "    print(s)\n",
    "    num=num//10\n",
    "    su=su+s\n",
    "if su==new:\n",
    "    print(\"yes\")\n",
    "else:\n",
    "    print(\"no\")"
   ]
  },
  {
   "cell_type": "code",
   "execution_count": 134,
   "id": "50a5298e",
   "metadata": {},
   "outputs": [
    {
     "name": "stdout",
     "output_type": "stream",
     "text": [
      "abbbbcccaaaddddd\n",
      "abcad\n"
     ]
    }
   ],
   "source": [
    "num=input()\n",
    "x=\"\"\n",
    "for i in range(1,len(num)):\n",
    "    if num[i]!=num[i-1]:\n",
    "        x=x+num[i-1]\n",
    "x=x+num[-1]        \n",
    "print(x)        "
   ]
  },
  {
   "cell_type": "code",
   "execution_count": 137,
   "id": "18c44c86",
   "metadata": {},
   "outputs": [
    {
     "name": "stdout",
     "output_type": "stream",
     "text": [
      "65b67d69f71h73\n"
     ]
    }
   ],
   "source": [
    "x=\"abcdefghi\"\n",
    "new=\"\"\n",
    "for i in range(len(x)):\n",
    "    if i%2==0:\n",
    "        new=new+str(ord(x[i])-32)\n",
    "    else:\n",
    "        new=new+x[i]\n",
    "print(new)        "
   ]
  },
  {
   "cell_type": "code",
   "execution_count": 141,
   "id": "44ec40ed",
   "metadata": {},
   "outputs": [
    {
     "name": "stdout",
     "output_type": "stream",
     "text": [
      "AAABBBCCCAAAAA\n",
      "AAAAA\n"
     ]
    }
   ],
   "source": [
    "word=input()\n",
    "maximum=0\n",
    "maxs=\"\"\n",
    "count=0\n",
    "prevs=\"\"\n",
    "for i in word:\n",
    "    if i==prevs:\n",
    "        count=count+1\n",
    "    else:\n",
    "        count=1\n",
    "    if count>maximum:\n",
    "        maximum=count\n",
    "        maxs=i\n",
    "    prevs=i\n",
    "if maximum>=2:\n",
    "    print(maxs*maximum)\n",
    "else:\n",
    "    print('none')"
   ]
  },
  {
   "cell_type": "code",
   "execution_count": 4,
   "id": "e233e7a7",
   "metadata": {},
   "outputs": [
    {
     "name": "stdout",
     "output_type": "stream",
     "text": [
      "1\n",
      "2\n",
      "3\n",
      "4\n",
      "5\n",
      "stop\n",
      "3.0 120\n"
     ]
    }
   ],
   "source": [
    "product=1\n",
    "total=0\n",
    "count=0\n",
    "x=0\n",
    "while x!=\"stop\":\n",
    "    x=input()\n",
    "    if x!=\"stop\":\n",
    "        total=total+int(x)\n",
    "        count=count+1\n",
    "        product=product*int(x)\n",
    "average=total/count\n",
    "print(average,product)"
   ]
  },
  {
   "cell_type": "code",
   "execution_count": 5,
   "id": "72f1c2f5",
   "metadata": {},
   "outputs": [
    {
     "name": "stdout",
     "output_type": "stream",
     "text": [
      "7\n",
      "10\n",
      "5\n",
      "53.88877434122991\n"
     ]
    }
   ],
   "source": [
    "x=int(input())\n",
    "y=int(input())\n",
    "z=int(input())\n",
    "s=(x+y+z)/2\n",
    "ar=pow((s-x)*(s-y)*(s-z),1/2)\n",
    "area=s*ar\n",
    "print(area)\n"
   ]
  },
  {
   "cell_type": "code",
   "execution_count": 7,
   "id": "36bb06fd",
   "metadata": {},
   "outputs": [
    {
     "name": "stdout",
     "output_type": "stream",
     "text": [
      "7\n",
      "5\n",
      "10\n",
      "valid\n"
     ]
    }
   ],
   "source": [
    "x=int(input())\n",
    "y=int(input())\n",
    "z=int(input())\n",
    "if x+y>z and y+z>x and z+x>y:\n",
    "    print(\"valid\")\n",
    "else:\n",
    "    print(\"invalid\")"
   ]
  },
  {
   "cell_type": "code",
   "execution_count": 10,
   "id": "83eb97ca",
   "metadata": {},
   "outputs": [
    {
     "name": "stdout",
     "output_type": "stream",
     "text": [
      "2200\n",
      "no\n"
     ]
    }
   ],
   "source": [
    "year=int(input())\n",
    "if year%4==0 and year%400==0 or year%100!=0:\n",
    "    print(\"leap\")\n",
    "else:\n",
    "    print(\"no\")"
   ]
  },
  {
   "cell_type": "code",
   "execution_count": 13,
   "id": "d4deffd7",
   "metadata": {},
   "outputs": [
    {
     "name": "stdout",
     "output_type": "stream",
     "text": [
      "8\n",
      "1 +11 +111 +1111 +11111 +111111 +1111111 +11111111 +12345678\n"
     ]
    }
   ],
   "source": [
    "num=int(input())\n",
    "sum1=0\n",
    "x=1\n",
    "for i in range(num):\n",
    "    sum1=sum1+x\n",
    "    print(x,\"+\",end=\"\")\n",
    "    x=(x*10)+1\n",
    "print(sum1)    "
   ]
  },
  {
   "cell_type": "code",
   "execution_count": 14,
   "id": "e17850a2",
   "metadata": {},
   "outputs": [
    {
     "name": "stdout",
     "output_type": "stream",
     "text": [
      "15\n",
      "15 x 1 = 15\n",
      "15 x 2 = 30\n",
      "15 x 3 = 45\n",
      "15 x 4 = 60\n",
      "15 x 5 = 75\n",
      "15 x 6 = 90\n",
      "15 x 7 = 105\n",
      "15 x 8 = 120\n",
      "15 x 9 = 135\n",
      "15 x 10 = 150\n"
     ]
    }
   ],
   "source": [
    "num=int(input())\n",
    "for i in range(1,11):\n",
    "    print(num,\"x\",i,\"=\",num*i)"
   ]
  },
  {
   "cell_type": "code",
   "execution_count": 1,
   "id": "36d61114",
   "metadata": {},
   "outputs": [
    {
     "name": "stdout",
     "output_type": "stream",
     "text": [
      "Welcome to geeksforgeeks.com\n",
      "25 0 3\n"
     ]
    }
   ],
   "source": [
    "word=input()\n",
    "alpha=digit=special=0\n",
    "for i in word:\n",
    "    if \"a\"<=i<=\"z\" or \"A\"<=i<=\"Z\":\n",
    "        alpha=alpha+1\n",
    "    elif \"1\"<=i<=\"9\":\n",
    "        digit=digit+1\n",
    "    else:\n",
    "        special=special+1\n",
    "print(alpha,digit,special)        "
   ]
  },
  {
   "cell_type": "code",
   "execution_count": 3,
   "id": "1065094a",
   "metadata": {},
   "outputs": [
    {
     "name": "stdout",
     "output_type": "stream",
     "text": [
      "It is a string with the smallest and largest word\n",
      "smallest a\n"
     ]
    }
   ],
   "source": [
    "word=input()\n",
    "new=word.split()\n",
    "count=0\n",
    "large=0\n",
    "small=100\n",
    "lar=\"\"\n",
    "sm=\"\"\n",
    "for i in new:\n",
    "    x=len(i)\n",
    "    if x>large:\n",
    "        large=x\n",
    "        lar=i\n",
    "    if x<small:\n",
    "        small=x\n",
    "        sm=i\n",
    "print(lar,sm)        "
   ]
  },
  {
   "cell_type": "code",
   "execution_count": 7,
   "id": "06be28a9",
   "metadata": {},
   "outputs": [
    {
     "name": "stdout",
     "output_type": "stream",
     "text": [
      "5\n",
      "*****\n",
      "   *\n",
      "  *\n",
      " *\n",
      "*****\n"
     ]
    }
   ],
   "source": [
    "num=int(input())\n",
    "for i in range(num):\n",
    "    if i==0 or i==num-1:\n",
    "        for j in range(num):\n",
    "            print(\"*\",end='')\n",
    "        print()    \n",
    "    else:\n",
    "        for k in range(num-i-1):\n",
    "            print(\" \",end=\"\")\n",
    "        for m in range(1):\n",
    "            print(\"*\",end=\"\")\n",
    "        print()    "
   ]
  },
  {
   "cell_type": "code",
   "execution_count": 9,
   "id": "fe57b4ab",
   "metadata": {},
   "outputs": [
    {
     "name": "stdout",
     "output_type": "stream",
     "text": [
      "India is great\n",
      "is\n",
      "nda  great\n"
     ]
    }
   ],
   "source": [
    "word=input()\n",
    "s=input()\n",
    "new=\"\"\n",
    "for i in word:\n",
    "    if ord(\"A\")<=ord(i)<=ord(\"Z\"):\n",
    "        i=chr(ord(i)+32)\n",
    "    if i not in s:\n",
    "        new=new+i\n",
    "print(new)        \n"
   ]
  },
  {
   "cell_type": "code",
   "execution_count": 20,
   "id": "65769bc1",
   "metadata": {},
   "outputs": [
    {
     "name": "stdout",
     "output_type": "stream",
     "text": [
      "i love python program\n",
      "I Love Python Program \n"
     ]
    }
   ],
   "source": [
    "word=input()\n",
    "new=word.split()\n",
    "blank=\"\"\n",
    "for j in new:\n",
    "    for i in range(len(j)):\n",
    "        if i==0:\n",
    "            blank=blank+chr(ord(j[i])-32)\n",
    "        else:\n",
    "            blank=blank+j[i]\n",
    "    blank=blank+\" \"    \n",
    "print(blank)            \n",
    "        "
   ]
  },
  {
   "cell_type": "code",
   "execution_count": 21,
   "id": "f9fd95eb",
   "metadata": {},
   "outputs": [
    {
     "name": "stdout",
     "output_type": "stream",
     "text": [
      "10 20 30 40 50\n",
      "100 200 300 400 500\n",
      "10 100\n",
      "20 200\n",
      "30 300\n",
      "40 400\n",
      "50 500\n"
     ]
    }
   ],
   "source": [
    "list1=input().split()\n",
    "list2=input().split()\n",
    "\n",
    "for i in range(len(list1)):\n",
    "    print(list1[i],list2[i])"
   ]
  },
  {
   "cell_type": "code",
   "execution_count": 22,
   "id": "f4f04798",
   "metadata": {},
   "outputs": [
    {
     "name": "stdout",
     "output_type": "stream",
     "text": [
      "red green blue\n",
      "['der', 'neerg', 'eulb']\n"
     ]
    }
   ],
   "source": [
    "list1=input().split()\n",
    "new=[]\n",
    "for i in list1:\n",
    "    x=i[::-1]\n",
    "    new.append(x)\n",
    "print(new)    "
   ]
  },
  {
   "cell_type": "code",
   "execution_count": 25,
   "id": "81f8dc4a",
   "metadata": {},
   "outputs": [
    {
     "name": "stdout",
     "output_type": "stream",
     "text": [
      "1 3 7 5 4 1 6 8\n",
      "1 4\n"
     ]
    }
   ],
   "source": [
    "new=[int(x) for x in input().split()]\n",
    "for i in new:\n",
    "    if i%2==0:\n",
    "        even=i\n",
    "        break\n",
    "for j in new:        \n",
    "    if j%2!=0:\n",
    "        odd=j\n",
    "        break\n",
    "print(odd,even)        \n",
    "        "
   ]
  },
  {
   "cell_type": "code",
   "execution_count": 27,
   "id": "3190d35f",
   "metadata": {},
   "outputs": [
    {
     "name": "stdout",
     "output_type": "stream",
     "text": [
      "p q \n",
      "5\n",
      "['p1', 'q1', 'p2', 'q2', 'p3', 'q3', 'p4', 'q4', 'p5', 'q5']\n"
     ]
    }
   ],
   "source": [
    "a=input().split()\n",
    "n=int(input())\n",
    "new=[]\n",
    "for i in range(1,n+1):\n",
    "    for j in a:\n",
    "        x=j+str(i)\n",
    "        new.append(x)\n",
    "print(new)        "
   ]
  },
  {
   "cell_type": "code",
   "execution_count": 31,
   "id": "5a40a3d9",
   "metadata": {},
   "outputs": [
    {
     "name": "stdout",
     "output_type": "stream",
     "text": [
      "123456\n",
      "not\n"
     ]
    }
   ],
   "source": [
    "num=input()\n",
    "for i in range(1,len(num)):\n",
    "    if num[i-1]>num[i]:\n",
    "        x=\"awesome\"\n",
    "    else:\n",
    "        x=\"not\"\n",
    "        break\n",
    "print(x)        "
   ]
  },
  {
   "cell_type": "code",
   "execution_count": 32,
   "id": "8120c7c7",
   "metadata": {},
   "outputs": [
    {
     "name": "stdout",
     "output_type": "stream",
     "text": [
      "12345 54321 98765 9853\n",
      "12345 not\n",
      "54321 awesome\n",
      "98765 awesome\n",
      "9853 awesome\n"
     ]
    }
   ],
   "source": [
    "num=input().split()\n",
    "for j in num:\n",
    "    for k in range(1,len(j)):\n",
    "        if j[k-1]>j[k]:\n",
    "            x=\"awesome\"\n",
    "        else:\n",
    "            x=\"not\"\n",
    "            break\n",
    "    print(j,x)            "
   ]
  },
  {
   "cell_type": "code",
   "execution_count": 36,
   "id": "574a9121",
   "metadata": {},
   "outputs": [
    {
     "name": "stdout",
     "output_type": "stream",
     "text": [
      "A B C D E F G H\n",
      "2\n",
      "['H', 'B', 'F', 'D', 'E', 'C', 'G', 'A']\n"
     ]
    }
   ],
   "source": [
    "mylist = input().split()\n",
    "step = int(input())\n",
    "if step > len(mylist)/2:\n",
    "    print(\"Step size is not suitable\")\n",
    "i = 0\n",
    "j = len(mylist)-1\n",
    "while i < j:\n",
    "    temp = mylist[i] \n",
    "    mylist[i] = mylist[j]\n",
    "    mylist[j] = temp\n",
    "    i += step\n",
    "    j -= step\n",
    "print(new_list)\n",
    "    \n"
   ]
  },
  {
   "cell_type": "code",
   "execution_count": 38,
   "id": "e9ed9360",
   "metadata": {},
   "outputs": [
    {
     "name": "stdout",
     "output_type": "stream",
     "text": [
      "123,  29299  , 929,202\n",
      "[123, 29299, 929, 202]\n"
     ]
    }
   ],
   "source": [
    "new=input().split(\",\")\n",
    "x=[]\n",
    "for i in new:\n",
    "    y=i.strip()\n",
    "    z=int(y)\n",
    "    x.append(z)\n",
    "print(x)    "
   ]
  },
  {
   "cell_type": "code",
   "execution_count": 45,
   "id": "29fbd4e9",
   "metadata": {},
   "outputs": [
    {
     "name": "stdout",
     "output_type": "stream",
     "text": [
      "97821, 1, 97210, 963, 979210, 979210\n",
      "3 [97821, 97210, 979210]\n"
     ]
    }
   ],
   "source": [
    "num=[int(x) for x in input().split(\", \")]\n",
    "count=0\n",
    "dupli=valid=invalid=0\n",
    "v=[]\n",
    "iv=[]\n",
    "new=[]\n",
    "le=len(num)\n",
    "for i in num:\n",
    "    if i not in new:\n",
    "        new.append(i)\n",
    "    else:\n",
    "        dupli=dupli+1\n",
    "for j in new:\n",
    "    if 4<=len(str(j))<=6:\n",
    "        valid=valid+1\n",
    "        v.append(j)\n",
    "print(valid,v)        "
   ]
  },
  {
   "cell_type": "code",
   "execution_count": 49,
   "id": "af9fa03b",
   "metadata": {},
   "outputs": [
    {
     "name": "stdout",
     "output_type": "stream",
     "text": [
      "123, 456, 3839\n",
      "[123, 6, 6],[456, 15, 720],[3839, 23, 466560],"
     ]
    }
   ],
   "source": [
    "num=[int(x) for x in input().split(\", \")]\n",
    "sum1=0\n",
    "product=1\n",
    "for i in num:\n",
    "    sum1=0\n",
    "    new=[]\n",
    "    product=1\n",
    "    for j in str(i):\n",
    "        sum1=sum1+int(j)\n",
    "        product=product*int(j)\n",
    "    new.append(i)\n",
    "    new.append(sum1)\n",
    "    new.append(product)\n",
    "    print(new,end=\",\")"
   ]
  },
  {
   "cell_type": "code",
   "execution_count": 50,
   "id": "6a6793a1",
   "metadata": {},
   "outputs": [
    {
     "name": "stdout",
     "output_type": "stream",
     "text": [
      "10\n",
      "-55\n"
     ]
    }
   ],
   "source": [
    "y=int(input())\n",
    "sum1=0\n",
    "x=1\n",
    "for i in range(1,y+1):\n",
    "    if i%2==0:\n",
    "        sum1=sum1-(i*i)\n",
    "    else:\n",
    "        sum1=sum1+(i*i)\n",
    "print(sum1)        "
   ]
  },
  {
   "cell_type": "code",
   "execution_count": 4,
   "id": "6a152b61",
   "metadata": {},
   "outputs": [
    {
     "name": "stdout",
     "output_type": "stream",
     "text": [
      "12345\n",
      "1,2,3,4,5"
     ]
    }
   ],
   "source": [
    "num=int(input())\n",
    "count=0\n",
    "new=num\n",
    "while num>0:\n",
    "    count=count+1\n",
    "    num=num//10\n",
    "x=pow(10,count-1)\n",
    "while new>0:\n",
    "    n=new//x\n",
    "    new=new%x\n",
    "    x=x//10\n",
    "    if x<=0:\n",
    "        print(n,end=\"\")\n",
    "    else:\n",
    "        print(n,end=\",\")\n",
    "    "
   ]
  },
  {
   "cell_type": "code",
   "execution_count": 6,
   "id": "931f1a6a",
   "metadata": {},
   "outputs": [
    {
     "name": "stdout",
     "output_type": "stream",
     "text": [
      "5\n",
      "10\n",
      "-100\n",
      "-1\n",
      "1\n",
      "0\n",
      "10 -100 -17.0\n"
     ]
    }
   ],
   "source": [
    "large=0\n",
    "small=100\n",
    "total=0\n",
    "for i in range(5):\n",
    "    num=int(input())\n",
    "    if num>large:\n",
    "        large=num\n",
    "    if num<small:\n",
    "        small=num\n",
    "    total=total+num    \n",
    "print(large,small,total/5)    "
   ]
  },
  {
   "cell_type": "code",
   "execution_count": 8,
   "id": "c0045529",
   "metadata": {},
   "outputs": [
    {
     "name": "stdout",
     "output_type": "stream",
     "text": [
      "15\n",
      "0,1,1,2,3,5,8,13,"
     ]
    }
   ],
   "source": [
    "a=0\n",
    "b=1\n",
    "num=int(input())\n",
    "while a<num:\n",
    "    print(a,end=\",\")\n",
    "    n=a+b\n",
    "    a=b\n",
    "    b=n\n",
    "    "
   ]
  },
  {
   "cell_type": "code",
   "execution_count": 13,
   "id": "59c63ad4",
   "metadata": {},
   "outputs": [
    {
     "name": "stdout",
     "output_type": "stream",
     "text": [
      "2\n",
      "6\n",
      "3 235 1 6\n"
     ]
    }
   ],
   "source": [
    "start=int(input())\n",
    "end=int(input())\n",
    "prime=perfect=0\n",
    "count=div=0\n",
    "p=\"\"\n",
    "per=\"\"\n",
    "for i in range(start,end+1):\n",
    "    count=0\n",
    "    div=0\n",
    "    for j in range(1,i+1):\n",
    "        if i%j==0:\n",
    "            count=count+1\n",
    "            div=div+j\n",
    "    div=div-i\n",
    "    if count==2:\n",
    "        prime=prime+1\n",
    "        p=p+str(i)\n",
    "    if div==i:\n",
    "        perfect=perfect+1\n",
    "        per=per+str(i)\n",
    "print(prime,p,perfect,per)        "
   ]
  },
  {
   "cell_type": "code",
   "execution_count": 19,
   "id": "8457453f",
   "metadata": {},
   "outputs": [
    {
     "name": "stdout",
     "output_type": "stream",
     "text": [
      "AAABBBCCCDDDDD\n",
      "ABCD\n"
     ]
    }
   ],
   "source": [
    "num=input()\n",
    "new=\"\"\n",
    "for i in range(len(num)-1):\n",
    "    if num[i]!=num[i+1]:\n",
    "        new=new+num[i]\n",
    "new=new+num[len(num)-1]    \n",
    "print(new)        "
   ]
  },
  {
   "cell_type": "code",
   "execution_count": 21,
   "id": "7b82203f",
   "metadata": {},
   "outputs": [
    {
     "name": "stdout",
     "output_type": "stream",
     "text": [
      "aBcd1234defg\n",
      "5\n",
      "21dcBa34defg\n"
     ]
    }
   ],
   "source": [
    "num=input()\n",
    "l=int(input())\n",
    "new=num[l::-1]\n",
    "new=new+num[l+1:]\n",
    "print(new)"
   ]
  },
  {
   "cell_type": "code",
   "execution_count": 23,
   "id": "24f59c72",
   "metadata": {},
   "outputs": [
    {
     "name": "stdout",
     "output_type": "stream",
     "text": [
      "this.is.shreya\n",
      ".\n",
      "this\n",
      "is\n",
      "shreya\n"
     ]
    }
   ],
   "source": [
    "num=input()\n",
    "split=input()\n",
    "x=num.count(split)\n",
    "for i in range(x+1):\n",
    "    f=num.find(split)\n",
    "    new=num[:f]\n",
    "    num=num[f+1:]\n",
    "    if f<=0:\n",
    "        print(num)\n",
    "    else:\n",
    "        print(new)"
   ]
  },
  {
   "cell_type": "code",
   "execution_count": 25,
   "id": "d667035f",
   "metadata": {},
   "outputs": [
    {
     "name": "stdout",
     "output_type": "stream",
     "text": [
      "string\n",
      "TIG\n"
     ]
    }
   ],
   "source": [
    "num=input()\n",
    "new=\"\"\n",
    "for i in range(len(num)):\n",
    "    if i%2!=0:\n",
    "        new=new+(num[i]).upper()\n",
    "print(new)        \n",
    "    "
   ]
  },
  {
   "cell_type": "code",
   "execution_count": 26,
   "id": "b621b34c",
   "metadata": {},
   "outputs": [
    {
     "name": "stdout",
     "output_type": "stream",
     "text": [
      "tamado tanjiro\n",
      "a\n",
      "tmdo tnjiro\n"
     ]
    }
   ],
   "source": [
    "word=input()\n",
    "letter=input()\n",
    "new=\"\"\n",
    "for i in word:\n",
    "    if i!=letter:\n",
    "        new=new+i\n",
    "print(new)        "
   ]
  },
  {
   "cell_type": "code",
   "execution_count": 30,
   "id": "34379c83",
   "metadata": {},
   "outputs": [
    {
     "name": "stdout",
     "output_type": "stream",
     "text": [
      "i love python programming\n",
      "I lOvE pYtHoN pRoGrAmMiNg\n"
     ]
    }
   ],
   "source": [
    "num=input()\n",
    "capital=True\n",
    "new=\"\"\n",
    "for i in range(len(num)):\n",
    "    if \"a\"<=num[i]<=\"z\" or \"A\"<=num[i]<=\"Z\":\n",
    "        if capital==True:\n",
    "            if \"A\"<=num[i]<=\"Z\":\n",
    "                new=new+num[i]\n",
    "                capital=False\n",
    "            if \"a\"<=num[i]<=\"z\":\n",
    "                new=new+chr(ord(num[i])-32)\n",
    "                capital=False\n",
    "        elif capital==False:\n",
    "            if \"A\"<=num[i]<=\"Z\":\n",
    "                new=new+chr(ord(num[i])+32)\n",
    "                capital=True\n",
    "            if \"a\"<=num[i]<=\"z\":\n",
    "                new=new+num[i]\n",
    "                capital=True\n",
    "    else:\n",
    "        new=new+num[i]\n",
    "print(new)        "
   ]
  },
  {
   "cell_type": "code",
   "execution_count": 34,
   "id": "b5f398c4",
   "metadata": {},
   "outputs": [
    {
     "name": "stdout",
     "output_type": "stream",
     "text": [
      "BBBBBBHHHHHHHHHHHHHHUU\n",
      "HHHHHHHHHHHHHH\n"
     ]
    }
   ],
   "source": [
    "word=input()\n",
    "prev=\"\"\n",
    "maxi=''\n",
    "m=0\n",
    "count=0\n",
    "for i in word:\n",
    "    if i==prev:\n",
    "        count=count+1\n",
    "    else:\n",
    "        count=1\n",
    "    if count>m:\n",
    "        m=count\n",
    "        maxi=i\n",
    "    prev=i\n",
    "if count>=2:\n",
    "    print(maxi*m)\n",
    "else:\n",
    "    print(\"none\")"
   ]
  },
  {
   "cell_type": "code",
   "execution_count": 36,
   "id": "3df25423",
   "metadata": {},
   "outputs": [
    {
     "name": "stdout",
     "output_type": "stream",
     "text": [
      "study\n",
      "stgdy\n",
      "not\n"
     ]
    }
   ],
   "source": [
    "w1=input()\n",
    "w2=input()\n",
    "x=len(w1)\n",
    "y=len(w2)\n",
    "if x!=y:\n",
    "    o=\"not\"\n",
    "else:\n",
    "    for i in w1:\n",
    "        if i in w2:\n",
    "            o=\"anagram\"\n",
    "        else:\n",
    "            o=\"not\"\n",
    "            break\n",
    "print(o)            "
   ]
  },
  {
   "cell_type": "code",
   "execution_count": 5,
   "id": "a09ea121",
   "metadata": {},
   "outputs": [
    {
     "name": "stdout",
     "output_type": "stream",
     "text": [
      "1 2 3\n",
      "none\n"
     ]
    }
   ],
   "source": [
    "lst=[int(x) for x in input().split()]\n",
    "new=lst[2:-2]\n",
    "if len(lst)<4:\n",
    "    print(\"none\")\n",
    "else:    \n",
    "    print(new)"
   ]
  },
  {
   "cell_type": "code",
   "execution_count": null,
   "id": "43bacf25",
   "metadata": {},
   "outputs": [],
   "source": []
  }
 ],
 "metadata": {
  "kernelspec": {
   "display_name": "Python 3",
   "language": "python",
   "name": "python3"
  },
  "language_info": {
   "codemirror_mode": {
    "name": "ipython",
    "version": 3
   },
   "file_extension": ".py",
   "mimetype": "text/x-python",
   "name": "python",
   "nbconvert_exporter": "python",
   "pygments_lexer": "ipython3",
   "version": "3.8.8"
  }
 },
 "nbformat": 4,
 "nbformat_minor": 5
}
