{
 "cells": [
  {
   "cell_type": "code",
   "execution_count": 3,
   "id": "e27e3946",
   "metadata": {},
   "outputs": [
    {
     "name": "stdout",
     "output_type": "stream",
     "text": [
      "shihab\n"
     ]
    }
   ],
   "source": [
    "userName = \"shihab\"\n",
    "print(userName)"
   ]
  },
  {
   "cell_type": "code",
   "execution_count": 6,
   "id": "e45fe9ba",
   "metadata": {},
   "outputs": [
    {
     "name": "stdout",
     "output_type": "stream",
     "text": [
      "5,6,7\n",
      "['5', '6', '7']\n",
      "[5, 6, 7]\n"
     ]
    }
   ],
   "source": [
    "user= input().split(\",\")\n",
    "print(user)\n",
    "for i in range(len(user)):\n",
    "    user[i]=int(user[i])\n",
    "print(user)    "
   ]
  },
  {
   "cell_type": "code",
   "execution_count": 1,
   "id": "13bef95f",
   "metadata": {},
   "outputs": [
    {
     "name": "stdout",
     "output_type": "stream",
     "text": [
      "['messi', 'ronaldo', ['ramos', 'casilas'], 'neymar', 'lahm']\n"
     ]
    }
   ],
   "source": [
    "captain=['messi', 'ronaldo', ['ramos', 'casilas']]\n",
    "captain.extend(['neymar', 'lahm'] )\n",
    "print(captain)"
   ]
  },
  {
   "cell_type": "code",
   "execution_count": 16,
   "id": "ced2336d",
   "metadata": {},
   "outputs": [
    {
     "name": "stdout",
     "output_type": "stream",
     "text": [
      "shihab\n"
     ]
    }
   ],
   "source": [
    "User_name1 = \"shihab\"\n",
    "print(User_name1)"
   ]
  },
  {
   "cell_type": "code",
   "execution_count": 14,
   "id": "e2a59a3e",
   "metadata": {},
   "outputs": [
    {
     "name": "stdout",
     "output_type": "stream",
     "text": [
      "<class 'list'>\n"
     ]
    }
   ],
   "source": [
    "x= [\"shihab\"]\n",
    "print(type(x))"
   ]
  },
  {
   "cell_type": "code",
   "execution_count": 12,
   "id": "410f0683",
   "metadata": {},
   "outputs": [
    {
     "name": "stdout",
     "output_type": "stream",
     "text": [
      "123\n",
      "hi\n"
     ]
    }
   ],
   "source": [
    "check = 123\n",
    "print(check)\n",
    "check=\"hi\"\n",
    "print(check)"
   ]
  },
  {
   "cell_type": "code",
   "execution_count": 22,
   "id": "3d78bfd6",
   "metadata": {},
   "outputs": [
    {
     "name": "stdout",
     "output_type": "stream",
     "text": [
      "12\n"
     ]
    }
   ],
   "source": [
    "UserName=12\n",
    "print(UserName)"
   ]
  },
  {
   "cell_type": "code",
   "execution_count": 25,
   "id": "b70291bb",
   "metadata": {},
   "outputs": [
    {
     "name": "stdout",
     "output_type": "stream",
     "text": [
      "ferrari\n"
     ]
    }
   ],
   "source": [
    "name = {'brand':'ferrari', 'year':'2019'}\n",
    "print(name['brand'])"
   ]
  },
  {
   "cell_type": "code",
   "execution_count": 26,
   "id": "97293811",
   "metadata": {},
   "outputs": [
    {
     "name": "stdout",
     "output_type": "stream",
     "text": [
      "345\n"
     ]
    }
   ],
   "source": [
    "Score=345\n",
    "print(Score)"
   ]
  },
  {
   "cell_type": "code",
   "execution_count": 27,
   "id": "0937bd1b",
   "metadata": {},
   "outputs": [
    {
     "name": "stdout",
     "output_type": "stream",
     "text": [
      "2346\n"
     ]
    }
   ],
   "source": [
    "ScoRe=2346\n",
    "print(ScoRe)"
   ]
  },
  {
   "cell_type": "code",
   "execution_count": 33,
   "id": "7198c032",
   "metadata": {},
   "outputs": [
    {
     "name": "stdout",
     "output_type": "stream",
     "text": [
      "<class 'tuple'>\n"
     ]
    }
   ],
   "source": [
    "print(type((((((('a','b'))))))))"
   ]
  },
  {
   "cell_type": "code",
   "execution_count": 34,
   "id": "498e930d",
   "metadata": {},
   "outputs": [
    {
     "name": "stdout",
     "output_type": "stream",
     "text": [
      "<class 'list'>\n"
     ]
    }
   ],
   "source": [
    "print(type([\"a\"]))"
   ]
  },
  {
   "cell_type": "code",
   "execution_count": 35,
   "id": "ad94bc6a",
   "metadata": {},
   "outputs": [
    {
     "name": "stdout",
     "output_type": "stream",
     "text": [
      "<class 'str'>\n"
     ]
    }
   ],
   "source": [
    "print(type((((((('a'))))))))"
   ]
  },
  {
   "cell_type": "code",
   "execution_count": 1,
   "id": "f5201b86",
   "metadata": {},
   "outputs": [
    {
     "name": "stdout",
     "output_type": "stream",
     "text": [
      "5\n"
     ]
    }
   ],
   "source": [
    "print(5%10)"
   ]
  },
  {
   "cell_type": "code",
   "execution_count": 8,
   "id": "5aa1ff2b",
   "metadata": {},
   "outputs": [
    {
     "name": "stdout",
     "output_type": "stream",
     "text": [
      "12\n"
     ]
    }
   ],
   "source": [
    "x=5\n",
    "x+=7\n",
    "print(x)"
   ]
  },
  {
   "cell_type": "code",
   "execution_count": 11,
   "id": "0c7ee943",
   "metadata": {},
   "outputs": [
    {
     "name": "stdout",
     "output_type": "stream",
     "text": [
      "True\n"
     ]
    }
   ],
   "source": [
    "x=[\"banana\",\"apple\"]\n",
    "print(\"banana\" in x)"
   ]
  },
  {
   "cell_type": "code",
   "execution_count": 17,
   "id": "da90b6e9",
   "metadata": {},
   "outputs": [
    {
     "name": "stdout",
     "output_type": "stream",
     "text": [
      "Enter your name Shihab\n",
      "Name: Shihab\n"
     ]
    }
   ],
   "source": [
    "x= input(\"Enter your name \")\n",
    "print(\"Name:\", x)"
   ]
  },
  {
   "cell_type": "code",
   "execution_count": 22,
   "id": "5f3f3df8",
   "metadata": {},
   "outputs": [
    {
     "name": "stdout",
     "output_type": "stream",
     "text": [
      "Enter a number10\n",
      "Enter a number30\n",
      "X is: 15\n",
      "Y is: 25\n"
     ]
    }
   ],
   "source": [
    "x=input(\"Enter a number\")\n",
    "y=input(\"Enter a number\")\n",
    "x=int(x)\n",
    "y=int(y)\n",
    "x+=5\n",
    "y-=5\n",
    "print(\"X is:\", x)\n",
    "print(\"Y is:\", y)"
   ]
  },
  {
   "cell_type": "code",
   "execution_count": null,
   "id": "87781a65",
   "metadata": {},
   "outputs": [],
   "source": []
  }
 ],
 "metadata": {
  "kernelspec": {
   "display_name": "Python 3",
   "language": "python",
   "name": "python3"
  },
  "language_info": {
   "codemirror_mode": {
    "name": "ipython",
    "version": 3
   },
   "file_extension": ".py",
   "mimetype": "text/x-python",
   "name": "python",
   "nbconvert_exporter": "python",
   "pygments_lexer": "ipython3",
   "version": "3.8.8"
  }
 },
 "nbformat": 4,
 "nbformat_minor": 5
}
