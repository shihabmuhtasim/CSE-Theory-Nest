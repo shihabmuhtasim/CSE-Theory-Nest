{
 "cells": [
  {
   "cell_type": "code",
   "execution_count": 22,
   "id": "b5166e73",
   "metadata": {},
   "outputs": [
    {
     "name": "stdout",
     "output_type": "stream",
     "text": [
      "output 1: shihab\n",
      "output 2: 20\n",
      "output 1: {'city': 'Dhaka', 'town': 'Maniknagar', 'house': '57/0/3'}\n",
      "output 1: Dhaka\n",
      "output 1: not found\n",
      "output 1: None\n",
      "output 1: 20\n",
      "output 1: 20\n"
     ]
    }
   ],
   "source": [
    "dic={'name':'shihab','age':'20', 'address':{'city':'Dhaka','town':'Maniknagar','house':'57/0/3'},'income':'zero'}\n",
    "print(\"output 1:\",dic['name'])\n",
    "print(\"output 2:\",dic['age'])\n",
    "print(\"output 1:\",dic['address'])\n",
    "print(\"output 1:\",dic['address']['city'])\n",
    "print(\"output 1:\",dic.get('school','not found'))\n",
    "print(\"output 1:\",dic.get('school'))\n",
    "print(\"output 1:\",dic.get('age','zero'))\n",
    "print(\"output 1:\",dic.get('age',))"
   ]
  },
  {
   "cell_type": "code",
   "execution_count": 3,
   "id": "9ec5df76",
   "metadata": {},
   "outputs": [
    {
     "ename": "SyntaxError",
     "evalue": "positional argument follows keyword argument (<ipython-input-3-f2be7a7834f1>, line 4)",
     "output_type": "error",
     "traceback": [
      "\u001b[1;36m  File \u001b[1;32m\"<ipython-input-3-f2be7a7834f1>\"\u001b[1;36m, line \u001b[1;32m4\u001b[0m\n\u001b[1;33m    student_info(name='John', 19)\u001b[0m\n\u001b[1;37m                              ^\u001b[0m\n\u001b[1;31mSyntaxError\u001b[0m\u001b[1;31m:\u001b[0m positional argument follows keyword argument\n"
     ]
    }
   ],
   "source": [
    "def student_info(name, age):\n",
    "    print(age,name)\n",
    "    \n",
    "student_info(name='John', 19)"
   ]
  },
  {
   "cell_type": "code",
   "execution_count": null,
   "id": "030d7da6",
   "metadata": {},
   "outputs": [],
   "source": [
    "tup=()\n",
    "num=int(input(\"enter the number of elements in your tuple:\"))\n",
    "for i in range(num):\n",
    "    elem=input(\"enter element:\")\n",
    "    tup+=elem,                             #way of tuple input\n",
    "print(tup)"
   ]
  },
  {
   "cell_type": "code",
   "execution_count": null,
   "id": "98427804",
   "metadata": {},
   "outputs": [],
   "source": [
    "list=['Hi', 1, 2, 3, 'a', [1,2]]\n",
    "tup=()\n",
    "for i in list:\n",
    "    tup+=(i,)\n",
    "print(tup)         #way of tuple input from list"
   ]
  },
  {
   "cell_type": "code",
   "execution_count": 2,
   "id": "cb196888",
   "metadata": {},
   "outputs": [
    {
     "name": "stdout",
     "output_type": "stream",
     "text": [
      "400\n"
     ]
    }
   ],
   "source": [
    "def bonus(s):\n",
    "    if s<100:\n",
    "        s+=10\n",
    "    else:\n",
    "        s+=20\n",
    "    return s\n",
    "s=400\n",
    "total=bonus(s)\n",
    "print(s)"
   ]
  },
  {
   "cell_type": "code",
   "execution_count": 11,
   "id": "cdc886ae",
   "metadata": {},
   "outputs": [
    {
     "name": "stdout",
     "output_type": "stream",
     "text": [
      "5 7\n"
     ]
    },
    {
     "ename": "NameError",
     "evalue": "name 'returna' is not defined",
     "output_type": "error",
     "traceback": [
      "\u001b[1;31m---------------------------------------------------------------------------\u001b[0m",
      "\u001b[1;31mNameError\u001b[0m                                 Traceback (most recent call last)",
      "\u001b[1;32m<ipython-input-11-6dc3e58b9480>\u001b[0m in \u001b[0;36m<module>\u001b[1;34m\u001b[0m\n\u001b[1;32m----> 1\u001b[1;33m \u001b[0mprint\u001b[0m\u001b[1;33m(\u001b[0m\u001b[0msum\u001b[0m\u001b[1;33m(\u001b[0m\u001b[1;36m5\u001b[0m\u001b[1;33m,\u001b[0m\u001b[1;36m7\u001b[0m\u001b[1;33m)\u001b[0m\u001b[1;33m)\u001b[0m\u001b[1;33m\u001b[0m\u001b[1;33m\u001b[0m\u001b[0m\n\u001b[0m\u001b[0;32m      2\u001b[0m \u001b[1;32mdef\u001b[0m \u001b[0msum\u001b[0m\u001b[1;33m(\u001b[0m\u001b[0ma\u001b[0m\u001b[1;33m,\u001b[0m\u001b[0mb\u001b[0m\u001b[1;33m)\u001b[0m\u001b[1;33m:\u001b[0m\u001b[1;33m\u001b[0m\u001b[1;33m\u001b[0m\u001b[0m\n\u001b[0;32m      3\u001b[0m     \u001b[0mprint\u001b[0m\u001b[1;33m(\u001b[0m\u001b[0ma\u001b[0m\u001b[1;33m,\u001b[0m\u001b[0mb\u001b[0m\u001b[1;33m)\u001b[0m\u001b[1;33m\u001b[0m\u001b[1;33m\u001b[0m\u001b[0m\n\u001b[0;32m      4\u001b[0m     \u001b[1;32mreturn\u001b[0m \u001b[0ma\u001b[0m\u001b[1;33m+\u001b[0m\u001b[0mb\u001b[0m\u001b[1;33m\u001b[0m\u001b[1;33m\u001b[0m\u001b[0m\n",
      "\u001b[1;32m<ipython-input-9-2d30d94bf517>\u001b[0m in \u001b[0;36msum\u001b[1;34m(a, b)\u001b[0m\n\u001b[0;32m      2\u001b[0m \u001b[1;32mdef\u001b[0m \u001b[0msum\u001b[0m\u001b[1;33m(\u001b[0m\u001b[0ma\u001b[0m\u001b[1;33m,\u001b[0m\u001b[0mb\u001b[0m\u001b[1;33m)\u001b[0m\u001b[1;33m:\u001b[0m\u001b[1;33m\u001b[0m\u001b[1;33m\u001b[0m\u001b[0m\n\u001b[0;32m      3\u001b[0m     \u001b[0mprint\u001b[0m\u001b[1;33m(\u001b[0m\u001b[0ma\u001b[0m\u001b[1;33m,\u001b[0m\u001b[0mb\u001b[0m\u001b[1;33m)\u001b[0m\u001b[1;33m\u001b[0m\u001b[1;33m\u001b[0m\u001b[0m\n\u001b[1;32m----> 4\u001b[1;33m     \u001b[0mreturna\u001b[0m\u001b[1;33m+\u001b[0m\u001b[0mb\u001b[0m\u001b[1;33m\u001b[0m\u001b[1;33m\u001b[0m\u001b[0m\n\u001b[0m",
      "\u001b[1;31mNameError\u001b[0m: name 'returna' is not defined"
     ]
    }
   ],
   "source": []
  },
  {
   "cell_type": "code",
   "execution_count": 13,
   "id": "ed41b962",
   "metadata": {},
   "outputs": [
    {
     "name": "stdout",
     "output_type": "stream",
     "text": [
      "5 7\n"
     ]
    },
    {
     "ename": "NameError",
     "evalue": "name 'returna' is not defined",
     "output_type": "error",
     "traceback": [
      "\u001b[1;31m---------------------------------------------------------------------------\u001b[0m",
      "\u001b[1;31mNameError\u001b[0m                                 Traceback (most recent call last)",
      "\u001b[1;32m<ipython-input-13-0f97f9d3e2ef>\u001b[0m in \u001b[0;36m<module>\u001b[1;34m\u001b[0m\n\u001b[1;32m----> 1\u001b[1;33m \u001b[0mprint\u001b[0m\u001b[1;33m(\u001b[0m\u001b[0msum\u001b[0m\u001b[1;33m(\u001b[0m\u001b[1;36m5\u001b[0m\u001b[1;33m,\u001b[0m\u001b[1;36m7\u001b[0m\u001b[1;33m)\u001b[0m\u001b[1;33m)\u001b[0m\u001b[1;33m\u001b[0m\u001b[1;33m\u001b[0m\u001b[0m\n\u001b[0m\u001b[0;32m      2\u001b[0m \u001b[1;32mdef\u001b[0m \u001b[0msum\u001b[0m\u001b[1;33m(\u001b[0m\u001b[0ma\u001b[0m\u001b[1;33m,\u001b[0m\u001b[0mb\u001b[0m\u001b[1;33m)\u001b[0m\u001b[1;33m:\u001b[0m\u001b[1;33m\u001b[0m\u001b[1;33m\u001b[0m\u001b[0m\n\u001b[0;32m      3\u001b[0m     \u001b[0mprint\u001b[0m\u001b[1;33m(\u001b[0m\u001b[0ma\u001b[0m\u001b[1;33m,\u001b[0m\u001b[0mb\u001b[0m\u001b[1;33m)\u001b[0m\u001b[1;33m\u001b[0m\u001b[1;33m\u001b[0m\u001b[0m\n\u001b[0;32m      4\u001b[0m     \u001b[1;32mreturn\u001b[0m \u001b[1;33m(\u001b[0m\u001b[0ma\u001b[0m\u001b[1;33m+\u001b[0m\u001b[0mb\u001b[0m\u001b[1;33m)\u001b[0m\u001b[1;33m\u001b[0m\u001b[1;33m\u001b[0m\u001b[0m\n",
      "\u001b[1;32m<ipython-input-9-2d30d94bf517>\u001b[0m in \u001b[0;36msum\u001b[1;34m(a, b)\u001b[0m\n\u001b[0;32m      2\u001b[0m \u001b[1;32mdef\u001b[0m \u001b[0msum\u001b[0m\u001b[1;33m(\u001b[0m\u001b[0ma\u001b[0m\u001b[1;33m,\u001b[0m\u001b[0mb\u001b[0m\u001b[1;33m)\u001b[0m\u001b[1;33m:\u001b[0m\u001b[1;33m\u001b[0m\u001b[1;33m\u001b[0m\u001b[0m\n\u001b[0;32m      3\u001b[0m     \u001b[0mprint\u001b[0m\u001b[1;33m(\u001b[0m\u001b[0ma\u001b[0m\u001b[1;33m,\u001b[0m\u001b[0mb\u001b[0m\u001b[1;33m)\u001b[0m\u001b[1;33m\u001b[0m\u001b[1;33m\u001b[0m\u001b[0m\n\u001b[1;32m----> 4\u001b[1;33m     \u001b[0mreturna\u001b[0m\u001b[1;33m+\u001b[0m\u001b[0mb\u001b[0m\u001b[1;33m\u001b[0m\u001b[1;33m\u001b[0m\u001b[0m\n\u001b[0m",
      "\u001b[1;31mNameError\u001b[0m: name 'returna' is not defined"
     ]
    }
   ],
   "source": [
    "print(sum(5,7))\n",
    "def sum(a,b):\n",
    "    print(a,b)\n",
    "    return (a+b)"
   ]
  },
  {
   "cell_type": "code",
   "execution_count": 15,
   "id": "da5e05f9",
   "metadata": {},
   "outputs": [
    {
     "name": "stdout",
     "output_type": "stream",
     "text": [
      "jhon 19\n"
     ]
    }
   ],
   "source": [
    "def student(name,age):\n",
    "    print(name,age)\n",
    "student(name='jhon',age=19)"
   ]
  },
  {
   "cell_type": "code",
   "execution_count": 17,
   "id": "5cf0065f",
   "metadata": {},
   "outputs": [
    {
     "name": "stdout",
     "output_type": "stream",
     "text": [
      "<function fees at 0x000002BE69A593A0> (30, 10)\n"
     ]
    }
   ],
   "source": [
    "def fees(s,f):\n",
    "    return s+5, f-2\n",
    "print(fees,(30,10))"
   ]
  },
  {
   "cell_type": "code",
   "execution_count": 1,
   "id": "574f6a89",
   "metadata": {},
   "outputs": [
    {
     "name": "stdout",
     "output_type": "stream",
     "text": [
      "<function fees at 0x000001EFB5839280> (30, 10)\n"
     ]
    }
   ],
   "source": [
    "def fees(s,f):\n",
    "    return s+5, f-2\n",
    "print(fees,(30,10))"
   ]
  },
  {
   "cell_type": "code",
   "execution_count": 23,
   "id": "6c2eeec7",
   "metadata": {},
   "outputs": [
    {
     "ename": "KeyError",
     "evalue": "'1st_name'",
     "output_type": "error",
     "traceback": [
      "\u001b[1;31m---------------------------------------------------------------------------\u001b[0m",
      "\u001b[1;31mKeyError\u001b[0m                                  Traceback (most recent call last)",
      "\u001b[1;32m<ipython-input-23-9c7ca8046ed4>\u001b[0m in \u001b[0;36m<module>\u001b[1;34m\u001b[0m\n\u001b[0;32m      1\u001b[0m \u001b[0mdict\u001b[0m\u001b[1;33m=\u001b[0m\u001b[1;33m{\u001b[0m\u001b[1;34m'first_name'\u001b[0m\u001b[1;33m:\u001b[0m\u001b[1;34m'frodo'\u001b[0m\u001b[1;33m,\u001b[0m\u001b[1;34m'last_name'\u001b[0m\u001b[1;33m:\u001b[0m\u001b[1;34m'beggins'\u001b[0m\u001b[1;33m}\u001b[0m\u001b[1;33m\u001b[0m\u001b[1;33m\u001b[0m\u001b[0m\n\u001b[1;32m----> 2\u001b[1;33m \u001b[0mx\u001b[0m\u001b[1;33m=\u001b[0m\u001b[0mdict\u001b[0m\u001b[1;33m.\u001b[0m\u001b[0mpop\u001b[0m\u001b[1;33m(\u001b[0m\u001b[1;34m'1st_name'\u001b[0m\u001b[1;33m)\u001b[0m\u001b[1;33m\u001b[0m\u001b[1;33m\u001b[0m\u001b[0m\n\u001b[0m",
      "\u001b[1;31mKeyError\u001b[0m: '1st_name'"
     ]
    }
   ],
   "source": [
    "dict={'first_name':'frodo','last_name':'beggins'}\n",
    "x=dict.pop('1st_name')"
   ]
  },
  {
   "cell_type": "code",
   "execution_count": 27,
   "id": "d7262284",
   "metadata": {},
   "outputs": [
    {
     "name": "stdout",
     "output_type": "stream",
     "text": [
      "{'one': '1', 'two': 2, 'three': 3, 1: 'one'}\n"
     ]
    }
   ],
   "source": [
    "numbers={'one':1,'two':2,'three':3}\n",
    "numbers.update({1:'one'})\n",
    "numbers['one']='1'\n",
    "print(numbers)"
   ]
  },
  {
   "cell_type": "code",
   "execution_count": 1,
   "id": "7349efe2",
   "metadata": {},
   "outputs": [
    {
     "name": "stdout",
     "output_type": "stream",
     "text": [
      "('Sadman Shakib', 3, 'Sadman Shakib', 3, 'Sadman Shakib', 3)\n"
     ]
    }
   ],
   "source": [
    "name=('Sadman Shakib',3)\n",
    "print(name*3)"
   ]
  },
  {
   "cell_type": "code",
   "execution_count": 2,
   "id": "0dfe3fd6",
   "metadata": {},
   "outputs": [
    {
     "name": "stdout",
     "output_type": "stream",
     "text": [
      "('mouse', [8, 5, 6], (1, 2, 3))\n"
     ]
    }
   ],
   "source": [
    "n_tuple= ('mouse',  [8,4,6], (1,2,3))\n",
    "n_tuple[-2][1]=5\n",
    "print(n_tuple)"
   ]
  },
  {
   "cell_type": "markdown",
   "id": "b5a551b1",
   "metadata": {},
   "source": [
    "Write a function that takes a list as an argument. The list will contain a \n",
    "mixture of integers and letters. Your function should return a modified \n",
    "list so that --\n",
    "If the number of integers is twice the number of letters, then the list \n",
    "should contain 2 integers followed by 1 letter consecutively.\n",
    "If the number of letters is 3 times the number of integers (the ratio is \n",
    "3:1), then the list should contain 3 letters followed by 1 integer \n",
    "consecutively.\n",
    "For other cases, arrange the integers and letters alternatively.\n",
    "================================================\n",
    "\n",
    "Function Call1:\n",
    "function_name(['2', 'r', '6', '7', 'a', '4', 'b', '7', '9', 'c', 'd', '5', '3', '7', '0'])\n",
    "Sample Output1:\n",
    "['2', '6', 'r', '7', '4', 'a', '7', '9', 'b', '5', '3', 'c', '7', '0', 'd']\n",
    "\n",
    "Explanation1:\n",
    "Since there are 10 integers and 5 letters, the list has been arranged \n",
    "according to condition 1.\n",
    "\n",
    "================================================\n",
    "\n",
    "Function Call2:\n",
    "function_name(['r', 'g', '3', 'u', 's', 'f', '8', '6', 's', 'a', 'f', 'i'])\n",
    "Sample Output2:\n",
    "['r', 'g', 'u', '3', 's', 'f', 's', '8', 'a', 'f', 'i', '6']\n",
    "\n",
    "Explanation2:\n",
    "Since there are 3 integers and 9 letters, the list has been arranged \n",
    "according to condition 2.\n",
    "\n",
    "================================================\n",
    "Function Call3:\n",
    "function_name(['2', '6', 't', '5', 'a', 'd', 's', 'f', '7', 'i', 'j', '9', 'a', '4', 'b'])\n",
    "Sample Output3:\n",
    "['2', 't', '6', 'a', '5', 'd', '7', 's', '9', 'f', '4', 'i', 'j', 'a', 'b']\n",
    "\n",
    "Explanation3:\n",
    "Since there are 6 integers and 9 letters, the list has been arranged \n",
    "according to condition 3. The extra letters at the end are left as it was."
   ]
  },
  {
   "cell_type": "code",
   "execution_count": 7,
   "id": "da79cc93",
   "metadata": {},
   "outputs": [
    {
     "name": "stdout",
     "output_type": "stream",
     "text": [
      "['r', 'a', 'b', 'c', 'd']\n"
     ]
    }
   ],
   "source": [
    "def function_name(a_list):\n",
    "    int_count = 0\n",
    "    alpha_count = 0\n",
    "    int_list = []\n",
    "    alpha_list = []\n",
    "    for i in a_list:\n",
    "        if 48 <= ord(i) <= 57:\n",
    "            int_count += 1\n",
    "            int_list.append(i)\n",
    "        else:\n",
    "            alpha_count += 1\n",
    "            alpha_list.append(i)\n",
    "\n",
    "    result = []\n",
    "    if int_count == 2*(alpha_count):\n",
    "\n",
    "            index = 0\n",
    "            if index%3!=0: \n",
    "                for counter in range(len(int_list)):\n",
    "                    result.append(int_list[counter])\n",
    "                    index+=1\n",
    "            else:\n",
    "                for counter in range(len(alpha_list)):\n",
    "                    result.append(alpha_list[counter])\n",
    "                    index+=1\n",
    "\n",
    "    \n",
    "    return result\n",
    "\n",
    "user_list = ['2', 'r', '6', '7', 'a', '4', 'b', '7', '9', 'c', 'd', '5', '3', '7', '0']\n",
    "print(function_name(user_list))"
   ]
  },
  {
   "cell_type": "code",
   "execution_count": null,
   "id": "c40c27cb",
   "metadata": {},
   "outputs": [],
   "source": [
    "    elif alpha_count == 3*(int_count):\n",
    "\n",
    "    else:"
   ]
  },
  {
   "cell_type": "code",
   "execution_count": 12,
   "id": "2096930e",
   "metadata": {},
   "outputs": [
    {
     "name": "stdout",
     "output_type": "stream",
     "text": [
      "['1', '2', 'a', '2', '3', 'b', '3', '4', 'c']\n"
     ]
    }
   ],
   "source": [
    "def fun(lst):\n",
    "    num=[]\n",
    "    letter=[]\n",
    "    new=[]\n",
    "    x=''\n",
    "    for i in lst:\n",
    "        if '0'<=str(i)<='9':\n",
    "            num.append(i)\n",
    "        elif 'a'<=i<='z':\n",
    "            letter.append(i)\n",
    "    if len(num)==2*len(letter):\n",
    "        for i in range(len(letter)):\n",
    "            x=x+str(num[i])+' '+str(num[i+1])+' '+letter[i]+' '\n",
    "    elif len(letter)==3*len(num):\n",
    "        for i in range(len(num)):\n",
    "            x=x+str(letter[i])+' '+letter[i+1]+' '+letter[i+2]+' '+str(num[i])+' '\n",
    "        else:\n",
    "            if len(letter)>len(num):\n",
    "                for i in range(len(num)):\n",
    "                    x=x+str(letter[i])+' '+str(num[i])+' '\n",
    "            elif len(letter)<=len(num):\n",
    "                for i in range(len(letter)):\n",
    "                    x=x+str(letter[i])+' '+str(num[i])+' '\n",
    "    y=x.split()\n",
    "    return y\n",
    "print(fun([1,2,3,4,5,6,'a','b','c']))"
   ]
  },
  {
   "cell_type": "code",
   "execution_count": 4,
   "id": "d9bf3e76",
   "metadata": {},
   "outputs": [
    {
     "name": "stdout",
     "output_type": "stream",
     "text": [
      "2\n",
      "I love Python Programming.\n",
      "\n",
      "It is very easy to understand the code.\n",
      "\n"
     ]
    }
   ],
   "source": [
    "file_handler = open(file =\"A8Task1.txt\",mode =\"r\")\n",
    "line_limit = int(input())\n",
    "for line in range(line_limit):\n",
    "    print(file_handler.readline())\n",
    "file_handler.close()\n"
   ]
  },
  {
   "cell_type": "code",
   "execution_count": 5,
   "id": "d2e521db",
   "metadata": {},
   "outputs": [
    {
     "name": "stdout",
     "output_type": "stream",
     "text": [
      "2\n",
      "I love Python Programming.\n",
      "It is very easy to understand the code.\n"
     ]
    }
   ],
   "source": [
    "file_handler = open(file =\"A8Task1.txt\",mode =\"r\")\n",
    "line_limit = int(input())\n",
    "for line in range(line_limit):\n",
    "    x=file_handler.readline().strip()\n",
    "    print(x)\n",
    "file_handler.close()\n"
   ]
  },
  {
   "cell_type": "code",
   "execution_count": null,
   "id": "91577544",
   "metadata": {},
   "outputs": [],
   "source": []
  },
  {
   "cell_type": "code",
   "execution_count": null,
   "id": "cb8e7fe4",
   "metadata": {},
   "outputs": [],
   "source": []
  },
  {
   "cell_type": "code",
   "execution_count": null,
   "id": "4cfaeac4",
   "metadata": {},
   "outputs": [],
   "source": []
  },
  {
   "cell_type": "code",
   "execution_count": null,
   "id": "d941dfbd",
   "metadata": {},
   "outputs": [],
   "source": []
  }
 ],
 "metadata": {
  "kernelspec": {
   "display_name": "Python 3",
   "language": "python",
   "name": "python3"
  },
  "language_info": {
   "codemirror_mode": {
    "name": "ipython",
    "version": 3
   },
   "file_extension": ".py",
   "mimetype": "text/x-python",
   "name": "python",
   "nbconvert_exporter": "python",
   "pygments_lexer": "ipython3",
   "version": "3.8.8"
  }
 },
 "nbformat": 4,
 "nbformat_minor": 5
}
