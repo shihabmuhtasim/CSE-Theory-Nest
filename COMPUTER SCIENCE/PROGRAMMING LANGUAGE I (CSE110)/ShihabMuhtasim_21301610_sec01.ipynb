{
 "cells": [
  {
   "cell_type": "code",
   "execution_count": 25,
   "id": "f4da63e7",
   "metadata": {},
   "outputs": [
    {
     "name": "stdout",
     "output_type": "stream",
     "text": [
      "Enter the value of M100\n",
      "Enter the value of N4\n",
      "Enter the value of P1\n",
      "100\n"
     ]
    }
   ],
   "source": [
    "#1\n",
    "m=int(input(\"Enter the value of M\"))\n",
    "n=int(input(\"Enter the value of N\"))\n",
    "p=int(input(\"Enter the value of P\"))\n",
    "#while (10<30):\n",
    "x=p//n\n",
    "et=x*m\n",
    "eat=et*x\n",
    "if (eat<10):\n",
    "    print(m+et+eat) "
   ]
  },
  {
   "cell_type": "code",
   "execution_count": 22,
   "id": "96a60ca8",
   "metadata": {},
   "outputs": [
    {
     "name": "stdout",
     "output_type": "stream",
     "text": [
      "Please enter a word:programming\n",
      "p r o g 114 97 109 m i n g \n"
     ]
    }
   ],
   "source": [
    "#2\n",
    "word=input(\"Please enter a word:\")\n",
    "if len(word)<4:\n",
    "    print(word)\n",
    "       \n",
    "else:\n",
    "    if len(word)%2==0:\n",
    "        word1=word[:len(word)//2-1]\n",
    "        word2=word[len(word)//2+1:]\n",
    "        asci=(word[(len(word)//2)-1:(len(word)//2)+1])\n",
    "        value=\"\"\n",
    "        for i in asci:\n",
    "            value+=str(ord(i))\n",
    "            value+=\" \"\n",
    "        new_word1 = ''\n",
    "        for j in range(len(word1)):\n",
    "            new_word1 += word1[j]\n",
    "            new_word1 += ' '\n",
    "        new_word2=''\n",
    "        for k in range(len(word2)):\n",
    "            new_word2+=word2[k]\n",
    "            new_word2+=' '\n",
    "        new=new_word1+value+new_word2\n",
    "        print(new)\n",
    "    else:\n",
    "        word1=word[:len(word)//2-1]\n",
    "        word2=word[len(word)//2+2:]\n",
    "        asci=(word[(len(word)//2)-1:(len(word)//2)+2])\n",
    "        value=\"\"\n",
    "        for i in asci:\n",
    "            value+=str(ord(i))\n",
    "            value+=\" \"\n",
    "        new_word1 = ''\n",
    "        for j in range(len(word1)):\n",
    "            new_word1 += word1[j]\n",
    "            new_word1 += ' '\n",
    "        new_word2=''\n",
    "        for k in range(len(word2)):\n",
    "            new_word2+=word2[k]\n",
    "            new_word2+=' '\n",
    "        new=new_word1+value+new_word2\n",
    "        print(new)\n",
    "        "
   ]
  }
 ],
 "metadata": {
  "kernelspec": {
   "display_name": "Python 3",
   "language": "python",
   "name": "python3"
  },
  "language_info": {
   "codemirror_mode": {
    "name": "ipython",
    "version": 3
   },
   "file_extension": ".py",
   "mimetype": "text/x-python",
   "name": "python",
   "nbconvert_exporter": "python",
   "pygments_lexer": "ipython3",
   "version": "3.8.8"
  }
 },
 "nbformat": 4,
 "nbformat_minor": 5
}
