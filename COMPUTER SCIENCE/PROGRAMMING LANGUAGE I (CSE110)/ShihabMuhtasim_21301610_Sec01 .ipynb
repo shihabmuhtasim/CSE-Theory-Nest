{
 "cells": [
  {
   "cell_type": "raw",
   "id": "84bb3b11",
   "metadata": {},
   "source": [
    "# Name: Shihab Muhtasim\n",
    "ID: 21301610\n",
    "Sec: 01"
   ]
  },
  {
   "cell_type": "code",
   "execution_count": 6,
   "id": "fc859d11",
   "metadata": {},
   "outputs": [
    {
     "name": "stdout",
     "output_type": "stream",
     "text": [
      "Please enter letters seperated by spaces:CSE110 is the first course of CSE\n",
      "Output:\n",
      "['CSE110', 'is', 'the', 'first', 'course', 'of', 'CSE']\n",
      "011ESC si eht tsrif esruoc fo ESC "
     ]
    }
   ],
   "source": [
    "user=input(\"Please enter letters seperated by spaces:\")\n",
    "list=user.split()\n",
    "print(\"Output:\")\n",
    "print(list)\n",
    "final=[]\n",
    "for elem in list:\n",
    "    x=elem[::-1]\n",
    "    final.append(x)\n",
    "for i in final:\n",
    "    print(i,end=\" \")\n",
    "        \n",
    "        "
   ]
  }
 ],
 "metadata": {
  "kernelspec": {
   "display_name": "Python 3",
   "language": "python",
   "name": "python3"
  },
  "language_info": {
   "codemirror_mode": {
    "name": "ipython",
    "version": 3
   },
   "file_extension": ".py",
   "mimetype": "text/x-python",
   "name": "python",
   "nbconvert_exporter": "python",
   "pygments_lexer": "ipython3",
   "version": "3.8.8"
  }
 },
 "nbformat": 4,
 "nbformat_minor": 5
}
