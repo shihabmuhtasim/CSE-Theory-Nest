{
 "cells": [
  {
   "cell_type": "markdown",
   "metadata": {
    "id": "nQE6Ea-5bqUI"
   },
   "source": [
    "# ***Derivatives are used in machine learning to solve optimization issues like gradient descent to decide whether to raise or decrease weights when a function approaches its maximum or minimum. This lab will cover how these functions are used in Python***"
   ]
  },
  {
   "cell_type": "markdown",
   "metadata": {
    "id": "OIpG3uEQ3ljt"
   },
   "source": [
    "##**Working with one variable only**\n"
   ]
  },
  {
   "cell_type": "markdown",
   "metadata": {
    "id": "5pkPOEZzd0cu"
   },
   "source": [
    "*Symbolic differentiation manipulates a given equation, using various rules, to produce the derivative of that equation.*"
   ]
  },
  {
   "cell_type": "code",
   "execution_count": null,
   "metadata": {
    "id": "9TDI--Y98yJ7"
   },
   "outputs": [],
   "source": [
    "Name=\"Shihab Muhtasim\"\n",
    "ID=\"21301610\"\n",
    "Section=\"21\""
   ]
  },
  {
   "cell_type": "code",
   "execution_count": 1,
   "metadata": {
    "colab": {
     "base_uri": "https://localhost:8080/"
    },
    "id": "MdHqB4BvwYRo",
    "outputId": "1bf173cb-ce94-4e00-f3ba-e6f3fdc9ed4f"
   },
   "outputs": [
    {
     "name": "stdout",
     "output_type": "stream",
     "text": [
      "6*x**2 + 2*x + 3\n",
      "2*(6*x + 1)\n",
      "161\n",
      "107\n",
      "161.000000000000\n"
     ]
    }
   ],
   "source": [
    "#Import sympy\n",
    "from sympy import* \n",
    "\n",
    "#Make a symbol\n",
    "x= symbols('x')\n",
    "\n",
    "#Write symbolic expression\n",
    "f = 2*x**3+ x**2 + 3*x+ 5\n",
    "\n",
    "#taking the first derivative of the function\n",
    "df= diff(f,x)\n",
    "\n",
    "#taking the nth derivative of the function (passing the third argument)\n",
    "df2= diff(f,x,2) \n",
    "\n",
    "#printing\n",
    "\n",
    "print(df)\n",
    "\n",
    "print(df2)\n",
    "\n",
    "#Substituting values into expressions\n",
    "print(f.subs(x,4))\n",
    "\n",
    "print(df.subs(x,4))\n",
    "\n",
    "#For evaluating a numerical expression into a floating point number use \"evalf\"\n",
    "\n",
    "print(f.subs(x,4).evalf())\n",
    "\n"
   ]
  },
  {
   "cell_type": "markdown",
   "metadata": {
    "id": "glPTXBEd3Ntc"
   },
   "source": [
    "##**Working with multiple variables**\n",
    "\n"
   ]
  },
  {
   "cell_type": "code",
   "execution_count": 2,
   "metadata": {
    "colab": {
     "base_uri": "https://localhost:8080/"
    },
    "id": "IWaMkdXZ0IR1",
    "outputId": "9bbc4b8c-9f79-4c6c-ba42-47649c9b558c"
   },
   "outputs": [
    {
     "name": "stdout",
     "output_type": "stream",
     "text": [
      "40\n",
      "3*x**2 + 4*y\n",
      "6*x\n"
     ]
    }
   ],
   "source": [
    "x,y,z= symbols(\"x y z\")\n",
    "\n",
    "expr = x**3 + 4*x*y - z\n",
    "\n",
    "#performing multiple substitutions at once\n",
    "exprValue= expr.subs([(x, 2), (y, 4), (z, 0)]) #putting values of x and y and z\n",
    "\n",
    "dfExpr = diff(expr,x)\n",
    "\n",
    "df2Expr = diff(expr,x,2)\n",
    "\n",
    "##printing\n",
    "\n",
    "print(exprValue)\n",
    "\n",
    "print(dfExpr)\n",
    "\n",
    "print(df2Expr)"
   ]
  },
  {
   "cell_type": "markdown",
   "metadata": {
    "id": "ZVip02BTIV8k"
   },
   "source": [
    "##**The lambdify function**\n",
    "(Coverting SymPy expression to a numerical expression)\n"
   ]
  },
  {
   "cell_type": "code",
   "execution_count": 3,
   "metadata": {
    "colab": {
     "base_uri": "https://localhost:8080/"
    },
    "id": "CedyHECt3KlH",
    "outputId": "15e36bf5-6849-4ad4-9ab4-6ff0cd8fda0c"
   },
   "outputs": [
    {
     "name": "stdout",
     "output_type": "stream",
     "text": [
      "77\n",
      "63\n"
     ]
    }
   ],
   "source": [
    "f = lambdify(x, f) #converting SymPy expression to a numerical expression\n",
    "\n",
    "df = lambdify(x, df)\n",
    "\n",
    "\n",
    "print(f(3))    \n",
    "\n",
    "#print(f(4))\n",
    "\n",
    "print(df(3))   "
   ]
  },
  {
   "cell_type": "markdown",
   "metadata": {
    "id": "e9VnYPlhRc11"
   },
   "source": [
    "##**The lambdify function create options for evaluating expressions, including using other libraries like NumPy and SciPy.**"
   ]
  },
  {
   "cell_type": "code",
   "execution_count": null,
   "metadata": {
    "colab": {
     "base_uri": "https://localhost:8080/"
    },
    "id": "t0GJEE2gIkQU",
    "outputId": "d1854ff3-5be2-43cc-e9e7-701753023cad"
   },
   "outputs": [
    {
     "name": "stdout",
     "output_type": "stream",
     "text": [
      "[-5 -4 -3 -2 -1  0  1  2  3  4  5]\n",
      "[143  91  51  23   7   3  11  31  63 107 163]\n"
     ]
    }
   ],
   "source": [
    "import numpy as np\n",
    "\n",
    "test_numbers = np.arange(-5,6)   \n",
    "\n",
    "a=df(test_numbers)\n",
    "print(test_numbers)\n",
    "\n",
    "print(a)"
   ]
  },
  {
   "cell_type": "markdown",
   "metadata": {
    "id": "xEyEtGx9omt6"
   },
   "source": [
    "# **Plotting**"
   ]
  },
  {
   "cell_type": "markdown",
   "metadata": {
    "id": "16PcFEgAQoWV"
   },
   "source": [
    "**Plotting the Curve**"
   ]
  },
  {
   "cell_type": "code",
   "execution_count": null,
   "metadata": {
    "colab": {
     "base_uri": "https://localhost:8080/",
     "height": 295
    },
    "id": "ld7dJa5_QN3D",
    "outputId": "f3963f8b-71ef-4b95-cbff-463b9c76f09b"
   },
   "outputs": [
    {
     "data": {
      "image/png": "[encoded data removed]",
      "text/plain": [
       "<Figure size 432x288 with 1 Axes>"
      ]
     },
     "metadata": {
      "needs_background": "light"
     },
     "output_type": "display_data"
    }
   ],
   "source": [
    "\n",
    "# importing the required module\n",
    "import matplotlib.pyplot as plt\n",
    "\n",
    "# plotting the points \n",
    "plt.plot(test_numbers, a)\n",
    "  \n",
    "# naming the x axis\n",
    "plt.xlabel('x - axis')\n",
    "\n",
    "# # naming the y axis\n",
    "plt.ylabel('y - axis')\n",
    "  \n",
    "# giving a title to the graph\n",
    "\n",
    "plt.title('Shape of the Function')\n",
    "  \n",
    "# Plotting the graph\n",
    "plt.show()"
   ]
  },
  {
   "cell_type": "markdown",
   "metadata": {
    "id": "6xgj0VM1ndKz"
   },
   "source": [
    "##**Assignment 1** \n",
    "\n",
    "Plot the graph and then, find the minima and maxima of the following functions at the given interval for, \n",
    "\n",
    "$1. y= 9x^3−7x^2+3x+10 , [-5, 6]$\n",
    "\n",
    "$2. y= ln (x) , [-5, 6]$\n",
    "\n",
    "$3. y= sin (x) , [-5, 6]$\n",
    "\n",
    "$4. y= cos (x) , [-5, 6]$\n",
    "\n",
    "$5. y= tan (x) , [-5, 6]$\n",
    "\n"
   ]
  },
  {
   "cell_type": "code",
   "execution_count": 1,
   "metadata": {
    "colab": {
     "base_uri": "https://localhost:8080/",
     "height": 347
    },
    "id": "9ffVPs2dtR8m",
    "outputId": "9d921d50-1dbe-4e7e-cd9b-03fc5f1b454e"
   },
   "outputs": [
    {
     "name": "stdout",
     "output_type": "stream",
     "text": [
      "[-5 -4 -3 -2 -1  0  1  2  3  4  5  6]\n",
      "[-235 -119  -49  -13    1    5   11   31   77  161  295  491]\n"
     ]
    },
    {
     "data": {
      "image/png": "[encoded data removed]",
      "text/plain": [
       "<Figure size 432x288 with 1 Axes>"
      ]
     },
     "metadata": {
      "needs_background": "light"
     },
     "output_type": "display_data"
    }
   ],
   "source": [
    "#Example\n",
    "\n",
    "from sympy import* \n",
    "import numpy as np\n",
    "import matplotlib.pyplot as plt\n",
    "import math\n",
    "\n",
    "x= symbols('x')\n",
    "\n",
    "f1 = 2*x**3+ x**2 + 3*x+ 5\n",
    "f1 = lambdify(x, f1)\n",
    "data_x = np.arange(-5,7)\n",
    "data_y=f1(data_x)\n",
    "print(data_x)\n",
    "print(data_y)\n",
    "\n",
    "plt.plot(data_x, data_y)\n",
    "plt.xlabel('x - axis')\n",
    "plt.ylabel('y - axis')\n",
    "plt.title('y= 2x^3+ x^2 + 3^x+ 5')\n",
    "plt.show()"
   ]
  },
  {
   "cell_type": "code",
   "execution_count": 8,
   "metadata": {},
   "outputs": [
    {
     "name": "stdout",
     "output_type": "stream",
     "text": [
      "Maxima and minima calculation:\n",
      "1. x-axis= 7/27 - 4*sqrt(2)*I/27 y-axis= 97/9 - 4*sqrt(2)*I/9 + 9*(7/27 - 4*sqrt(2)*I/27)**3 - 7*(7/27 - 4*sqrt(2)*I/27)**2\n",
      "2. x-axis= 7/27 + 4*sqrt(2)*I/27 y-axis= 97/9 - 7*(7/27 + 4*sqrt(2)*I/27)**2 + 9*(7/27 + 4*sqrt(2)*I/27)**3 + 4*sqrt(2)*I/9\n",
      "Values of x and y:\n",
      "Values of x: [-5 -4 -3 -2 -1  0  1  2  3  4  5  6]\n",
      "Values of y: [-1305  -690  -305   -96    -9    10    15    60   199   486   975  1720]\n"
     ]
    },
    {
     "data": {
      "image/png": "[encoded data removed]",
      "text/plain": [
       "<Figure size 432x288 with 1 Axes>"
      ]
     },
     "metadata": {
      "needs_background": "light"
     },
     "output_type": "display_data"
    }
   ],
   "source": [
    "#Task1\n",
    "from sympy import*\n",
    "import numpy as np\n",
    "import matplotlib.pyplot as plt\n",
    "import math\n",
    "\n",
    "x= symbols('x')\n",
    "f1 = 9*x**3- 7*x**2 + 3*x+ 10\n",
    "#------------------------------------------------------------------------\n",
    "print(\"Maxima and minima calculation:\")\n",
    "diff_f1= diff(f1,x)\n",
    "x_vals= solve(diff_f1,x) #vals when f1'=0\n",
    "if len(x_vals) != 0:\n",
    "  for i in range(len(x_vals)):\n",
    "    print(f\"{i+1}. x-axis= {x_vals[i]} y-axis= {f1.subs(x,x_vals[i])}\") \n",
    "    #substituting x vals by vals of x when f1'=0 to get the y vals \n",
    "else:\n",
    "  print(\"There is no maxima or minima within this range\")\n",
    "#------------------------------------------------------------------------\n",
    "print(\"Values of x and y:\")\n",
    "\n",
    "f1 = lambdify(x, f1)\n",
    "data_x = np.arange(-5,7)\n",
    "data_y=f1(data_x)\n",
    "print(\"Values of x:\", data_x)\n",
    "print(\"Values of y:\", data_y)\n",
    "\n",
    "plt.plot(data_x, data_y)\n",
    "plt.xlabel('x - axis')\n",
    "plt.ylabel('y - axis')\n",
    "plt.title('y= 9x^3- 7x^2+ 3x+10')\n",
    "plt.show()"
   ]
  },
  {
   "cell_type": "code",
   "execution_count": 9,
   "metadata": {},
   "outputs": [
    {
     "name": "stdout",
     "output_type": "stream",
     "text": [
      "Maxima and minima calculation:\n",
      "There is no maxima or minima within this range\n",
      "Values of x and y:\n",
      "Values of x: [-5 -4 -3 -2 -1  0  1  2  3  4  5  6]\n",
      "Values of y: [       nan        nan        nan        nan        nan       -inf\n",
      " 0.         0.69314718 1.09861229 1.38629436 1.60943791 1.79175947]\n"
     ]
    },
    {
     "name": "stderr",
     "output_type": "stream",
     "text": [
      "<lambdifygenerated-9>:2: RuntimeWarning: divide by zero encountered in log\n",
      "  return (log(x))\n",
      "<lambdifygenerated-9>:2: RuntimeWarning: invalid value encountered in log\n",
      "  return (log(x))\n"
     ]
    },
    {
     "data": {
      "image/png": "[encoded data removed]",
      "text/plain": [
       "<Figure size 432x288 with 1 Axes>"
      ]
     },
     "metadata": {
      "needs_background": "light"
     },
     "output_type": "display_data"
    }
   ],
   "source": [
    "#Task2\n",
    "from sympy import*\n",
    "import numpy as np\n",
    "import matplotlib.pyplot as plt\n",
    "import math\n",
    "\n",
    "x= symbols('x')\n",
    "f1 = ln(x)\n",
    "#------------------------------------------------------------------------\n",
    "print(\"Maxima and minima calculation:\")\n",
    "diff_f1= diff(f1,x)\n",
    "x_vals= solve(diff_f1,x) #vals when f1'=0\n",
    "if len(x_vals) != 0:\n",
    "  for i in range(len(x_vals)):\n",
    "    print(f\"{i+1}. x-axis= {x_vals[i]} y-axis= {f1.subs(x,x_vals[i])}\") \n",
    "    #substituting x vals by vals of x when f1'=0 to get the y vals \n",
    "else:\n",
    "  print(\"There is no maxima or minima within this range\")\n",
    "#------------------------------------------------------------------------\n",
    "print(\"Values of x and y:\")\n",
    "f1 = lambdify(x, f1)\n",
    "data_x = np.arange(-5,7)\n",
    "data_y=f1(data_x)\n",
    "print(\"Values of x:\", data_x)\n",
    "print(\"Values of y:\", data_y)\n",
    "\n",
    "plt.plot(data_x, data_y)\n",
    "plt.xlabel('x - axis')\n",
    "plt.ylabel('y - axis')\n",
    "plt.title('y= ln(x)')\n",
    "plt.show()"
   ]
  },
  {
   "cell_type": "code",
   "execution_count": 10,
   "metadata": {},
   "outputs": [
    {
     "name": "stdout",
     "output_type": "stream",
     "text": [
      "Maxima and minima calculation:\n",
      "1. x-axis= pi/2 y-axis= 1\n",
      "2. x-axis= 3*pi/2 y-axis= -1\n",
      "Values of x and y:\n",
      "Values of x: [-5 -4 -3 -2 -1  0  1  2  3  4  5  6]\n",
      "Values of y: [ 0.95892427  0.7568025  -0.14112001 -0.90929743 -0.84147098  0.\n",
      "  0.84147098  0.90929743  0.14112001 -0.7568025  -0.95892427 -0.2794155 ]\n"
     ]
    },
    {
     "data": {
      "image/png": "[encoded data removed]",
      "text/plain": [
       "<Figure size 432x288 with 1 Axes>"
      ]
     },
     "metadata": {
      "needs_background": "light"
     },
     "output_type": "display_data"
    }
   ],
   "source": [
    "#Task3\n",
    "from sympy import*\n",
    "import numpy as np\n",
    "import matplotlib.pyplot as plt\n",
    "import math\n",
    "\n",
    "x= symbols('x')\n",
    "f1 = sin(x)\n",
    "#------------------------------------------------------------------------\n",
    "print(\"Maxima and minima calculation:\")\n",
    "diff_f1= diff(f1,x)\n",
    "x_vals= solve(diff_f1,x) #vals when f1'=0\n",
    "if len(x_vals) != 0:\n",
    "  for i in range(len(x_vals)):\n",
    "    print(f\"{i+1}. x-axis= {x_vals[i]} y-axis= {f1.subs(x,x_vals[i])}\") \n",
    "    #substituting x vals by vals of x when f1'=0 to get the y vals \n",
    "else:\n",
    "  print(\"There is no maxima or minima within this range\")\n",
    "#------------------------------------------------------------------------\n",
    "print(\"Values of x and y:\")\n",
    "f1 = lambdify(x, f1)\n",
    "data_x = np.arange(-5,7)\n",
    "data_y=f1(data_x)\n",
    "print(\"Values of x:\", data_x)\n",
    "print(\"Values of y:\", data_y)\n",
    "\n",
    "plt.plot(data_x, data_y)\n",
    "plt.xlabel('x - axis')\n",
    "plt.ylabel('y - axis')\n",
    "plt.title('y= sin(x)')\n",
    "plt.show()"
   ]
  },
  {
   "cell_type": "code",
   "execution_count": 11,
   "metadata": {},
   "outputs": [
    {
     "name": "stdout",
     "output_type": "stream",
     "text": [
      "Maxima and minima calculation:\n",
      "1. x-axis= 0 y-axis= 1\n",
      "2. x-axis= pi y-axis= -1\n",
      "Values of x and y:\n",
      "Values of x: [-5 -4 -3 -2 -1  0  1  2  3  4  5  6]\n",
      "Values of y: [ 0.28366219 -0.65364362 -0.9899925  -0.41614684  0.54030231  1.\n",
      "  0.54030231 -0.41614684 -0.9899925  -0.65364362  0.28366219  0.96017029]\n"
     ]
    },
    {
     "data": {
      "image/png": "[encoded data removed]",
      "text/plain": [
       "<Figure size 432x288 with 1 Axes>"
      ]
     },
     "metadata": {
      "needs_background": "light"
     },
     "output_type": "display_data"
    }
   ],
   "source": [
    "#Task4\n",
    "from sympy import*\n",
    "import numpy as np\n",
    "import matplotlib.pyplot as plt\n",
    "import math\n",
    "\n",
    "x= symbols('x')\n",
    "f1 = cos(x)\n",
    "#------------------------------------------------------------------------\n",
    "print(\"Maxima and minima calculation:\")\n",
    "diff_f1= diff(f1,x)\n",
    "x_vals= solve(diff_f1,x) #vals when f1'=0\n",
    "if len(x_vals) != 0:\n",
    "  for i in range(len(x_vals)):\n",
    "    print(f\"{i+1}. x-axis= {x_vals[i]} y-axis= {f1.subs(x,x_vals[i])}\") \n",
    "    #substituting x vals by vals of x when f1'=0 to get the y vals \n",
    "else:\n",
    "  print(\"There is no maxima or minima within this range\")\n",
    "#------------------------------------------------------------------------\n",
    "print(\"Values of x and y:\")\n",
    "f1 = lambdify(x, f1)\n",
    "data_x = np.arange(-5,7)\n",
    "data_y=f1(data_x)\n",
    "print(\"Values of x:\", data_x)\n",
    "print(\"Values of y:\", data_y)\n",
    "\n",
    "plt.plot(data_x, data_y)\n",
    "plt.xlabel('x - axis')\n",
    "plt.ylabel('y - axis')\n",
    "plt.title('y= cos(x)')\n",
    "plt.show()"
   ]
  },
  {
   "cell_type": "code",
   "execution_count": 12,
   "metadata": {
    "id": "Tb-X6hV5AvC5"
   },
   "outputs": [
    {
     "name": "stdout",
     "output_type": "stream",
     "text": [
      "Maxima and minima calculation:\n",
      "There is no maxima or minima within this range\n",
      "Values of x and y:\n",
      "Values of x: [-5 -4 -3 -2 -1  0  1  2  3  4  5  6]\n",
      "Values of y: [ 3.38051501 -1.15782128  0.14254654  2.18503986 -1.55740772  0.\n",
      "  1.55740772 -2.18503986 -0.14254654  1.15782128 -3.38051501 -0.29100619]\n"
     ]
    },
    {
     "data": {
      "image/png": "[encoded data removed]",
      "text/plain": [
       "<Figure size 432x288 with 1 Axes>"
      ]
     },
     "metadata": {
      "needs_background": "light"
     },
     "output_type": "display_data"
    }
   ],
   "source": [
    "#Task5\n",
    "from sympy import*\n",
    "import numpy as np\n",
    "import matplotlib.pyplot as plt\n",
    "import math\n",
    "\n",
    "x= symbols('x')\n",
    "f1 = tan(x)\n",
    "#------------------------------------------------------------------------\n",
    "print(\"Maxima and minima calculation:\")\n",
    "diff_f1= diff(f1,x)\n",
    "x_vals= solve(diff_f1,x) #vals when f1'=0\n",
    "if len(x_vals) != 0:\n",
    "  for i in range(len(x_vals)):\n",
    "    print(f\"{i+1}. x-axis= {x_vals[i]} y-axis= {f1.subs(x,x_vals[i])}\") \n",
    "    #substituting x vals by vals of x when f1'=0 to get the y vals \n",
    "else:\n",
    "  print(\"There is no maxima or minima within this range\")\n",
    "#------------------------------------------------------------------------\n",
    "print(\"Values of x and y:\")\n",
    "f1 = lambdify(x, f1)\n",
    "data_x = np.arange(-5,7)\n",
    "data_y=f1(data_x)\n",
    "print(\"Values of x:\", data_x)\n",
    "print(\"Values of y:\", data_y)\n",
    "#--------------------------------------------------------------------------\n",
    "plt.plot(data_x, data_y)\n",
    "plt.xlabel('x - axis')\n",
    "plt.ylabel('y - axis')\n",
    "plt.title('y= tan(x)')\n",
    "plt.show()"
   ]
  }
 ],
 "metadata": {
  "colab": {
   "collapsed_sections": [],
   "name": "MAT120_Lab_2.ipynb",
   "provenance": []
  },
  "kernelspec": {
   "display_name": "Python 3",
   "language": "python",
   "name": "python3"
  },
  "language_info": {
   "codemirror_mode": {
    "name": "ipython",
    "version": 3
   },
   "file_extension": ".py",
   "mimetype": "text/x-python",
   "name": "python",
   "nbconvert_exporter": "python",
   "pygments_lexer": "ipython3",
   "version": "3.8.8"
  }
 },
 "nbformat": 4,
 "nbformat_minor": 1
}
